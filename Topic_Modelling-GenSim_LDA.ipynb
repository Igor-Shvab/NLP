{
 "cells": [
  {
   "cell_type": "markdown",
   "metadata": {},
   "source": [
    "https://www.machinelearningplus.com/nlp/topic-modeling-gensim-python/#13viewthetopicsinldamodel"
   ]
  },
  {
   "cell_type": "markdown",
   "metadata": {},
   "source": [
    "We will need the stopwords from NLTK and spacy’s en model for text pre-processing. Later, we will be using the spacy model for lemmatization.\n",
    "\n",
    "Lemmatization is nothing but converting a word to its root word."
   ]
  },
  {
   "cell_type": "code",
   "execution_count": 5,
   "metadata": {},
   "outputs": [
    {
     "name": "stdout",
     "output_type": "stream",
     "text": [
      "[nltk_data] Downloading package stopwords to /home/igor/nltk_data...\n",
      "[nltk_data]   Package stopwords is already up-to-date!\n"
     ]
    }
   ],
   "source": [
    "# Run in python console\n",
    "import nltk; nltk.download('stopwords')\n",
    "import re\n",
    "import numpy as np\n",
    "import pandas as pd\n",
    "from pprint import pprint\n",
    "\n",
    "# Gensim\n",
    "import gensim\n",
    "import gensim.corpora as corpora\n",
    "from gensim.utils import simple_preprocess\n",
    "from gensim.models import CoherenceModel\n",
    "\n",
    "# spacy for lemmatization\n",
    "import spacy\n",
    "\n",
    "# Plotting tools\n",
    "import pyLDAvis\n",
    "import pyLDAvis.gensim  # don't skip this\n",
    "import matplotlib.pyplot as plt\n",
    "%matplotlib inline\n",
    "\n",
    "# Enable logging for gensim - optional\n",
    "import logging\n",
    "logging.basicConfig(format='%(asctime)s : %(levelname)s : %(message)s', level=logging.ERROR)\n",
    "\n",
    "import warnings\n",
    "warnings.filterwarnings(\"ignore\",category=DeprecationWarning)"
   ]
  },
  {
   "cell_type": "code",
   "execution_count": 6,
   "metadata": {
    "collapsed": true
   },
   "outputs": [],
   "source": [
    "# NLTK Stop words\n",
    "from nltk.corpus import stopwords\n",
    "stop_words = stopwords.words('english')\n",
    "stop_words.extend(['from', 'subject', 're', 'edu', 'use'])"
   ]
  },
  {
   "cell_type": "markdown",
   "metadata": {},
   "source": [
    "**We will be using the 20-Newsgroups dataset for this exercise. This version of the dataset contains about 11k newsgroups posts from 20 different topics. This is available as [newsgroups.json](https://raw.githubusercontent.com/selva86/datasets/master/newsgroups.json).**"
   ]
  },
  {
   "cell_type": "code",
   "execution_count": 7,
   "metadata": {},
   "outputs": [
    {
     "name": "stdout",
     "output_type": "stream",
     "text": [
      "['rec.autos' 'comp.sys.mac.hardware' 'rec.motorcycles' 'misc.forsale'\n",
      " 'comp.os.ms-windows.misc' 'alt.atheism' 'comp.graphics'\n",
      " 'rec.sport.baseball' 'rec.sport.hockey' 'sci.electronics' 'sci.space'\n",
      " 'talk.politics.misc' 'sci.med' 'talk.politics.mideast'\n",
      " 'soc.religion.christian' 'comp.windows.x' 'comp.sys.ibm.pc.hardware'\n",
      " 'talk.politics.guns' 'talk.religion.misc' 'sci.crypt']\n"
     ]
    },
    {
     "data": {
      "text/html": [
       "<div>\n",
       "<style>\n",
       "    .dataframe thead tr:only-child th {\n",
       "        text-align: right;\n",
       "    }\n",
       "\n",
       "    .dataframe thead th {\n",
       "        text-align: left;\n",
       "    }\n",
       "\n",
       "    .dataframe tbody tr th {\n",
       "        vertical-align: top;\n",
       "    }\n",
       "</style>\n",
       "<table border=\"1\" class=\"dataframe\">\n",
       "  <thead>\n",
       "    <tr style=\"text-align: right;\">\n",
       "      <th></th>\n",
       "      <th>content</th>\n",
       "      <th>target</th>\n",
       "      <th>target_names</th>\n",
       "    </tr>\n",
       "  </thead>\n",
       "  <tbody>\n",
       "    <tr>\n",
       "      <th>0</th>\n",
       "      <td>From: lerxst@wam.umd.edu (where's my thing)\\nS...</td>\n",
       "      <td>7</td>\n",
       "      <td>rec.autos</td>\n",
       "    </tr>\n",
       "    <tr>\n",
       "      <th>1</th>\n",
       "      <td>From: guykuo@carson.u.washington.edu (Guy Kuo)...</td>\n",
       "      <td>4</td>\n",
       "      <td>comp.sys.mac.hardware</td>\n",
       "    </tr>\n",
       "    <tr>\n",
       "      <th>10</th>\n",
       "      <td>From: irwin@cmptrc.lonestar.org (Irwin Arnstei...</td>\n",
       "      <td>8</td>\n",
       "      <td>rec.motorcycles</td>\n",
       "    </tr>\n",
       "    <tr>\n",
       "      <th>100</th>\n",
       "      <td>From: tchen@magnus.acs.ohio-state.edu (Tsung-K...</td>\n",
       "      <td>6</td>\n",
       "      <td>misc.forsale</td>\n",
       "    </tr>\n",
       "    <tr>\n",
       "      <th>1000</th>\n",
       "      <td>From: dabl2@nlm.nih.gov (Don A.B. Lindbergh)\\n...</td>\n",
       "      <td>2</td>\n",
       "      <td>comp.os.ms-windows.misc</td>\n",
       "    </tr>\n",
       "  </tbody>\n",
       "</table>\n",
       "</div>"
      ],
      "text/plain": [
       "                                                content  target  \\\n",
       "0     From: lerxst@wam.umd.edu (where's my thing)\\nS...       7   \n",
       "1     From: guykuo@carson.u.washington.edu (Guy Kuo)...       4   \n",
       "10    From: irwin@cmptrc.lonestar.org (Irwin Arnstei...       8   \n",
       "100   From: tchen@magnus.acs.ohio-state.edu (Tsung-K...       6   \n",
       "1000  From: dabl2@nlm.nih.gov (Don A.B. Lindbergh)\\n...       2   \n",
       "\n",
       "                 target_names  \n",
       "0                   rec.autos  \n",
       "1       comp.sys.mac.hardware  \n",
       "10            rec.motorcycles  \n",
       "100              misc.forsale  \n",
       "1000  comp.os.ms-windows.misc  "
      ]
     },
     "execution_count": 7,
     "metadata": {},
     "output_type": "execute_result"
    }
   ],
   "source": [
    "# Import Dataset\n",
    "df = pd.read_json('https://raw.githubusercontent.com/selva86/datasets/master/newsgroups.json')\n",
    "print(df.target_names.unique())\n",
    "df.head()"
   ]
  },
  {
   "cell_type": "markdown",
   "metadata": {},
   "source": [
    "### Remove emails and newline characters"
   ]
  },
  {
   "cell_type": "code",
   "execution_count": 8,
   "metadata": {},
   "outputs": [
    {
     "name": "stdout",
     "output_type": "stream",
     "text": [
      "['From: (wheres my thing) Subject: WHAT car is this!? Nntp-Posting-Host: '\n",
      " 'rac3.wam.umd.edu Organization: University of Maryland, College Park Lines: '\n",
      " '15 I was wondering if anyone out there could enlighten me on this car I saw '\n",
      " 'the other day. It was a 2-door sports car, looked to be from the late 60s/ '\n",
      " 'early 70s. It was called a Bricklin. The doors were really small. In '\n",
      " 'addition, the front bumper was separate from the rest of the body. This is '\n",
      " 'all I know. If anyone can tellme a model name, engine specs, years of '\n",
      " 'production, where this car is made, history, or whatever info you have on '\n",
      " 'this funky looking car, please e-mail. Thanks, - IL ---- brought to you by '\n",
      " 'your neighborhood Lerxst ---- ']\n"
     ]
    }
   ],
   "source": [
    "# Convert to list\n",
    "data = df.content.values.tolist()\n",
    "\n",
    "# Remove Emails\n",
    "data = [re.sub('\\S*@\\S*\\s?', '', sent) for sent in data]\n",
    "\n",
    "# Remove new line characters\n",
    "data = [re.sub('\\s+', ' ', sent) for sent in data]\n",
    "\n",
    "# Remove distracting single quotes\n",
    "data = [re.sub(\"\\'\", \"\", sent) for sent in data]\n",
    "\n",
    "pprint(data[:1])"
   ]
  },
  {
   "cell_type": "markdown",
   "metadata": {},
   "source": [
    "### Tokenization words and Clean-up\n",
    "Converting each sentence into list of words"
   ]
  },
  {
   "cell_type": "code",
   "execution_count": 12,
   "metadata": {},
   "outputs": [
    {
     "name": "stdout",
     "output_type": "stream",
     "text": [
      "[['from', 'wheres', 'my', 'thing', 'subject', 'what', 'car', 'is', 'this', 'nntp', 'posting', 'host', 'rac', 'wam', 'umd', 'edu', 'organization', 'university', 'of', 'maryland', 'college', 'park', 'lines', 'was', 'wondering', 'if', 'anyone', 'out', 'there', 'could', 'enlighten', 'me', 'on', 'this', 'car', 'saw', 'the', 'other', 'day', 'it', 'was', 'door', 'sports', 'car', 'looked', 'to', 'be', 'from', 'the', 'late', 'early', 'it', 'was', 'called', 'bricklin', 'the', 'doors', 'were', 'really', 'small', 'in', 'addition', 'the', 'front', 'bumper', 'was', 'separate', 'from', 'the', 'rest', 'of', 'the', 'body', 'this', 'is', 'all', 'know', 'if', 'anyone', 'can', 'tellme', 'model', 'name', 'engine', 'specs', 'years', 'of', 'production', 'where', 'this', 'car', 'is', 'made', 'history', 'or', 'whatever', 'info', 'you', 'have', 'on', 'this', 'funky', 'looking', 'car', 'please', 'mail', 'thanks', 'il', 'brought', 'to', 'you', 'by', 'your', 'neighborhood', 'lerxst']]\n"
     ]
    }
   ],
   "source": [
    "def sent_to_words(sentences):\n",
    "    for sentence in sentences:\n",
    "        yield(gensim.utils.simple_preprocess(str(sentence), deacc=True))  # deacc=True removes punctuations\n",
    "\n",
    "data_words = list(sent_to_words(data))\n",
    "\n",
    "print(data_words[:1])"
   ]
  },
  {
   "cell_type": "markdown",
   "metadata": {},
   "source": [
    "### Creating Bigram and Trigram Models\n",
    "\n",
    "Bigrams are two words frequently occurring together in the document. Trigrams are 3 words frequently occurring.\n",
    "\n",
    "**Some examples in our example are: ‘front_bumper’, ‘oil_leak’, ‘maryland_college_park’ etc.**"
   ]
  },
  {
   "cell_type": "code",
   "execution_count": 13,
   "metadata": {},
   "outputs": [
    {
     "name": "stderr",
     "output_type": "stream",
     "text": [
      "/usr/local/lib/python3.5/dist-packages/gensim/models/phrases.py:494: UserWarning: For a faster implementation, use the gensim.models.phrases.Phraser class\n",
      "  warnings.warn(\"For a faster implementation, use the gensim.models.phrases.Phraser class\")\n"
     ]
    },
    {
     "name": "stdout",
     "output_type": "stream",
     "text": [
      "['from', 'wheres', 'my', 'thing', 'subject', 'what', 'car', 'is', 'this', 'nntp_posting_host', 'rac_wam_umd_edu', 'organization', 'university', 'of', 'maryland_college_park', 'lines', 'was', 'wondering', 'if', 'anyone', 'out', 'there', 'could', 'enlighten', 'me', 'on', 'this', 'car', 'saw', 'the', 'other', 'day', 'it', 'was', 'door', 'sports', 'car', 'looked', 'to', 'be', 'from', 'the', 'late', 'early', 'it', 'was', 'called', 'bricklin', 'the', 'doors', 'were', 'really', 'small', 'in', 'addition', 'the', 'front_bumper', 'was', 'separate', 'from', 'the', 'rest', 'of', 'the', 'body', 'this', 'is', 'all', 'know', 'if', 'anyone', 'can', 'tellme', 'model', 'name', 'engine', 'specs', 'years', 'of', 'production', 'where', 'this', 'car', 'is', 'made', 'history', 'or', 'whatever', 'info', 'you', 'have', 'on', 'this', 'funky', 'looking', 'car', 'please', 'mail', 'thanks', 'il', 'brought', 'to', 'you', 'by', 'your', 'neighborhood', 'lerxst']\n"
     ]
    }
   ],
   "source": [
    "# Build the bigram and trigram models\n",
    "bigram = gensim.models.Phrases(data_words, min_count=5, threshold=100) # higher threshold fewer phrases.\n",
    "trigram = gensim.models.Phrases(bigram[data_words], threshold=100)  \n",
    "\n",
    "# Faster way to get a sentence clubbed as a trigram/bigram\n",
    "bigram_mod = gensim.models.phrases.Phraser(bigram)\n",
    "trigram_mod = gensim.models.phrases.Phraser(trigram)\n",
    "\n",
    "# See trigram example\n",
    "print(trigram_mod[bigram_mod[data_words[0]]])"
   ]
  },
  {
   "cell_type": "markdown",
   "metadata": {},
   "source": [
    "### Remove Stopwords, Make Bigrams and Lemmatize"
   ]
  },
  {
   "cell_type": "code",
   "execution_count": 14,
   "metadata": {
    "collapsed": true
   },
   "outputs": [],
   "source": [
    "# Define functions for stopwords, bigrams, trigrams and lemmatization\n",
    "def remove_stopwords(texts):\n",
    "    return [[word for word in simple_preprocess(str(doc)) if word not in stop_words] for doc in texts]\n",
    "\n",
    "def make_bigrams(texts):\n",
    "    return [bigram_mod[doc] for doc in texts]\n",
    "\n",
    "def make_trigrams(texts):\n",
    "    return [trigram_mod[bigram_mod[doc]] for doc in texts]\n",
    "\n",
    "def lemmatization(texts, allowed_postags=['NOUN', 'ADJ', 'VERB', 'ADV']):\n",
    "    \"\"\"https://spacy.io/api/annotation\"\"\"\n",
    "    texts_out = []\n",
    "    for sent in texts:\n",
    "        doc = nlp(\" \".join(sent)) \n",
    "        texts_out.append([token.lemma_ for token in doc if token.pos_ in allowed_postags])\n",
    "    return texts_out"
   ]
  },
  {
   "cell_type": "code",
   "execution_count": 15,
   "metadata": {},
   "outputs": [
    {
     "name": "stdout",
     "output_type": "stream",
     "text": [
      "[['where', 's', 'thing', 'car', 'nntp_post', 'host', 'rac_wam', 'umd', 'organization', 'university', 'maryland_college', 'park', 'line', 'wonder', 'anyone', 'could', 'enlighten', 'car', 'see', 'day', 'door', 'sport', 'car', 'look', 'late', 'early', 'call', 'bricklin', 'door', 'really', 'small', 'addition', 'front_bumper', 'separate', 'rest', 'body', 'know', 'anyone', 'tellme', 'model', 'name', 'engine', 'spec', 'year', 'production', 'car', 'make', 'history', 'whatev', 'info', 'funky', 'look', 'car', 'mail', 'thank', 'bring', 'neighborhood', 'lerxst']]\n"
     ]
    }
   ],
   "source": [
    "# Remove Stop Words\n",
    "data_words_nostops = remove_stopwords(data_words)\n",
    "\n",
    "# Form Bigrams\n",
    "data_words_bigrams = make_bigrams(data_words_nostops)\n",
    "\n",
    "# Initialize spacy 'en' model, keeping only tagger component (for efficiency)\n",
    "# python3 -m spacy download en\n",
    "nlp = spacy.load('en', disable=['parser', 'ner'])\n",
    "\n",
    "# Do lemmatization keeping only noun, adj, vb, adv\n",
    "data_lemmatized = lemmatization(data_words_bigrams, allowed_postags=['NOUN', 'ADJ', 'VERB', 'ADV'])\n",
    "\n",
    "print(data_lemmatized[:1])"
   ]
  },
  {
   "cell_type": "markdown",
   "metadata": {},
   "source": [
    "### Create the Dictionary and Corpus needed for Topic Modeling\n",
    "\n",
    "The two main inputs to the LDA topic model are the dictionary(id2word) and the corpus.\n",
    "\n",
    "**Gensim creates a unique id for each word in the document. The produced corpus shown above is a mapping of (word_id, word_frequency).**"
   ]
  },
  {
   "cell_type": "code",
   "execution_count": 16,
   "metadata": {},
   "outputs": [
    {
     "name": "stdout",
     "output_type": "stream",
     "text": [
      "[[(0, 1), (1, 2), (2, 1), (3, 1), (4, 1), (5, 1), (6, 5), (7, 1), (8, 1), (9, 2), (10, 1), (11, 1), (12, 1), (13, 1), (14, 1), (15, 1), (16, 1), (17, 1), (18, 1), (19, 1), (20, 1), (21, 1), (22, 2), (23, 1), (24, 1), (25, 1), (26, 1), (27, 1), (28, 1), (29, 1), (30, 1), (31, 1), (32, 1), (33, 1), (34, 1), (35, 1), (36, 1), (37, 1), (38, 1), (39, 1), (40, 1), (41, 1), (42, 1), (43, 1), (44, 1), (45, 1), (46, 1), (47, 1), (48, 1), (49, 1), (50, 1)]]\n"
     ]
    }
   ],
   "source": [
    "# Create Dictionary\n",
    "id2word = corpora.Dictionary(data_lemmatized)\n",
    "\n",
    "# Create Corpus\n",
    "texts = data_lemmatized\n",
    "\n",
    "# Term Document Frequency\n",
    "corpus = [id2word.doc2bow(text) for text in texts]\n",
    "\n",
    "# View\n",
    "print(corpus[:1])\n",
    "# id2word[0] # to check word by index"
   ]
  },
  {
   "cell_type": "code",
   "execution_count": 17,
   "metadata": {
    "scrolled": true
   },
   "outputs": [
    {
     "data": {
      "text/plain": [
       "[[('addition', 1),\n",
       "  ('anyone', 2),\n",
       "  ('body', 1),\n",
       "  ('bricklin', 1),\n",
       "  ('bring', 1),\n",
       "  ('call', 1),\n",
       "  ('car', 5),\n",
       "  ('could', 1),\n",
       "  ('day', 1),\n",
       "  ('door', 2),\n",
       "  ('early', 1),\n",
       "  ('engine', 1),\n",
       "  ('enlighten', 1),\n",
       "  ('front_bumper', 1),\n",
       "  ('funky', 1),\n",
       "  ('history', 1),\n",
       "  ('host', 1),\n",
       "  ('info', 1),\n",
       "  ('know', 1),\n",
       "  ('late', 1),\n",
       "  ('lerxst', 1),\n",
       "  ('line', 1),\n",
       "  ('look', 2),\n",
       "  ('mail', 1),\n",
       "  ('make', 1),\n",
       "  ('maryland_college', 1),\n",
       "  ('model', 1),\n",
       "  ('name', 1),\n",
       "  ('neighborhood', 1),\n",
       "  ('nntp_post', 1),\n",
       "  ('organization', 1),\n",
       "  ('park', 1),\n",
       "  ('production', 1),\n",
       "  ('rac_wam', 1),\n",
       "  ('really', 1),\n",
       "  ('rest', 1),\n",
       "  ('s', 1),\n",
       "  ('see', 1),\n",
       "  ('separate', 1),\n",
       "  ('small', 1),\n",
       "  ('spec', 1),\n",
       "  ('sport', 1),\n",
       "  ('tellme', 1),\n",
       "  ('thank', 1),\n",
       "  ('thing', 1),\n",
       "  ('umd', 1),\n",
       "  ('university', 1),\n",
       "  ('whatev', 1),\n",
       "  ('where', 1),\n",
       "  ('wonder', 1),\n",
       "  ('year', 1)]]"
      ]
     },
     "execution_count": 17,
     "metadata": {},
     "output_type": "execute_result"
    }
   ],
   "source": [
    "# Human readable format of corpus (term-frequency)\n",
    "[[(id2word[id], freq) for id, freq in cp] for cp in corpus[:1]]"
   ]
  },
  {
   "cell_type": "markdown",
   "metadata": {},
   "source": [
    "## Building the Topic Model"
   ]
  },
  {
   "cell_type": "code",
   "execution_count": 18,
   "metadata": {
    "collapsed": true
   },
   "outputs": [],
   "source": [
    "lda_model = gensim.models.ldamodel.LdaModel(corpus=corpus,\n",
    "                                           id2word=id2word,\n",
    "                                           num_topics=20, \n",
    "                                           random_state=100,\n",
    "                                           update_every=1,\n",
    "                                           chunksize=100,\n",
    "                                           passes=10,\n",
    "                                           alpha='auto',\n",
    "                                           per_word_topics=True)"
   ]
  },
  {
   "cell_type": "code",
   "execution_count": 19,
   "metadata": {
    "scrolled": true
   },
   "outputs": [
    {
     "name": "stdout",
     "output_type": "stream",
     "text": [
      "[(0,\n",
      "  '0.034*\"_\" + 0.029*\"blue\" + 0.021*\"tank\" + 0.014*\"cubs_suck\" + 0.012*\"eg\" + '\n",
      "  '0.012*\"gas\" + 0.011*\"hi\" + 0.007*\"henry_spencer\" + 0.007*\"cigarette\" + '\n",
      "  '0.006*\"xlib\"'),\n",
      " (1,\n",
      "  '0.020*\"value\" + 0.020*\"bus\" + 0.019*\"specifically\" + 0.015*\"function\" + '\n",
      "  '0.015*\"associate\" + 0.013*\"motorcycle\" + 0.011*\"properly\" + 0.010*\"code\" + '\n",
      "  '0.008*\"confuse\" + 0.008*\"error\"'),\n",
      " (2,\n",
      "  '0.023*\"window\" + 0.020*\"card\" + 0.017*\"file\" + 0.014*\"drive\" + 0.013*\"use\" '\n",
      "  '+ 0.013*\"system\" + 0.011*\"problem\" + 0.010*\"run\" + 0.009*\"color\" + '\n",
      "  '0.009*\"do\"'),\n",
      " (3,\n",
      "  '0.035*\"game\" + 0.033*\"team\" + 0.019*\"player\" + 0.017*\"play\" + 0.017*\"win\" + '\n",
      "  '0.016*\"hockey\" + 0.013*\"season\" + 0.011*\"contact\" + 0.011*\"year\" + '\n",
      "  '0.010*\"nhl\"'),\n",
      " (4,\n",
      "  '0.026*\"wire\" + 0.017*\"circuit\" + 0.015*\"faq\" + 0.015*\"connect\" + '\n",
      "  '0.013*\"wiring\" + 0.013*\"voice\" + 0.012*\"cover\" + 0.011*\"outlet\" + '\n",
      "  '0.011*\"neutral\" + 0.010*\"conference\"'),\n",
      " (5,\n",
      "  '0.030*\"government\" + 0.024*\"gun\" + 0.022*\"law\" + 0.017*\"state\" + '\n",
      "  '0.015*\"right\" + 0.013*\"public\" + 0.012*\"protect\" + 0.011*\"american\" + '\n",
      "  '0.010*\"police\" + 0.010*\"criminal\"'),\n",
      " (6,\n",
      "  '0.074*\"max\" + 0.018*\"cost\" + 0.015*\"price\" + 0.014*\"year\" + 0.012*\"sale\" + '\n",
      "  '0.011*\"sell\" + 0.010*\"obvious\" + 0.009*\"pay\" + 0.007*\"canada\" + '\n",
      "  '0.007*\"total\"'),\n",
      " (7,\n",
      "  '0.047*\"line\" + 0.042*\"organization\" + 0.031*\"write\" + 0.026*\"article\" + '\n",
      "  '0.019*\"would\" + 0.018*\"university\" + 0.017*\"nntp_post\" + 0.015*\"host\" + '\n",
      "  '0.015*\"not\" + 0.014*\"get\"'),\n",
      " (8,\n",
      "  '0.019*\"science\" + 0.014*\"computer_science\" + 0.012*\"prove\" + '\n",
      "  '0.011*\"homeopathy\" + 0.010*\"review\" + 0.010*\"development\" + 0.010*\"object\" '\n",
      "  '+ 0.010*\"univ\" + 0.010*\"text\" + 0.010*\"gordon_bank\"'),\n",
      " (9,\n",
      "  '0.039*\"space\" + 0.011*\"power\" + 0.009*\"launch\" + 0.008*\"ground\" + '\n",
      "  '0.008*\"switch\" + 0.008*\"build\" + 0.008*\"project\" + 0.007*\"high\" + '\n",
      "  '0.007*\"radio\" + 0.007*\"mon\"'),\n",
      " (10,\n",
      "  '0.815*\"ax\" + 0.003*\"nyi\" + 0.003*\"stl\" + 0.003*\"buffalo\" + 0.002*\"pool\" + '\n",
      "  '0.002*\"brian_kendig\" + 0.002*\"sunday\" + 0.002*\"finland\" + 0.002*\"espn\" + '\n",
      "  '0.002*\"lemieux\"'),\n",
      " (11,\n",
      "  '0.040*\"armenian\" + 0.013*\"league\" + 0.011*\"turk\" + 0.011*\"turkish\" + '\n",
      "  '0.011*\"greek\" + 0.011*\"baseball\" + 0.010*\"serdar_argic\" + 0.007*\"road\" + '\n",
      "  '0.006*\"cal\" + 0.006*\"hug\"'),\n",
      " (12,\n",
      "  '0.011*\"national\" + 0.010*\"center\" + 0.009*\"year\" + 0.009*\"april\" + '\n",
      "  '0.009*\"study\" + 0.007*\"george\" + 0.007*\"research\" + 0.006*\"march\" + '\n",
      "  '0.006*\"mission\" + 0.006*\"student\"'),\n",
      " (13,\n",
      "  '0.011*\"may\" + 0.010*\"would\" + 0.009*\"make\" + 0.007*\"people\" + '\n",
      "  '0.007*\"question\" + 0.007*\"also\" + 0.007*\"many\" + 0.007*\"point\" + '\n",
      "  '0.007*\"mean\" + 0.006*\"must\"'),\n",
      " (14,\n",
      "  '0.015*\"israel\" + 0.012*\"israeli\" + 0.009*\"attack\" + 0.009*\"kill\" + '\n",
      "  '0.009*\"military\" + 0.008*\"hour\" + 0.008*\"land\" + 0.008*\"international\" + '\n",
      "  '0.008*\"committee\" + 0.007*\"soldier\"'),\n",
      " (15,\n",
      "  '0.020*\"mail\" + 0.017*\"information\" + 0.015*\"available\" + 0.015*\"include\" + '\n",
      "  '0.013*\"send\" + 0.012*\"program\" + 0.011*\"list\" + 0.010*\"ca\" + 0.010*\"also\" + '\n",
      "  '0.010*\"internet\"'),\n",
      " (16,\n",
      "  '0.029*\"key\" + 0.022*\"chip\" + 0.014*\"use\" + 0.013*\"system\" + 0.011*\"phone\" + '\n",
      "  '0.010*\"encryption\" + 0.010*\"bit\" + 0.010*\"technology\" + 0.009*\"wiretap\" + '\n",
      "  '0.009*\"device\"'),\n",
      " (17,\n",
      "  '0.025*\"christian\" + 0.023*\"god\" + 0.012*\"man\" + 0.011*\"life\" + '\n",
      "  '0.011*\"religion\" + 0.010*\"bible\" + 0.009*\"believe\" + 0.008*\"law\" + '\n",
      "  '0.008*\"belief\" + 0.008*\"love\"'),\n",
      " (18,\n",
      "  '0.051*\"not\" + 0.032*\"do\" + 0.022*\"say\" + 0.021*\"go\" + 0.019*\"would\" + '\n",
      "  '0.018*\"be\" + 0.015*\"think\" + 0.014*\"know\" + 0.014*\"s\" + 0.013*\"people\"'),\n",
      " (19,\n",
      "  '0.017*\"light\" + 0.015*\"rise\" + 0.015*\"paul\" + 0.012*\"fire\" + 0.011*\"edge\" + '\n",
      "  '0.010*\"building\" + 0.009*\"water\" + 0.009*\"teach\" + 0.008*\"mother\" + '\n",
      "  '0.008*\"girl\"')]\n"
     ]
    }
   ],
   "source": [
    "# Print the Keyword in the 10 topics\n",
    "pprint(lda_model.print_topics())\n",
    "doc_lda = lda_model[corpus]"
   ]
  },
  {
   "cell_type": "markdown",
   "metadata": {},
   "source": [
    "### Model Perplexity and Coherence Score\n",
    "A measure to judge how good a given topic model is."
   ]
  },
  {
   "cell_type": "code",
   "execution_count": 20,
   "metadata": {},
   "outputs": [
    {
     "name": "stdout",
     "output_type": "stream",
     "text": [
      "\n",
      "Perplexity:  -8.754129288466325\n",
      "\n",
      "Coherence Score:  0.515758393754623\n"
     ]
    }
   ],
   "source": [
    "# Compute Perplexity\n",
    "print('\\nPerplexity: ', lda_model.log_perplexity(corpus))  # a measure of how good the model is. lower the better.\n",
    "\n",
    "# Compute Coherence Score\n",
    "coherence_model_lda = CoherenceModel(model=lda_model, texts=data_lemmatized, dictionary=id2word, coherence='c_v')\n",
    "coherence_lda = coherence_model_lda.get_coherence()\n",
    "print('\\nCoherence Score: ', coherence_lda)"
   ]
  },
  {
   "cell_type": "code",
   "execution_count": 21,
   "metadata": {},
   "outputs": [
    {
     "data": {
      "text/html": [
       "\n",
       "<link rel=\"stylesheet\" type=\"text/css\" href=\"https://cdn.rawgit.com/bmabey/pyLDAvis/files/ldavis.v1.0.0.css\">\n",
       "\n",
       "\n",
       "<div id=\"ldavis_el71191404569309059281653921242\"></div>\n",
       "<script type=\"text/javascript\">\n",
       "\n",
       "var ldavis_el71191404569309059281653921242_data = {\"tinfo\": {\"loglift\": [30.0, 29.0, 28.0, 27.0, 26.0, 25.0, 24.0, 23.0, 22.0, 21.0, 20.0, 19.0, 18.0, 17.0, 16.0, 15.0, 14.0, 13.0, 12.0, 11.0, 10.0, 9.0, 8.0, 7.0, 6.0, 5.0, 4.0, 3.0, 2.0, 1.0, 1.8164, 1.8162, 1.8159, 1.8158, 1.8152, 1.8151, 1.815, 1.815, 1.8147, 1.8143, 1.8142, 1.8142, 1.8141, 1.8141, 1.8141, 1.814, 1.8137, 1.8137, 1.8135, 1.8135, 1.8135, 1.8135, 1.8134, 1.8133, 1.813, 1.813, 1.8129, 1.8128, 1.8128, 1.8128, 1.7964, 1.801, 1.7348, 1.7497, 1.6982, 1.7855, 1.6322, 1.7275, 1.7394, 1.7067, 1.6684, 1.3146, 1.6106, 1.215, 1.4137, 1.3212, 0.9701, 1.0439, 1.2784, 0.974, 1.2309, 1.1265, 0.4102, 1.2312, 0.9988, 1.0569, 0.9837, 1.3301, 0.2303, 0.8471, 0.6036, 0.9155, 0.6247, 0.432, 0.738, 1.8812, 1.8807, 1.8804, 1.8802, 1.8801, 1.8799, 1.8797, 1.8797, 1.8796, 1.8796, 1.8795, 1.8795, 1.8794, 1.8792, 1.879, 1.8789, 1.8789, 1.8788, 1.8788, 1.8787, 1.8786, 1.8786, 1.8786, 1.8785, 1.8783, 1.8783, 1.8782, 1.8782, 1.8782, 1.8781, 1.8734, 1.8639, 1.8621, 1.867, 1.8138, 1.863, 1.8179, 1.84, 1.8383, 1.8316, 1.7674, 1.7706, 1.7823, 1.7685, 1.7225, 1.6717, 1.6924, 1.6573, 1.6611, 1.5373, 1.6532, 1.6077, 1.3467, 1.4545, 1.5935, 1.4236, 1.389, 1.6882, 1.4897, 1.4454, 1.6711, 0.8777, 1.4265, 0.8958, 0.8341, 1.3792, 0.9802, 0.2648, 0.9413, 1.2474, 1.201, 0.1881, -0.1073, 0.4253, 0.1927, 1.9252, 1.9249, 1.9247, 1.9246, 1.9244, 1.9242, 1.924, 1.9232, 1.9231, 1.923, 1.923, 1.923, 1.923, 1.9227, 1.9225, 1.9225, 1.9225, 1.9224, 1.9221, 1.9219, 1.9218, 1.9217, 1.9215, 1.9215, 1.9212, 1.9211, 1.921, 1.9207, 1.9206, 1.9205, 1.9168, 1.9097, 1.9155, 1.8093, 1.7537, 1.894, 1.8948, 1.8173, 1.8345, 1.6117, 1.8284, 1.6389, 1.5852, 1.7077, 1.8575, 1.748, 1.6881, 1.6066, 1.6905, 1.5366, 1.6273, 1.5672, 1.6179, 1.8384, 1.409, 1.3064, 1.4547, 1.7669, 1.3508, 1.1492, 0.9326, 1.2754, 1.1301, 0.9659, 1.2012, 1.2676, 0.9591, 1.2087, 1.2293, 1.0753, 1.1016, 0.6375, 2.7863, 2.7856, 2.7855, 2.7853, 2.7853, 2.7852, 2.7851, 2.7851, 2.785, 2.7849, 2.7848, 2.7848, 2.7846, 2.7845, 2.7843, 2.7842, 2.7842, 2.7841, 2.784, 2.784, 2.7839, 2.7838, 2.7838, 2.7837, 2.7836, 2.7836, 2.7836, 2.7835, 2.7834, 2.7832, 2.7558, 2.7334, 2.7484, 2.7569, 2.7495, 2.7204, 2.5764, 2.397, 1.8211, 1.918, 1.7506, 1.5365, 1.9426, 2.1147, 2.1012, 1.2558, 1.8775, 0.2741, 1.7108, 2.0825, 1.3586, 2.8173, 2.8168, 2.8167, 2.8165, 2.8165, 2.8163, 2.8162, 2.816, 2.8158, 2.8154, 2.8154, 2.8153, 2.8151, 2.8151, 2.8151, 2.8151, 2.8148, 2.8147, 2.8146, 2.8144, 2.8141, 2.814, 2.8137, 2.8136, 2.8135, 2.8134, 2.8132, 2.8131, 2.8131, 2.8129, 2.7846, 2.7247, 2.7039, 2.6925, 2.6477, 2.5695, 2.5219, 2.652, 2.6607, 2.5672, 2.4803, 2.5412, 2.5096, 2.3911, 2.3724, 2.4765, 2.5251, 2.3959, 2.4667, 2.1051, 1.2241, 1.3972, 1.4687, 1.6993, 1.2193, 3.1363, 3.1323, 3.1321, 3.1318, 3.1308, 3.1305, 3.1301, 3.1299, 3.1292, 3.1292, 3.1289, 3.1286, 3.1281, 3.1275, 3.1267, 3.1266, 3.1259, 3.1253, 3.1251, 3.125, 3.1242, 3.124, 3.1226, 3.1216, 3.1206, 3.1206, 3.1206, 3.1206, 3.1203, 3.1199, 3.1748, 3.1748, 3.174, 3.1739, 3.1736, 3.1735, 3.1734, 3.1734, 3.1732, 3.1729, 3.1728, 3.1726, 3.1724, 3.1721, 3.172, 3.1716, 3.1715, 3.1714, 3.1713, 3.1713, 3.1712, 3.1712, 3.171, 3.1708, 3.1706, 3.1705, 3.1704, 3.1703, 3.1703, 3.1702, 2.9444, 2.5754, 2.5713, 2.5297, 2.2845, 2.9965, 2.0291, 1.8494, 2.2123, 1.9135, 1.6959, 2.2003, 0.4416, 2.3255, 0.7137, 2.3697, 3.3254, 3.3253, 3.3251, 3.325, 3.325, 3.325, 3.3249, 3.3248, 3.3248, 3.3244, 3.3243, 3.3243, 3.3242, 3.3239, 3.3239, 3.3237, 3.3237, 3.3236, 3.3232, 3.3231, 3.3231, 3.323, 3.3228, 3.3225, 3.3224, 3.3216, 3.3215, 3.3215, 3.3214, 3.3214, 3.2979, 3.2796, 3.2797, 3.2018, 3.2448, 2.9603, 2.9989, 3.0906, 2.6014, 2.5815, 3.1504, 2.8263, 1.411, 2.6194, 2.2339, 1.9588, 1.3398, 2.7577, 0.2916, 3.3907, 3.3899, 3.3897, 3.3897, 3.3892, 3.3891, 3.389, 3.3888, 3.3888, 3.3888, 3.3882, 3.3877, 3.3875, 3.3875, 3.3873, 3.3872, 3.3871, 3.3867, 3.3864, 3.3861, 3.3859, 3.3859, 3.3854, 3.3853, 3.3852, 3.3846, 3.3844, 3.3843, 3.3843, 3.3839, 3.3126, 3.359, 3.2879, 3.3233, 3.1121, 3.0082, 3.2344, 2.778, 2.4496, 2.0817, 2.5112, 2.2079, 2.5135, 1.6893, 2.2142, 2.0727, 3.4192, 3.4191, 3.4181, 3.4179, 3.4177, 3.4176, 3.4174, 3.4172, 3.4169, 3.4166, 3.4164, 3.4164, 3.4163, 3.4163, 3.4159, 3.4157, 3.4156, 3.4155, 3.4154, 3.4154, 3.4151, 3.415, 3.4149, 3.4148, 3.4147, 3.4147, 3.4144, 3.4143, 3.4143, 3.4142, 3.3409, 3.2642, 3.06, 3.0606, 3.1002, 3.1476, 2.6237, 2.282, 1.7973, 1.5808, 2.2638, 3.0396, 2.1328, 1.5924, 2.6305, 1.1801, 1.1254, 3.4331, 3.4316, 3.4306, 3.4302, 3.43, 3.43, 3.4298, 3.4298, 3.4292, 3.429, 3.4289, 3.4289, 3.4283, 3.4283, 3.4283, 3.4282, 3.428, 3.4279, 3.4278, 3.4277, 3.4276, 3.4276, 3.4273, 3.4272, 3.4272, 3.4271, 3.4271, 3.427, 3.4269, 3.4269, 3.4139, 3.4262, 3.3813, 3.4066, 3.3369, 3.1529, 3.0844, 3.3296, 3.2878, 2.8536, 3.0865, 3.0447, 3.1368, 3.0742, 2.9962, 2.6508, 1.8798, 3.0286, 3.0471, 2.7843, 2.7346, 2.4641, 3.5163, 3.5146, 3.5144, 3.5139, 3.5138, 3.5135, 3.5134, 3.5133, 3.5133, 3.5131, 3.5128, 3.5127, 3.5122, 3.5122, 3.5121, 3.512, 3.512, 3.512, 3.5112, 3.5112, 3.5111, 3.5109, 3.5105, 3.5105, 3.5102, 3.51, 3.5097, 3.5095, 3.5093, 3.5092, 3.3733, 3.107, 3.1408, 3.3679, 3.2005, 2.4663, 2.9563, 2.5207, 2.0835, 2.9485, 2.4005, 2.2628, 2.6057, 2.4699, 0.9916, 2.0992, 2.567, 3.5953, 3.5949, 3.5939, 3.5936, 3.5935, 3.5924, 3.5923, 3.5923, 3.5923, 3.5922, 3.5914, 3.5912, 3.5912, 3.591, 3.5909, 3.5908, 3.5907, 3.5907, 3.5903, 3.5901, 3.5901, 3.59, 3.5899, 3.5898, 3.5896, 3.5896, 3.5892, 3.5884, 3.5883, 3.5882, 3.5583, 3.5731, 3.4769, 3.4285, 3.38, 3.385, 3.4318, 3.1795, 3.2265, 2.575, 2.9462, 2.4148, 2.1473, 2.1151, 3.2993, 2.9498, 1.7157, 2.2983, 1.8754, 3.5996, 3.5995, 3.599, 3.5988, 3.5985, 3.5982, 3.5981, 3.5977, 3.5976, 3.5975, 3.5967, 3.5964, 3.5958, 3.5957, 3.5957, 3.5956, 3.5956, 3.5955, 3.5954, 3.595, 3.5946, 3.5946, 3.5946, 3.5945, 3.5944, 3.5942, 3.5941, 3.5939, 3.5939, 3.5939, 3.5264, 3.2899, 3.2267, 3.4005, 3.1148, 3.1009, 1.6338, 2.9723, 1.0921, 2.9033, 0.398, 1.7593, 3.7744, 3.774, 3.7738, 3.7737, 3.7737, 3.7736, 3.7735, 3.7731, 3.7726, 3.7721, 3.772, 3.7719, 3.7718, 3.7718, 3.7717, 3.7716, 3.7716, 3.7712, 3.7709, 3.7707, 3.7706, 3.7705, 3.7702, 3.7702, 3.7701, 3.7701, 3.77, 3.7699, 3.7699, 3.7699, 3.7364, 3.6662, 3.6676, 3.5053, 3.6757, 3.6531, 3.1192, 2.9853, 2.4917, 2.5566, 2.459, 3.0819, 3.8499, 3.8499, 3.8492, 3.8487, 3.8486, 3.8484, 3.8484, 3.8481, 3.8476, 3.8476, 3.8475, 3.8472, 3.8469, 3.8463, 3.8463, 3.8456, 3.8452, 3.8451, 3.8442, 3.8438, 3.8438, 3.8434, 3.8432, 3.8432, 3.8432, 3.843, 3.8428, 3.8428, 3.8425, 3.8425, 3.8077, 3.7378, 3.7956, 3.7234, 3.7052, 3.6368, 3.6203, 3.7144, 3.2692, 3.5499, 3.3136, 3.3099, 3.3202, 3.4895, 2.7951, 3.8713, 3.8697, 3.8694, 3.8694, 3.8693, 3.869, 3.8675, 3.8675, 3.8674, 3.8674, 3.8673, 3.8672, 3.8671, 3.867, 3.8669, 3.8663, 3.8663, 3.8655, 3.8654, 3.8652, 3.865, 3.8645, 3.8645, 3.8644, 3.8641, 3.8639, 3.8638, 3.8638, 3.8633, 3.8631, 3.8301, 3.6448, 3.7673, 2.9604, 3.0178, 2.0665, 0.641, 0.7806, 4.0769, 4.0761, 4.0758, 4.0755, 4.0755, 4.075, 4.0749, 4.0748, 4.0737, 4.0731, 4.0731, 4.073, 4.072, 4.0716, 4.0715, 4.0715, 4.0713, 4.0707, 4.0707, 4.0704, 4.0703, 4.0702, 4.0697, 4.0692, 4.0688, 4.0688, 4.0686, 4.0681, 4.0675, 4.0672, 3.9489, 3.9345, 3.8027, 3.3198, 3.9699, 3.7563, 3.5953, 3.8333, 3.155, 2.8029, 2.658, 2.1603, 2.6288, 4.0859, 4.0857, 4.0852, 4.084, 4.084, 4.0838, 4.0821, 4.0818, 4.0808, 4.0805, 4.0802, 4.0798, 4.0798, 4.0794, 4.0793, 4.0792, 4.0789, 4.0781, 4.078, 4.0774, 4.0772, 4.0769, 4.0765, 4.0758, 4.0755, 4.0751, 4.0748, 4.0747, 4.0744, 4.0743, 4.0612, 4.0723, 3.1061, 4.1833, 4.1833, 4.1827, 4.1823, 4.1803, 4.1798, 4.1797, 4.1794, 4.1794, 4.1794, 4.1788, 4.1776, 4.1774, 4.1773, 4.1769, 4.1769, 4.1765, 4.176, 4.1757, 4.1751, 4.1751, 4.1749, 4.1746, 4.1746, 4.1742, 4.1739, 4.1736, 4.1728, 4.1721, 4.172, 3.9531, 3.8672, 4.0469, 3.6335, 2.884, 2.9078, 2.5906, 1.9577, 3.3304, 2.8056, 2.4762, 1.824], \"logprob\": [30.0, 29.0, 28.0, 27.0, 26.0, 25.0, 24.0, 23.0, 22.0, 21.0, 20.0, 19.0, 18.0, 17.0, 16.0, 15.0, 14.0, 13.0, 12.0, 11.0, 10.0, 9.0, 8.0, 7.0, 6.0, 5.0, 4.0, 3.0, 2.0, 1.0, -4.085999965667725, -4.557600021362305, -5.161900043487549, -5.388000011444092, -5.91480016708374, -6.026800155639648, -6.068699836730957, -6.0980000495910645, -6.233500003814697, -6.44980001449585, -6.474299907684326, -6.484300136566162, -3.160900115966797, -6.503499984741211, -6.536300182342529, -6.049900054931641, -6.662600040435791, -6.676199913024902, -6.720699787139893, -6.720699787139893, -6.723400115966797, -6.747600078582764, -6.753200054168701, -6.794099807739258, -6.882900238037109, -6.8942999839782715, -6.901899814605713, -6.942800045013428, -6.943900108337402, -6.951099872589111, -3.064199924468994, -4.177700042724609, -4.035999774932861, -4.673600196838379, -3.661099910736084, -6.095699787139893, -3.4860000610351562, -6.023200035095215, -6.154099941253662, -6.052199840545654, -5.829400062561035, -4.376200199127197, -5.813799858093262, -4.245999813079834, -5.099999904632568, -4.830999851226807, -3.948899984359741, -4.25629997253418, -4.923799991607666, -4.424900054931641, -5.115699768066406, -5.184899806976318, -4.184700012207031, -5.372300148010254, -5.093800067901611, -5.200799942016602, -5.257999897003174, -5.590199947357178, -4.8084001541137695, -5.258999824523926, -5.100100040435791, -5.365600109100342, -5.262800216674805, -5.212500095367432, -5.345900058746338, -5.432700157165527, -5.884500026702881, -6.071000099182129, -6.158899784088135, -6.230500221252441, -6.326099872589111, -6.3983001708984375, -6.4207000732421875, -6.425000190734863, -6.44920015335083, -6.47730016708374, -6.4710001945495605, -6.5395002365112305, -6.584499835968018, -6.655900001525879, -6.695300102233887, -6.701600074768066, -6.716000080108643, -6.726200103759766, -6.741199970245361, -6.7779998779296875, -6.791100025177002, -6.793099880218506, -6.821400165557861, -6.868100166320801, -6.8694000244140625, -6.885900020599365, -6.9019999504089355, -6.905900001525879, -6.910299777984619, -6.265500068664551, -5.7967000007629395, -5.998799800872803, -6.388199806213379, -5.1483001708984375, -6.411399841308594, -5.340000152587891, -5.960700035095215, -5.946100234985352, -6.107100009918213, -5.474800109863281, -5.600500106811523, -5.754499912261963, -5.662899971008301, -5.335299968719482, -5.05079984664917, -5.246699810028076, -5.131100177764893, -5.519400119781494, -5.016600131988525, -5.575099945068359, -5.4604997634887695, -4.540900230407715, -4.9847002029418945, -5.46120023727417, -4.935400009155273, -4.974699974060059, -5.785399913787842, -5.428599834442139, -5.414899826049805, -5.8256001472473145, -4.7667999267578125, -5.537399768829346, -4.972400188446045, -4.932400226593018, -5.495999813079834, -5.149499893188477, -4.654200077056885, -5.301499843597412, -5.477200031280518, -5.457699775695801, -5.265200138092041, -5.225500106811523, -5.47130012512207, -5.511000156402588, -5.473999977111816, -5.735099792480469, -5.845300197601318, -5.935400009155273, -6.035399913787842, -6.169300079345703, -6.243199825286865, -6.580599784851074, -6.612800121307373, -6.623600006103516, -6.623899936676025, -6.62470006942749, -6.6255998611450195, -6.73799991607666, -6.788000106811523, -6.790299892425537, -6.796299934387207, -6.803999900817871, -6.878200054168701, -6.942299842834473, -6.955100059509277, -6.989200115203857, -7.019199848175049, -7.025400161743164, -7.099999904632568, -7.104400157928467, -7.125999927520752, -7.197299957275391, -7.213600158691406, -7.224400043487549, -5.234099864959717, -5.67519998550415, -6.642499923706055, -4.258399963378906, -3.873500108718872, -6.552499771118164, -6.591599941253662, -5.450200080871582, -5.692399978637695, -2.9832000732421875, -5.822299957275391, -3.8143999576568604, -3.4535000324249268, -4.744699954986572, -6.261199951171875, -5.396999835968018, -5.06820011138916, -4.548500061035156, -5.170100212097168, -4.190899848937988, -4.903299808502197, -4.592599868774414, -5.094299793243408, -6.1844000816345215, -4.357500076293945, -3.993799924850464, -4.784299850463867, -5.938600063323975, -4.54580020904541, -4.24970006942749, -3.9863998889923096, -4.8084001541137695, -4.573599815368652, -4.495100021362305, -4.891300201416016, -5.023600101470947, -4.685400009155273, -4.979499816894531, -5.081999778747559, -5.06879997253418, -5.1834001541137695, -5.053299903869629, -3.7690000534057617, -4.747399806976318, -4.792699813842773, -4.981299877166748, -4.997700214385986, -5.0183000564575195, -5.117300033569336, -5.120299816131592, -5.149600028991699, -5.236599922180176, -5.29640007019043, -5.299300193786621, -5.38070011138916, -5.450799942016602, -5.532100200653076, -5.560500144958496, -5.571800231933594, -5.596499919891357, -5.621699810028076, -5.632500171661377, -5.678400039672852, -5.6940999031066895, -5.7104997634887695, -5.736999988555908, -5.76039981842041, -5.769700050354004, -5.771500110626221, -5.809500217437744, -5.849899768829346, -5.9029998779296875, -3.930500030517578, -4.065899848937988, -4.867499828338623, -5.183899879455566, -5.3582000732421875, -5.145199775695801, -4.876800060272217, -4.266499996185303, -4.34660005569458, -4.567399978637695, -4.530399799346924, -4.323500156402588, -4.946499824523926, -5.138000011444092, -5.148399829864502, -4.850200176239014, -5.146900177001953, -4.764500141143799, -5.174099922180176, -5.259699821472168, -5.244800090789795, -3.901099920272827, -4.64769983291626, -4.702499866485596, -4.840400218963623, -4.89769983291626, -5.021900177001953, -5.090199947357178, -5.186999797821045, -5.325699806213379, -5.469299793243408, -5.4934000968933105, -5.523799896240234, -5.592100143432617, -5.602099895477295, -5.618599891662598, -5.6219000816345215, -5.724899768829346, -5.730999946594238, -5.7677001953125, -5.831099987030029, -5.933000087738037, -5.953000068664551, -6.035999774932861, -6.053699970245361, -6.077000141143799, -6.091599941253662, -6.138199806213379, -6.154200077056885, -6.156400203704834, -6.199699878692627, -5.370800018310547, -4.185200214385986, -4.576300144195557, -4.4868998527526855, -4.371500015258789, -4.217899799346924, -4.098899841308594, -5.061699867248535, -5.111700057983398, -4.759699821472168, -4.42710018157959, -4.820400238037109, -4.969699859619141, -4.68179988861084, -4.788099765777588, -4.99429988861084, -5.092400074005127, -5.078499794006348, -5.243899822235107, -5.066500186920166, -4.644100189208984, -4.927499771118164, -4.957600116729736, -5.025199890136719, -5.02239990234375, -0.20489999651908875, -5.684299945831299, -5.730999946594238, -5.8125, -6.00570011138916, -6.053500175476074, -6.122900009155273, -6.15369987487793, -6.256100177764893, -6.262599945068359, -6.303500175476074, -6.331900119781494, -6.396299839019775, -6.466800212860107, -6.563300132751465, -6.5731000900268555, -6.64139986038208, -6.6946001052856445, -6.716100215911865, -6.721199989318848, -6.786399841308594, -6.810500144958496, -6.911099910736084, -6.9868998527526855, -7.049699783325195, -7.050099849700928, -7.052800178527832, -7.053299903869629, -7.068699836730957, -7.094200134277344, -3.6891000270843506, -3.7548999786376953, -4.548399925231934, -4.655399799346924, -4.821899890899658, -4.890699863433838, -4.924900054931641, -4.939599990844727, -5.007199764251709, -5.144700050354004, -5.18720006942749, -5.279099941253662, -5.345399856567383, -5.443399906158447, -5.44789981842041, -5.571800231933594, -5.590400218963623, -5.619500160217285, -5.649400234222412, -5.650100231170654, -5.675300121307373, -5.678299903869629, -5.7241997718811035, -5.77370023727417, -5.801400184631348, -5.829100131988525, -5.848999977111816, -5.865099906921387, -5.868800163269043, -5.884900093078613, -4.886000156402588, -4.384699821472168, -4.837699890136719, -4.837299823760986, -4.519199848175049, -5.59119987487793, -4.804200172424316, -4.706099987030029, -5.084199905395508, -5.050300121307373, -5.269800186157227, -5.407700061798096, -5.01170015335083, -5.512899875640869, -5.446100234985352, -5.564199924468994, -5.09089994430542, -5.109899997711182, -5.196700096130371, -5.21560001373291, -5.22760009765625, -5.229100227355957, -5.251999855041504, -5.274700164794922, -5.296899795532227, -5.412300109863281, -5.4222002029418945, -5.427199840545654, -5.451900005340576, -5.519700050354004, -5.534800052642822, -5.571800231933594, -5.58489990234375, -5.596799850463867, -5.677000045776367, -5.707799911499023, -5.709199905395508, -5.73360013961792, -5.760300159454346, -5.8125, -5.832099914550781, -5.974699974060059, -5.9842000007629395, -5.985099792480469, -5.996399879455566, -6.0040998458862305, -4.902699947357178, -5.2769999504089355, -5.312900066375732, -4.739699840545654, -5.326300144195557, -4.509099960327148, -4.757800102233887, -5.163099765777588, -4.652599811553955, -4.963900089263916, -5.566299915313721, -5.371799945831299, -4.733099937438965, -5.311699867248535, -5.191800117492676, -5.20989990234375, -5.190800189971924, -5.480000019073486, -5.412099838256836, -3.7207999229431152, -4.450200080871582, -4.562300205230713, -4.593800067901611, -4.846499919891357, -4.876100063323975, -4.911099910736084, -4.994900226593018, -4.99970006942749, -5.000100135803223, -5.195799827575684, -5.338600158691406, -5.398200035095215, -5.405200004577637, -5.451600074768066, -5.474100112915039, -5.507500171661377, -5.585100173950195, -5.642300128936768, -5.716800212860107, -5.746500015258789, -5.751399993896484, -5.839600086212158, -5.846099853515625, -5.85890007019043, -5.955599784851074, -5.989299774169922, -5.997600078582764, -6.0015997886657715, -6.058000087738037, -3.515700101852417, -5.214399814605713, -5.373000144958496, -5.600200176239014, -4.354700088500977, -3.8250999450683594, -5.176300048828125, -4.552700042724609, -4.0543999671936035, -4.203199863433838, -5.311699867248535, -5.261600017547607, -5.380499839782715, -5.204699993133545, -5.4552998542785645, -5.462500095367432, -3.55679988861084, -3.799099922180176, -4.569499969482422, -4.667699813842773, -4.769499778747559, -4.808499813079834, -4.910999774932861, -5.006800174713135, -5.105500221252441, -5.204100131988525, -5.242000102996826, -5.265600204467773, -5.272600173950195, -5.27400016784668, -5.395999908447266, -5.4415998458862305, -5.453100204467773, -5.4868998527526855, -5.504199981689453, -5.505899906158447, -5.571800231933594, -5.596799850463867, -5.621300220489502, -5.631800174713135, -5.644000053405762, -5.655600070953369, -5.701600074768066, -5.719799995422363, -5.7357001304626465, -5.742700099945068, -5.182400226593018, -5.015999794006348, -4.53000020980835, -4.706099987030029, -5.133399963378906, -5.286799907684326, -4.6230998039245605, -4.607100009918213, -4.370299816131592, -4.279300212860107, -4.907800197601318, -5.393499851226807, -5.159900188446045, -5.02839994430542, -5.310699939727783, -5.061699867248535, -5.0767998695373535, -2.605799913406372, -4.581099987030029, -4.9953999519348145, -5.126999855041504, -5.192800045013428, -5.196499824523926, -5.257500171661377, -5.273499965667725, -5.414999961853027, -5.457099914550781, -5.485000133514404, -5.494200229644775, -5.60260009765625, -5.604400157928467, -5.621099948883057, -5.622900009155273, -5.673500061035156, -5.687900066375732, -5.700799942016602, -5.716899871826172, -5.734499931335449, -5.747200012207031, -5.790900230407715, -5.801300048828125, -5.804800033569336, -5.821199893951416, -5.831399917602539, -5.843200206756592, -5.8572001457214355, -5.860400199890137, -5.189700126647949, -5.7967000007629395, -4.029099941253662, -5.603600025177002, -5.240900039672852, -4.210599899291992, -4.547100067138672, -5.4842000007629395, -5.3734002113342285, -4.396699905395508, -4.97189998626709, -4.926799774169922, -5.155099868774414, -5.157400131225586, -5.071100234985352, -4.752500057220459, -4.2642998695373535, -5.297900199890137, -5.325300216674805, -5.177299976348877, -5.315800189971924, -5.381800174713135, -3.246999979019165, -4.712900161743164, -4.806099891662598, -4.999800205230713, -5.030200004577637, -5.123499870300293, -5.143400192260742, -5.160099983215332, -5.175099849700928, -5.236599922180176, -5.302000045776367, -5.322400093078613, -5.436299800872803, -5.441400051116943, -5.465199947357178, -5.474599838256836, -5.4781999588012695, -5.482600212097168, -5.630199909210205, -5.638400077819824, -5.649199962615967, -5.682300090789795, -5.750999927520752, -5.753799915313721, -5.800899982452393, -5.834700107574463, -5.872099876403809, -5.9028000831604, -5.923999786376953, -5.939000129699707, -5.320400238037109, -4.768700122833252, -4.89139986038208, -5.609799861907959, -5.359300136566162, -4.506999969482422, -5.174099922180176, -4.8155999183654785, -4.979000091552734, -5.431000232696533, -5.250699996948242, -5.215000152587891, -5.330399990081787, -5.3403000831604, -5.17609977722168, -5.422100067138672, -5.458799839019775, -4.190100193023682, -4.4492998123168945, -4.855599880218506, -4.961999893188477, -5.014500141143799, -5.287399768829346, -5.133999824523926, -5.308599948883057, -5.310699939727783, -5.340000152587891, -5.505099773406982, -5.539299964904785, -5.545000076293945, -5.578700065612793, -5.599999904632568, -5.609399795532227, -5.6230998039245605, -5.630300045013428, -5.697800159454346, -5.7144999504089355, -5.717400074005127, -5.7393999099731445, -5.749100208282471, -5.77239990234375, -5.787899971008301, -5.79010009765625, -5.853600025177002, -5.952099800109863, -5.9664998054504395, -5.970300197601318, -5.369999885559082, -5.739799976348877, -4.861400127410889, -4.657199859619141, -4.766499996185303, -4.818299770355225, -5.337699890136719, -4.80079984664917, -5.2947998046875, -4.718900203704834, -5.167099952697754, -5.123000144958496, -5.1066999435424805, -5.39900016784668, -5.5858001708984375, -5.564300060272217, -5.5370001792907715, -5.570000171661377, -5.571400165557861, -3.354099988937378, -3.4047000408172607, -3.963399887084961, -4.163700103759766, -4.351200103759766, -4.480299949645996, -4.573200225830078, -4.732699871063232, -4.764699935913086, -4.7941999435424805, -5.057700157165527, -5.133999824523926, -5.281099796295166, -5.30709981918335, -5.310800075531006, -5.332900047302246, -5.342599868774414, -5.361199855804443, -5.3881001472473145, -5.467400074005127, -5.536799907684326, -5.538599967956543, -5.5416998863220215, -5.552700042724609, -5.565700054168701, -5.5954999923706055, -5.615799903869629, -5.6458001136779785, -5.650300025939941, -5.6504998207092285, -5.020899772644043, -4.05210018157959, -4.070899963378906, -5.4054999351501465, -5.133699893951416, -5.183899879455566, -4.510300159454346, -5.31279993057251, -5.231800079345703, -5.456200122833252, -5.292799949645996, -5.43179988861084, -4.246799945831299, -4.46750020980835, -4.556600093841553, -4.573500156402588, -4.595600128173828, -4.629799842834473, -4.642899990081787, -4.785200119018555, -4.929599761962891, -5.0721001625061035, -5.089900016784668, -5.104800224304199, -5.134699821472168, -5.139699935913086, -5.163300037384033, -5.17609977722168, -5.188700199127197, -5.256800174713135, -5.322800159454346, -5.360300064086914, -5.3694000244140625, -5.398200035095215, -5.442200183868408, -5.445400238037109, -5.454999923706055, -5.465400218963623, -5.471099853515625, -5.4878997802734375, -5.488500118255615, -5.492599964141846, -4.609399795532227, -3.943000078201294, -4.412899971008301, -4.616099834442139, -5.241799831390381, -5.319900035858154, -5.083700180053711, -5.043300151824951, -4.944200038909912, -4.989200115203857, -5.086400032043457, -5.277599811553955, -4.199399948120117, -4.20989990234375, -4.516900062561035, -4.720900058746338, -4.744900226593018, -4.797599792480469, -4.8069000244140625, -4.8846001625061035, -4.999100208282471, -5.013299942016602, -5.028299808502197, -5.092100143432617, -5.156300067901611, -5.269800186157227, -5.272299766540527, -5.395100116729736, -5.465099811553955, -5.470900058746338, -5.605100154876709, -5.64870023727417, -5.651800155639648, -5.707799911499023, -5.721199989318848, -5.723999977111816, -5.725599765777588, -5.753799915313721, -5.770500183105469, -5.776899814605713, -5.804699897766113, -5.806099891662598, -4.912199974060059, -4.047699928283691, -5.16349983215332, -4.589799880981445, -5.220300197601318, -5.041800022125244, -4.999899864196777, -5.354400157928467, -4.400300025939941, -5.156099796295166, -4.8643999099731445, -5.19890022277832, -5.381899833679199, -5.4120001792907715, -5.3267998695373535, -3.220599889755249, -4.3531999588012695, -4.480000019073486, -4.489099979400635, -4.548999786376953, -4.620500087738037, -5.040200233459473, -5.048699855804443, -5.071300029754639, -5.076399803161621, -5.086400032043457, -5.114699840545654, -5.129000186920166, -5.151899814605713, -5.172900199890137, -5.276400089263916, -5.280700206756592, -5.419899940490723, -5.424200057983398, -5.460599899291992, -5.49429988861084, -5.5559000968933105, -5.5609002113342285, -5.575900077819824, -5.609600067138672, -5.634099960327148, -5.647900104522705, -5.650300025939941, -5.708399772644043, -5.729499816894531, -5.406400203704834, -4.5279998779296875, -5.2804999351501465, -5.001200199127197, -5.525599956512451, -5.546999931335449, -5.5030999183654785, -5.543300151824951, -3.6361000537872314, -4.074699878692627, -4.21120023727417, -4.318999767303467, -4.328800201416016, -4.511499881744385, -4.540299892425537, -4.578199863433838, -4.851399898529053, -4.965400218963623, -4.967199802398682, -5.00029993057251, -5.1753997802734375, -5.235599994659424, -5.242300033569336, -5.24429988861084, -5.2683000564575195, -5.356299877166748, -5.357600212097168, -5.398099899291992, -5.415900230407715, -5.425300121307373, -5.484300136566162, -5.543600082397461, -5.5833001136779785, -5.589000225067139, -5.602700233459473, -5.662399768829346, -5.7144999504089355, -5.747200012207031, -4.184299945831299, -5.268700122833252, -4.958499908447266, -4.386199951171875, -5.4721999168396, -5.2540998458862305, -5.173799991607666, -5.363800048828125, -4.855999946594238, -4.838099956512451, -5.164999961853027, -5.089300155639648, -5.271500110626221, -3.3864998817443848, -3.5329999923706055, -3.862799882888794, -4.4232001304626465, -4.425600051879883, -4.504700183868408, -4.945799827575684, -5.010000228881836, -5.189199924468994, -5.230100154876709, -5.280700206756592, -5.333099842071533, -5.339399814605713, -5.3917999267578125, -5.403600215911865, -5.417200088500977, -5.457900047302246, -5.557400226593018, -5.569200038909912, -5.634500026702881, -5.64870023727417, -5.68149995803833, -5.7220001220703125, -5.790599822998047, -5.815400123596191, -5.852700233459473, -5.871300220489502, -5.885000228881836, -5.911499977111816, -5.916800022125244, -4.258999824523926, -5.850200176239014, -5.513199806213379, -3.935499906539917, -3.9677000045776367, -4.233399868011475, -4.354300022125244, -4.86929988861084, -4.961900234222412, -4.988999843597412, -5.027699947357178, -5.029399871826172, -5.03879976272583, -5.132400035858154, -5.294000148773193, -5.325900077819824, -5.34060001373291, -5.380499839782715, -5.387700080871582, -5.430099964141846, -5.4899001121521, -5.5233001708984375, -5.575900077819824, -5.5802998542785645, -5.596099853515625, -5.624300003051758, -5.631999969482422, -5.66480016708374, -5.687699794769287, -5.713799953460693, -5.781700134277344, -5.839600086212158, -5.842800140380859, -4.540800094604492, -4.172500133514404, -5.149799823760986, -3.898099899291992, -4.594900131225586, -4.888199806213379, -5.116000175476074, -5.0665998458862305, -5.479800224304199, -5.455999851226807, -5.428500175476074, -5.51230001449585], \"Term\": [\"ax\", \"line\", \"not\", \"organization\", \"max\", \"do\", \"write\", \"article\", \"be\", \"would\", \"say\", \"go\", \"nntp_post\", \"host\", \"get\", \"university\", \"space\", \"window\", \"s\", \"know\", \"year\", \"use\", \"game\", \"mail\", \"right\", \"christian\", \"government\", \"team\", \"system\", \"card\", \"nntp_post\", \"anyone\", \"car\", \"buy\", \"bike\", \"nice\", \"memory\", \"anybody\", \"display\", \"oil\", \"chicago\", \"door\", \"organization\", \"engine\", \"air\", \"robert\", \"stick\", \"engineering\", \"originator\", \"insurance\", \"dod\", \"advice\", \"battery\", \"limit\", \"internal\", \"auto\", \"motor\", \"hole\", \"texas\", \"wall\", \"line\", \"host\", \"university\", \"reply\", \"article\", \"wonder\", \"write\", \"sound\", \"distribution_usa\", \"like\", \"distribution_world\", \"good\", \"inc\", \"get\", \"thank\", \"look\", \"would\", \"be\", \"need\", \"know\", \"much\", \"have\", \"not\", \"help\", \"want\", \"try\", \"new\", \"lot\", \"do\", \"work\", \"time\", \"problem\", \"may\", \"make\", \"could\", \"president\", \"argument\", \"statement\", \"decision\", \"jew\", \"arab\", \"clearly\", \"attempt\", \"russian\", \"genocide\", \"respect\", \"discuss\", \"context\", \"atheist\", \"punishment\", \"theory\", \"msg\", \"authority\", \"german\", \"party\", \"imply\", \"concept\", \"instance\", \"principle\", \"promise\", \"physical\", \"posting\", \"establish\", \"deity\", \"worship\", \"term\", \"rule\", \"present\", \"sense\", \"claim\", \"concern\", \"exist\", \"discussion\", \"clear\", \"thus\", \"answer\", \"view\", \"yet\", \"example\", \"true\", \"must\", \"reason\", \"fact\", \"rather\", \"mean\", \"issue\", \"however\", \"may\", \"point\", \"consider\", \"question\", \"many\", \"perhaps\", \"part\", \"world\", \"accept\", \"make\", \"word\", \"also\", \"people\", \"follow\", \"give\", \"would\", \"way\", \"group\", \"read\", \"say\", \"write\", \"see\", \"time\", \"mr_stephanopoulo\", \"kid\", \"hell\", \"job\", \"drug\", \"stand\", \"matthew\", \"peace\", \"health\", \"doctor\", \"should\", \"imagine\", \"hate\", \"somewhere\", \"stay\", \"firearm\", \"trial\", \"hurt\", \"neighbor\", \"weekend\", \"stupid\", \"davidian\", \"laugh\", \"coverage\", \"last_night\", \"complain\", \"ohio\", \"statistic\", \"economic\", \"newsletter\", \"happen\", \"face\", \"forget\", \"s\", \"go\", \"boy\", \"smith\", \"that\", \"away\", \"not\", \"money\", \"say\", \"do\", \"tell\", \"tax\", \"talk\", \"start\", \"take\", \"let\", \"think\", \"day\", \"come\", \"never\", \"young\", \"people\", \"be\", \"even\", \"stop\", \"see\", \"know\", \"would\", \"could\", \"time\", \"get\", \"want\", \"well\", \"make\", \"thing\", \"have\", \"year\", \"right\", \"good\", \"window\", \"color\", \"graphic\", \"machine\", \"mode\", \"format\", \"video\", \"mac\", \"peter\", \"screen\", \"hd\", \"ram\", \"pc\", \"font\", \"vlb\", \"mouse\", \"scsi\", \"port\", \"setup\", \"xfree\", \"laptop\", \"tape\", \"meg\", \"client\", \"vesa\", \"controller\", \"modem\", \"vga\", \"ide\", \"gif\", \"card\", \"file\", \"board\", \"monitor\", \"instal\", \"disk\", \"driver\", \"drive\", \"system\", \"run\", \"problem\", \"use\", \"bit\", \"standard\", \"email\", \"work\", \"set\", \"do\", \"support\", \"version\", \"help\", \"mail\", \"internet\", \"advance\", \"server\", \"access\", \"sun\", \"package\", \"newsgroup\", \"library\", \"directory\", \"corporation\", \"mit\", \"pin\", \"illinois\", \"material\", \"motif\", \"moon\", \"upgrade\", \"pub\", \"purchase\", \"genoa\", \"ftp\", \"mailing_list\", \"brave\", \"quick\", \"speaker\", \"terminal\", \"editor\", \"urbana\", \"cpu\", \"site\", \"available\", \"ca\", \"list\", \"send\", \"include\", \"information\", \"fax\", \"network\", \"source\", \"program\", \"image\", \"offer\", \"info\", \"software\", \"service\", \"application\", \"page\", \"user\", \"message\", \"also\", \"call\", \"post\", \"group\", \"new\", \"ax\", \"nyi\", \"stl\", \"buffalo\", \"pool\", \"brian_kendig\", \"sunday\", \"finland\", \"espn\", \"lemieux\", \"qax\", \"chain\", \"harry\", \"canuck\", \"tiger\", \"mormon\", \"winnipeg_jet\", \"cirrus_logic\", \"org\", \"dear\", \"anaheim\", \"pure\", \"discharge\", \"lawrence\", \"final_standing\", \"praise\", \"new_brunswick\", \"sinner\", \"married\", \"penn_state\", \"christian\", \"god\", \"religion\", \"bible\", \"belief\", \"faith\", \"king\", \"church\", \"spank\", \"normal\", \"lord\", \"father\", \"moral\", \"verse\", \"christ\", \"gay\", \"christianity\", \"scripture\", \"marriage\", \"sex\", \"pain\", \"homosexual\", \"sin\", \"zoroastrian\", \"passage\", \"animal\", \"mystery\", \"honor\", \"soul\", \"satan\", \"truth\", \"man\", \"die\", \"love\", \"life\", \"heart\", \"law\", \"believe\", \"child\", \"word\", \"book\", \"human\", \"say\", \"death\", \"come\", \"woman\", \"march\", \"mission\", \"boston\", \"satellite\", \"schedule\", \"pray\", \"case_western\", \"reserve_university\", \"morning\", \"brother\", \"la\", \"gov\", \"hat\", \"medicine\", \"spacecraft\", \"estimate\", \"minnesota\", \"cleveland_ohio\", \"astronomy\", \"km\", \"san_francisco\", \"pitch\", \"morris\", \"frank\", \"mar\", \"hospital\", \"energy\", \"membership\", \"comet\", \"ins_cwru\", \"george\", \"washington\", \"rd\", \"april\", \"san_jose\", \"national\", \"study\", \"student\", \"center\", \"research\", \"mr\", \"medium\", \"year\", \"room\", \"usa\", \"news\", \"day\", \"vote\", \"time\", \"gun\", \"protect\", \"police\", \"criminal\", \"law_enforcement\", \"crime\", \"arrest\", \"policy\", \"weapon\", \"clipper_chip\", \"citizen\", \"discipline\", \"permit\", \"court\", \"federal\", \"constitution\", \"illegal\", \"cop\", \"implement\", \"hunt\", \"ban\", \"senate\", \"handgun\", \"regulation\", \"militia\", \"guard\", \"prohibit\", \"gun_control\", \"amendment\", \"restriction\", \"government\", \"legal\", \"congress\", \"ensure\", \"public\", \"law\", \"private\", \"american\", \"state\", \"right\", \"house\", \"national\", \"carry\", \"case\", \"fire\", \"country\", \"key\", \"chip\", \"encryption\", \"wiretap\", \"hang\", \"apple\", \"clipper\", \"algorithm\", \"spanking\", \"nec\", \"printer\", \"encrypt\", \"hard_drive\", \"secure\", \"crypto\", \"finger\", \"tap\", \"shape\", \"automatically\", \"nsa\", \"compatible\", \"clean\", \"friday\", \"default\", \"ticket\", \"key_escrow\", \"timeout\", \"magic\", \"broadcast\", \"tree\", \"communication\", \"agency\", \"phone\", \"device\", \"security\", \"block\", \"technology\", \"bit\", \"system\", \"use\", \"message\", \"electronic\", \"datum\", \"information\", \"contain\", \"new\", \"need\", \"max\", \"obvious\", \"mile\", \"ride\", \"dealer\", \"count\", \"hall\", \"stat\", \"dog\", \"summer\", \"dollar\", \"brake\", \"screw\", \"jack\", \"bolt\", \"risk\", \"jeff\", \"rough\", \"tm\", \"yesterday\", \"misc\", \"shipping\", \"damn\", \"chris\", \"seat\", \"mid\", \"rid\", \"cold\", \"rating\", \"capital\", \"average\", \"alan\", \"cost\", \"master\", \"distribution_na\", \"price\", \"sell\", \"magazine\", \"richard\", \"sale\", \"total\", \"canada\", \"pull\", \"mike\", \"pick\", \"pay\", \"year\", \"extra\", \"trade\", \"road\", \"new_york\", \"hit\", \"space\", \"launch\", \"switch\", \"radio\", \"mon\", \"orbit\", \"van\", \"nasa\", \"flight\", \"min\", \"station\", \"volt\", \"doc\", \"audio\", \"signal\", \"aerospace\", \"mount\", \"panel\", \"amp\", \"ott\", \"expand\", \"slap\", \"cylinder\", \"metal\", \"battery_charger\", \"frequency\", \"channel\", \"monthly\", \"conductor\", \"fuel\", \"rocket\", \"ground\", \"project\", \"scale\", \"fly\", \"power\", \"unit\", \"build\", \"high\", \"mass\", \"level\", \"low\", \"earth\", \"design\", \"system\", \"large\", \"model\", \"israel\", \"israeli\", \"international\", \"soldier\", \"chief\", \"civilian\", \"border\", \"privacy\", \"lebanon\", \"terrorist\", \"massacre\", \"anger\", \"movement\", \"tomorrow\", \"february\", \"plane\", \"million\", \"pm\", \"rat\", \"heavy\", \"soviet\", \"emergency\", \"captain\", \"lunar\", \"ref\", \"edward\", \"train\", \"bomb\", \"secretary\", \"territory\", \"army\", \"nt\", \"committee\", \"attack\", \"military\", \"land\", \"enjoy\", \"hour\", \"population\", \"kill\", \"jewish\", \"report\", \"center\", \"area\", \"equal\", \"fight\", \"standard\", \"department\", \"control\", \"game\", \"team\", \"player\", \"hockey\", \"season\", \"contact\", \"nhl\", \"goal\", \"fan\", \"score\", \"ice\", \"canadian\", \"vancouver\", \"gd\", \"devil\", \"pit\", \"playoff\", \"detroit\", \"nyr\", \"coach\", \"bos\", \"defenseman\", \"hockey_league\", \"tor\", \"excellent\", \"draft\", \"tampa_bay\", \"det\", \"ahl\", \"phi\", \"hawk\", \"play\", \"win\", \"wing\", \"final\", \"division\", \"year\", \"period\", \"first\", \"pittsburgh\", \"good\", \"second\", \"computer_science\", \"homeopathy\", \"review\", \"development\", \"object\", \"gordon_bank\", \"ibm\", \"medical\", \"search\", \"reader\", \"useful\", \"disease\", \"patient\", \"professional\", \"resource\", \"homeopathic\", \"demonstrate\", \"success\", \"gps\", \"treatment\", \"announcement\", \"logical\", \"tel\", \"edition\", \"comparison\", \"painful\", \"thinking\", \"background\", \"fox\", \"installation\", \"univ\", \"science\", \"prove\", \"text\", \"description\", \"scientific\", \"develop\", \"soon\", \"reference\", \"david\", \"research\", \"pittsburgh\", \"rise\", \"paul\", \"edge\", \"water\", \"teach\", \"mother\", \"girl\", \"mhz\", \"wave\", \"reserve\", \"button\", \"probe\", \"widget\", \"cool\", \"miller\", \"frame\", \"seal\", \"lamp\", \"darren\", \"slave\", \"heat\", \"pop\", \"ken\", \"seize\", \"wind\", \"window_manager\", \"france\", \"bottle\", \"ltd\", \"tonight\", \"table\", \"light\", \"pressure\", \"building\", \"relative\", \"ago\", \"foot\", \"shell\", \"fire\", \"eye\", \"wait\", \"blood\", \"supply\", \"middle\", \"food\", \"armenian\", \"league\", \"turk\", \"turkish\", \"baseball\", \"serdar_argic\", \"cal\", \"hug\", \"sumgait\", \"chi\", \"turkey\", \"azerbaijani\", \"apartment\", \"suck\", \"ranger\", \"ham\", \"armenia\", \"xterm\", \"czar\", \"crowd\", \"mutlu\", \"logo\", \"darin\", \"interview\", \"plate\", \"penguin\", \"gold\", \"hill\", \"hitter\", \"bounce\", \"vay\", \"greek\", \"yalanci\", \"road\", \"burn\", \"today\", \"year\", \"first\", \"wire\", \"circuit\", \"connect\", \"wiring\", \"voice\", \"outlet\", \"neutral\", \"conference\", \"usenet\", \"lock\", \"computing\", \"timer\", \"gfci\", \"voltage\", \"mont_pierce\", \"annual\", \"div\", \"construction\", \"helmet\", \"familiar\", \"breaker\", \"gene\", \"postscript\", \"legend\", \"firm\", \"civil\", \"kurt\", \"cell\", \"portion\", \"ought\", \"faq\", \"multi\", \"depend\", \"cover\", \"pipe\", \"analysis\", \"art\", \"guide\", \"cable\", \"current\", \"house\", \"email\", \"copy\", \"_\", \"blue\", \"tank\", \"eg\", \"gas\", \"hi\", \"henry_spencer\", \"cigarette\", \"xlib\", \"fd\", \"mf\", \"xga\", \"toronto_zoology\", \"henry\", \"dress\", \"bay\", \"bitmap\", \"ontario\", \"fp\", \"shk\", \"gr\", \"gq\", \"mg\", \"cc\", \"eeg\", \"interactive\", \"lens\", \"ep\", \"nc\", \"lately\", \"cubs_suck\", \"csa\", \"band\", \"bus\", \"specifically\", \"associate\", \"motorcycle\", \"confuse\", \"entry\", \"detect\", \"brand\", \"ease\", \"string\", \"bag\", \"vesa_local\", \"guru\", \"countersteer\", \"bradley\", \"lane\", \"forum\", \"int\", \"scoop\", \"vram\", \"enjoyment\", \"nick\", \"libxmu\", \"callback\", \"ati\", \"safely\", \"detector\", \"drawing\", \"ms_window\", \"steer\", \"properly\", \"function\", \"shift\", \"value\", \"code\", \"error\", \"return\", \"set\", \"compile\", \"character\", \"size\", \"build\"], \"Freq\": [57084.0, 12491.0, 16294.0, 11141.0, 3845.0, 10454.0, 9655.0, 7586.0, 8048.0, 11783.0, 6906.0, 5804.0, 4407.0, 4083.0, 6852.0, 5027.0, 1863.0, 2294.0, 3735.0, 7292.0, 3461.0, 4598.0, 1540.0, 1948.0, 3006.0, 1684.0, 1746.0, 1464.0, 3380.0, 2012.0, 4406.579795296841, 2749.8589998659745, 1502.6605788758434, 1198.5517013183783, 707.7660537543527, 632.7813443085821, 606.7693582881913, 589.2788295603908, 514.6105391136924, 414.5150852978886, 404.45316869532536, 400.42741915908783, 11114.7070195851, 392.825976204915, 380.1547170114112, 618.3063503018258, 335.03872788033743, 330.53911296289243, 316.1530984450706, 316.141193813618, 315.28283936118595, 307.7610048142657, 306.0191740845669, 293.7745890922045, 268.80755499109193, 265.75865677728433, 263.7447289071524, 253.16891378453516, 252.8978086967231, 251.07450755331377, 12242.191611995902, 4020.465833453107, 4632.622251146494, 2448.6967322659125, 6739.481703657637, 590.614529209378, 8029.590643441107, 635.025825207847, 557.0940784589291, 616.8862803930049, 770.821589891864, 3296.5860979101926, 782.954790268404, 3755.115139238296, 1598.5222878766447, 2091.9372717075116, 5054.236190278381, 3716.488944681286, 1906.5639672709285, 3139.917485029805, 1573.619386161896, 1468.5323814273886, 3992.4558839786087, 1217.586169171499, 1608.6091126311703, 1445.2869707072014, 1364.9100737073013, 979.1266332722054, 2139.883754852281, 1363.6318215362471, 1598.5045835529459, 1225.776921907274, 1358.3753467806778, 1428.5458843163892, 1250.1555314429695, 1073.5257194576097, 683.2847799250893, 567.0466910415415, 519.296949650066, 483.4180003424867, 439.365687846991, 408.75284294274974, 399.6874435132155, 397.98205067925176, 388.45986899811254, 377.69382267276103, 380.0752829726885, 354.9309595927319, 339.30507260537723, 315.9340432828657, 303.71799849380693, 301.81876553554696, 297.48529515797134, 294.49160883714694, 290.08065958983053, 279.60277176193955, 275.97744681779983, 275.41353787803286, 267.74684647223717, 255.53211682266482, 255.1968992035831, 251.00349118130657, 246.99912016520219, 246.03146340311775, 244.96116858111833, 466.81136237816156, 745.9779366804568, 609.451305300541, 412.89324512572756, 1426.6733784968046, 403.43633438909694, 1177.795467215359, 633.1283904535234, 642.4822914603841, 546.9397521542488, 1029.2447442314176, 907.6909187239155, 778.1264642449415, 852.7960816829367, 1183.393958828884, 1572.7563280045279, 1292.9472508831602, 1451.4453458621838, 984.3812193927386, 1627.4853431102679, 931.0362456464651, 1044.1222882610355, 2618.9035879947164, 1680.17920845083, 1043.4003338629927, 1765.1922264092398, 1697.0652563760325, 754.4689918242996, 1077.9270910586667, 1092.8167572435505, 724.7199648426966, 2089.3671338436593, 966.8028362979258, 1701.0487567002879, 1770.5263178060256, 1007.7249452759135, 1424.933277416396, 2338.4040054630236, 1224.0822016982077, 1026.8352943324214, 1047.0253157272664, 1269.3012716380294, 1320.6184718362442, 1032.8755584534135, 992.665683277265, 985.6940984613277, 759.1840587495146, 679.9863312772707, 621.3586938666224, 562.2511527985021, 491.7998076385975, 456.74443492569367, 325.9485561212092, 315.6132281738435, 312.218037009178, 312.146688888172, 311.88490584756374, 311.6082677342154, 278.46643630654336, 264.8843037774632, 264.28512181953636, 262.69595732524317, 260.68094741239975, 242.04691378311708, 227.02074781109982, 224.12218935911918, 216.62210114208213, 210.22198592172765, 208.90999301024584, 193.8978750674221, 193.05461031209677, 188.92308082268562, 175.91948908692373, 173.06824527270373, 171.22524506493124, 1252.9617522978094, 806.0704983545239, 306.38048585565883, 3323.872370801305, 4884.781258301985, 335.23563025239923, 322.38533575438925, 1009.4268690739273, 792.3172178787362, 11897.857706596998, 695.7840855947069, 5181.936114765633, 7434.165179538725, 2043.889049687347, 448.60196740292747, 1064.5366173434102, 1478.9737777478156, 2487.0946041465795, 1335.6755633222672, 3556.3079157345182, 1744.1934559943786, 2379.6673141345905, 1440.8769451603564, 484.4205844517002, 3010.320578062294, 4330.763098690516, 1964.5052918382469, 619.3671839675611, 2493.6960562137683, 3353.004727816969, 4363.268077008948, 1917.7466660451012, 2425.411527225703, 2623.308234673281, 1765.142993309944, 1546.4137288249538, 2168.816764398356, 1616.2338838591488, 1458.7555586725614, 1478.1970462096247, 1318.1368382515413, 1501.1782540997256, 2293.427469431378, 862.0755429309611, 823.9354295598603, 682.2827230568396, 671.2218347122136, 657.533246058668, 595.519509512114, 593.7370717774681, 576.609721349051, 528.5777125901561, 497.90459437460873, 496.46157602890946, 457.6394768225865, 426.65049586780253, 393.3462526044779, 382.3087820687976, 378.0252436623282, 368.79487823712, 359.64335122602006, 355.77538636782543, 339.7948606541752, 334.50773492164774, 329.0604100870152, 320.464593235825, 313.06549121411183, 310.14877071375884, 309.6020852035416, 298.06501931693685, 286.2527016147116, 271.4529471827483, 1951.4176820611406, 1704.216143774049, 764.5267622776124, 557.1752539369439, 468.030134516718, 579.1805895050355, 757.4219563963835, 1394.4362035511833, 1287.1492242363415, 1032.111235519363, 1071.0117334773734, 1317.2176909224931, 706.4873426148598, 583.3270689368163, 577.3129961014964, 777.8589929689423, 578.1718187904362, 847.4672730533701, 562.6814935359791, 516.5059709194634, 524.2321355020828, 1948.0253290127935, 923.3460682152895, 874.1175164393096, 761.4899274394147, 719.047739852437, 635.0710366267582, 593.1640668305546, 538.4534133645985, 468.7231938213537, 406.00719858105424, 396.32854975220226, 384.4710755061895, 359.0915234174433, 355.531248392369, 349.68265934842526, 348.53019143406675, 314.4265220609281, 312.50592913359924, 301.26070276610216, 282.76385855501593, 255.34884135509532, 250.29087621113564, 230.37159987311904, 226.32752026667794, 221.11091890241843, 217.90910072129086, 207.97933021734607, 204.68417418092048, 204.23500397796752, 195.58648115941367, 448.0247112638017, 1466.265073236054, 991.6264890890748, 1084.3949408497404, 1216.9735468906672, 1419.1277739411416, 1598.3945090740278, 610.3373798048832, 580.5656770929548, 825.444191434379, 1151.2130910887824, 776.8564653854247, 669.0951411422324, 892.3564646344474, 802.3484446144627, 652.8390111112888, 591.8768074784441, 600.1564876258456, 508.64967833895577, 607.3674818558936, 926.625118368489, 697.9685931746237, 677.2654897090708, 632.9733687103108, 634.7546165866636, 57083.625468760445, 238.1317298581401, 227.25593740166167, 209.4846349870896, 172.66954622597947, 164.6148748053824, 153.58460361192246, 148.92128693456297, 134.4343949549232, 133.5520880989721, 128.19976689229625, 124.61218989698362, 116.84663187605838, 108.89013683122936, 98.87122830445222, 97.91230195245019, 91.44434900973717, 86.70915159800501, 84.86198882079182, 84.43361618377985, 79.10008689949076, 77.21516084074514, 69.82687676162652, 64.7318760234317, 60.789515852797464, 60.76812617551478, 60.60355412084505, 60.57333533940278, 59.64611627832028, 58.14669378364181, 1684.0200872976961, 1576.83161353903, 713.1558118857163, 640.7574636325469, 542.4937906992931, 506.40945141546115, 489.38813528754065, 482.24060759538725, 450.7236516160239, 392.8512834582707, 376.4758976330142, 343.43857226150106, 321.38363081728, 291.3824947622524, 290.089818390282, 256.2895158907254, 251.55351989637893, 244.35684226401455, 237.14226482897521, 236.97082833148863, 231.07906357073227, 230.4029185266555, 220.0540244607292, 209.42908751323503, 203.71323027867896, 198.13443752788385, 194.24164617330726, 191.1294964321484, 190.43099624450298, 187.38283712132065, 508.7974200075557, 839.9575120250238, 533.9940670459064, 534.1904785529097, 734.289941044389, 251.3593360598225, 552.1726736587815, 609.0861395039094, 417.3360172228348, 431.7089783215009, 346.6218819543985, 301.98645709434214, 448.71583027933696, 271.83619262193656, 290.61200316840586, 258.2470420763379, 355.82030200637826, 349.1296706625545, 320.1066902242033, 314.1250432907945, 310.3680857491395, 309.9064985198859, 302.8816412868598, 296.08268951383604, 289.5925937035336, 258.03243209321806, 255.47890320854242, 254.2170590839015, 247.99846457811543, 231.75963786774193, 228.27218866397953, 219.97727305198484, 217.11542684421593, 214.5461696824014, 198.0177703079906, 192.01173646542202, 191.74827435735423, 187.13020710833348, 182.19407315895182, 172.92470459585988, 169.56667702872613, 147.03204182188625, 145.63866190007656, 145.51531342525413, 143.87632729904638, 142.7724661773112, 429.5215812843923, 295.41138294540286, 285.0035187324924, 505.5770658527237, 281.19536349419167, 636.6758646912174, 496.4825666448767, 331.0443603752594, 551.5815223886161, 404.028925764196, 221.19607987034493, 268.6851888130194, 508.90084940550446, 285.3453394404501, 321.6810261290549, 315.9215411102335, 321.99483757635426, 241.1394544865646, 258.0877503830183, 1314.5792937695505, 633.8884807785395, 566.6739337740185, 549.0623377469257, 426.4553708039805, 414.04195537191356, 399.77486734422996, 367.64700289512416, 365.89482763979686, 365.7433779347723, 300.72559739944387, 260.72217133230083, 245.62851828956303, 243.92391912251094, 232.85727101396023, 227.68358629010262, 220.20868005095625, 203.75960144334502, 192.4274423596861, 178.62650899076627, 173.3903206121476, 172.5442018753714, 157.97972537666305, 156.94618415398259, 154.95960439359098, 140.68023051101804, 136.01027847739124, 134.88351896272644, 134.3506642460913, 126.9856228739182, 1613.8702016164555, 295.2024989178079, 251.90171118740503, 200.71096514275203, 697.3996767586432, 1184.2937180798497, 306.6658082384335, 572.1302184398673, 941.7065303047416, 811.4664577812974, 267.8265301208963, 281.5942714579855, 250.01123158619401, 298.0766811348798, 231.99400011145894, 230.33963138404692, 1505.32461361285, 1181.450441896193, 546.7842916095698, 495.65844372723234, 447.6932523724978, 430.55588746495783, 388.6184403029659, 353.13491342339023, 319.9352677711051, 289.90116818472455, 279.1134215993435, 272.6032102000957, 270.691302441907, 270.3303611471646, 239.28348829815727, 228.5951295641876, 225.98325614196747, 218.4829746629616, 214.73284620873076, 214.37111865657297, 200.70673874961872, 195.74015950636442, 190.9963613876458, 189.0182974391172, 186.71935446821357, 184.56629910367707, 176.2690474520187, 173.09124068454315, 170.35147757960456, 169.16164897525456, 296.23867322857797, 349.8880388560835, 568.8190573930838, 477.00640305007425, 311.1152040793154, 266.8763077509083, 518.2517962632769, 526.654234414785, 667.3169145513489, 730.9386532539545, 389.86345434965705, 239.88173190907546, 302.98481099352466, 345.5784391097298, 260.5870346853789, 334.2610498729214, 329.2414596804903, 3844.2676449510286, 533.2345510151711, 352.3609495808321, 308.9124908400521, 289.25438621845495, 288.17730816913854, 271.1416481264743, 266.8330207956418, 231.6247230422568, 222.07491543322945, 215.95965160483993, 213.97501312411467, 191.99658004999412, 191.6556903743434, 188.48274381573475, 188.1414178012992, 178.8613887665166, 176.29690452283563, 174.04641451692913, 171.2691908745985, 168.28322760581253, 166.15542152157488, 159.0478142117791, 157.4072894655036, 156.8517089871933, 154.30672666309, 152.73767663387446, 150.9385306187904, 148.84792241595974, 148.3617561660033, 290.1625769169974, 158.13447229147124, 926.0834976458663, 191.80067605612595, 275.66129374186073, 772.4332911666446, 551.6725311891574, 216.1235453006319, 241.4683805818255, 641.2408116756388, 360.7615620358276, 377.3860697379612, 300.37341354400303, 299.6636600283851, 326.6966900680972, 449.2460739449584, 732.045530832075, 260.4002962602427, 253.3664908076927, 293.77085625712954, 255.7878559299485, 239.4489562035316, 1862.347757804952, 429.96956280080263, 391.7181782044942, 322.7332741701797, 313.06653324621794, 285.1845340172797, 279.5761562562345, 274.93026022491586, 270.8405658409834, 254.69372561808964, 238.56813710596325, 233.7505549033982, 208.5794533356801, 207.51113674834423, 202.64610056832598, 200.74843206582926, 200.017533774003, 199.13742751077663, 171.81859861717297, 170.413789176087, 168.58240683335515, 163.0874235626059, 152.26450483365525, 151.8389688727761, 144.84755742674608, 140.0408017777776, 134.90170103812594, 130.82736006748132, 128.07306699266908, 126.17556573868313, 234.21146949925364, 406.62296408707374, 359.6844465440319, 175.36162451883257, 225.26657314773564, 528.2860423565218, 271.10047002670575, 388.0260000809381, 329.52690867728467, 209.69480020424194, 251.10753845075303, 260.24450299202874, 231.88330333005854, 229.59474160821162, 270.56879816089776, 211.5633228662634, 203.93449389602168, 669.5630653369406, 516.6902685716313, 344.15559527004837, 309.44465590735865, 293.59210788292285, 223.4894037117476, 260.5378574966054, 218.79469330931713, 218.33415308487045, 212.04132487006194, 179.76721356578213, 173.7245223079261, 172.73035657531412, 167.01395508130497, 163.49204731481788, 161.9542403020606, 159.75051312390536, 158.60873570558564, 148.25349802323402, 145.7982957068751, 145.37515250154811, 142.2151610012953, 140.84159000286627, 137.59606813325877, 135.47769633152535, 135.18919474747153, 126.86416330980404, 114.96098961199384, 113.32338515900386, 112.89160553775577, 205.76826056296323, 142.15197825883544, 342.1737488370417, 419.71651430336925, 376.2237295986648, 357.258283760316, 212.51946732481267, 363.55119432474, 221.8388497817269, 394.5808588276283, 252.06021163409108, 263.4030476672219, 267.7341639300032, 199.8740044869695, 165.8269883115029, 169.42259898382454, 174.12253858683655, 168.46563468999554, 168.23388228469398, 1539.4095312720967, 1463.5128531034825, 837.0674846695591, 685.1193123509061, 567.9966934642038, 499.17904067257933, 454.9170572082395, 387.8507986745418, 375.63502581103336, 364.7035321424937, 280.2111407831058, 259.63079133719, 224.10731449467576, 218.3693984569097, 217.5502442440352, 212.79957244509302, 210.75854961444227, 206.8574166650682, 201.36949171313069, 186.03142558840761, 173.5550957458247, 173.24355576730142, 172.71113732919423, 170.81465181488832, 168.60574412126385, 163.66266022560907, 160.36902510528103, 155.62908332996528, 154.93488362740993, 154.9018626464792, 290.7274256215267, 765.992546754652, 751.7036840873989, 197.90246310393275, 259.7131027230204, 247.00009687172866, 484.4288485382814, 217.11956612555244, 235.4539964770367, 188.11103957477798, 221.50194986690678, 192.76499754699915, 528.7023489623967, 423.9930452506423, 387.8521671336111, 381.36139992221985, 373.00596726723376, 360.4856184830351, 355.7979587724328, 308.57947249943436, 267.1103914161821, 231.63615588379054, 227.53278049281624, 224.1821393426583, 217.57881985015027, 216.4897019039846, 211.44420439225917, 208.7470959462439, 206.13391138089014, 192.56814425218232, 180.27250432516286, 173.63494774316806, 172.05358991393427, 167.17232720433978, 159.97691251852183, 159.46019053578553, 157.94792624995816, 156.30996539338196, 155.42515168724407, 152.83459112825972, 152.74447360326894, 152.10639060081425, 367.90061506489303, 716.4060393675115, 447.79821400275716, 365.45264596202236, 195.47039996203682, 180.78397891478687, 228.95165838581235, 238.39440250736806, 263.2337722259291, 251.64902503136832, 228.3408618275416, 188.59380311806765, 513.9952208505664, 508.62599623281216, 374.18809785438845, 305.1410261238802, 297.8933976188421, 282.59108672037786, 280.00166121083686, 259.05196711911594, 231.0187926981854, 227.7822979509253, 224.39116254122783, 210.52293880105336, 197.4228615245006, 176.23874979975744, 175.80153180139922, 155.48652803734464, 144.97903480666076, 144.12926091682777, 126.03929444983983, 120.66257229635781, 120.28864466608505, 113.7321453853198, 112.21317655126879, 111.90237976704472, 111.72252664669703, 108.61494963344643, 106.81634664505289, 106.13538695062364, 103.22390240106314, 103.08571643671777, 252.0011728552389, 598.1980027277543, 195.99869663689745, 347.8832649407595, 185.18241659965273, 221.3677254262675, 230.85622379052091, 161.94142773289596, 420.46196313874185, 197.46376297472645, 264.3495344379565, 189.19211465909987, 157.549674395403, 152.87992200444432, 166.4822544137433, 1340.5740639999271, 431.9366161512983, 380.5132326772692, 377.05532562302176, 355.1236462799718, 330.63785591670126, 217.30410016593314, 215.45484374170104, 210.64804338498294, 209.57308736167187, 207.4852419169367, 201.69696065345218, 198.8466340397926, 194.33270362089536, 190.2968892772897, 171.59531536226672, 170.84566962914818, 148.6549677520772, 148.01246116826127, 142.72568430158546, 137.98595339627673, 129.74804249806544, 129.10547337863048, 127.17706249461155, 122.96330304705688, 119.99247811247945, 118.34215530933322, 118.05616428960563, 111.39500303875214, 109.07344635179821, 150.6687397560717, 362.6699132317146, 170.87892294456722, 225.9486958285993, 133.73803386682707, 130.90614744382887, 136.78143920424085, 131.39766959244997, 719.9436080613576, 464.33052206522865, 405.0772570044465, 363.66525872309705, 360.1193376709591, 299.9863151897781, 291.4700191245962, 280.62910781890866, 213.5482151027993, 190.53317074883944, 190.19107537135557, 184.0011754321456, 154.45267289128736, 145.43200462080156, 144.4569825485611, 144.17388536245673, 140.74286958473266, 128.89164923334909, 128.7196538591268, 123.619274207036, 121.439330469454, 120.30008531599103, 113.40888540072541, 106.87591059702504, 102.71775292306688, 102.13605212669009, 100.74051211339199, 94.90374904155757, 90.08941139689591, 87.19003445302722, 416.10755275887465, 140.6948874420238, 191.8544987206308, 340.03476579317226, 114.78177000676888, 142.76495054632926, 154.70160251765788, 127.9291315212048, 212.5793243648074, 216.413125552588, 156.07165042756557, 168.3342807629072, 140.29637615708663, 916.0882484288537, 791.237042164271, 568.9829113116787, 324.8669803696967, 324.07527819304556, 299.44524440493984, 192.64468382839902, 180.6606862149278, 151.023104632657, 144.95950835685582, 137.81471778641685, 130.78212495834273, 129.9512286057593, 123.31985904070417, 121.87241106150957, 120.22953446441814, 115.43133754369343, 104.50507194547706, 103.27404946414302, 96.74301724168942, 95.37846595345079, 92.30164117296127, 88.63965919989646, 82.76111290402802, 80.73475004792303, 77.7797134765926, 76.34913866580129, 75.31232156070853, 73.33669170646188, 72.95106162186643, 382.8354944528186, 77.97722917174708, 109.22141886655929, 479.4512659897097, 464.24797562266826, 355.9410170245116, 315.38927154531984, 188.45310410231468, 171.79162472689436, 167.1836354634557, 160.8463216908443, 160.56467218959818, 159.07506689073742, 144.8605496966647, 123.24547900598246, 119.37129840454473, 117.62380295980773, 113.02646483595768, 112.21710393809803, 107.55727608112508, 101.31270264945961, 97.98822141949431, 92.96282633810016, 92.56011155012446, 91.10374534943267, 88.57517395370492, 87.89800946914065, 85.06265782543356, 83.13181878367925, 80.99327680581631, 75.67124977253154, 71.4200851135728, 71.19277128096837, 261.74748122042666, 378.2820794464237, 142.36078894782847, 497.7100163142744, 247.96287236223858, 184.9305825312216, 147.24503357315075, 154.70211125045265, 102.34526891996434, 104.81395622615953, 107.73348844305302, 99.07575762714629], \"Category\": [\"Default\", \"Default\", \"Default\", \"Default\", \"Default\", \"Default\", \"Default\", \"Default\", \"Default\", \"Default\", \"Default\", \"Default\", \"Default\", \"Default\", \"Default\", \"Default\", \"Default\", \"Default\", \"Default\", \"Default\", \"Default\", \"Default\", \"Default\", \"Default\", \"Default\", \"Default\", \"Default\", \"Default\", \"Default\", \"Default\", \"Topic1\", \"Topic1\", \"Topic1\", \"Topic1\", \"Topic1\", \"Topic1\", \"Topic1\", \"Topic1\", \"Topic1\", \"Topic1\", \"Topic1\", \"Topic1\", \"Topic1\", \"Topic1\", \"Topic1\", \"Topic1\", \"Topic1\", \"Topic1\", \"Topic1\", \"Topic1\", \"Topic1\", \"Topic1\", \"Topic1\", \"Topic1\", \"Topic1\", \"Topic1\", \"Topic1\", \"Topic1\", \"Topic1\", \"Topic1\", \"Topic1\", \"Topic1\", \"Topic1\", \"Topic1\", \"Topic1\", \"Topic1\", \"Topic1\", \"Topic1\", \"Topic1\", \"Topic1\", \"Topic1\", \"Topic1\", \"Topic1\", \"Topic1\", \"Topic1\", \"Topic1\", \"Topic1\", \"Topic1\", \"Topic1\", \"Topic1\", \"Topic1\", \"Topic1\", \"Topic1\", \"Topic1\", \"Topic1\", \"Topic1\", \"Topic1\", \"Topic1\", \"Topic1\", \"Topic1\", \"Topic1\", \"Topic1\", \"Topic1\", \"Topic1\", \"Topic1\", \"Topic2\", \"Topic2\", \"Topic2\", \"Topic2\", \"Topic2\", \"Topic2\", \"Topic2\", \"Topic2\", \"Topic2\", \"Topic2\", \"Topic2\", \"Topic2\", \"Topic2\", \"Topic2\", \"Topic2\", \"Topic2\", \"Topic2\", \"Topic2\", \"Topic2\", \"Topic2\", \"Topic2\", \"Topic2\", \"Topic2\", \"Topic2\", \"Topic2\", \"Topic2\", \"Topic2\", \"Topic2\", \"Topic2\", \"Topic2\", \"Topic2\", \"Topic2\", \"Topic2\", \"Topic2\", \"Topic2\", \"Topic2\", \"Topic2\", \"Topic2\", \"Topic2\", \"Topic2\", \"Topic2\", \"Topic2\", \"Topic2\", \"Topic2\", \"Topic2\", \"Topic2\", \"Topic2\", \"Topic2\", \"Topic2\", \"Topic2\", \"Topic2\", \"Topic2\", \"Topic2\", \"Topic2\", \"Topic2\", \"Topic2\", \"Topic2\", \"Topic2\", \"Topic2\", \"Topic2\", \"Topic2\", \"Topic2\", \"Topic2\", \"Topic2\", \"Topic2\", \"Topic2\", \"Topic2\", \"Topic2\", \"Topic2\", \"Topic2\", \"Topic2\", \"Topic2\", \"Topic2\", \"Topic2\", \"Topic2\", \"Topic3\", \"Topic3\", \"Topic3\", \"Topic3\", \"Topic3\", \"Topic3\", \"Topic3\", \"Topic3\", \"Topic3\", \"Topic3\", \"Topic3\", \"Topic3\", \"Topic3\", \"Topic3\", \"Topic3\", \"Topic3\", \"Topic3\", \"Topic3\", \"Topic3\", \"Topic3\", \"Topic3\", \"Topic3\", \"Topic3\", \"Topic3\", \"Topic3\", \"Topic3\", \"Topic3\", \"Topic3\", \"Topic3\", \"Topic3\", \"Topic3\", \"Topic3\", \"Topic3\", \"Topic3\", \"Topic3\", \"Topic3\", \"Topic3\", \"Topic3\", \"Topic3\", \"Topic3\", \"Topic3\", \"Topic3\", \"Topic3\", \"Topic3\", \"Topic3\", \"Topic3\", \"Topic3\", \"Topic3\", \"Topic3\", \"Topic3\", \"Topic3\", \"Topic3\", \"Topic3\", \"Topic3\", \"Topic3\", \"Topic3\", \"Topic3\", \"Topic3\", \"Topic3\", \"Topic3\", \"Topic3\", \"Topic3\", \"Topic3\", \"Topic3\", \"Topic3\", \"Topic3\", \"Topic3\", \"Topic3\", \"Topic3\", \"Topic3\", \"Topic3\", \"Topic3\", \"Topic4\", \"Topic4\", \"Topic4\", \"Topic4\", \"Topic4\", \"Topic4\", \"Topic4\", \"Topic4\", \"Topic4\", \"Topic4\", \"Topic4\", \"Topic4\", \"Topic4\", \"Topic4\", \"Topic4\", \"Topic4\", \"Topic4\", \"Topic4\", \"Topic4\", \"Topic4\", \"Topic4\", \"Topic4\", \"Topic4\", \"Topic4\", \"Topic4\", \"Topic4\", \"Topic4\", \"Topic4\", \"Topic4\", \"Topic4\", \"Topic4\", \"Topic4\", \"Topic4\", \"Topic4\", \"Topic4\", \"Topic4\", \"Topic4\", \"Topic4\", \"Topic4\", \"Topic4\", \"Topic4\", \"Topic4\", \"Topic4\", \"Topic4\", \"Topic4\", \"Topic4\", \"Topic4\", \"Topic4\", \"Topic4\", \"Topic4\", \"Topic4\", \"Topic5\", \"Topic5\", \"Topic5\", \"Topic5\", \"Topic5\", \"Topic5\", \"Topic5\", \"Topic5\", \"Topic5\", \"Topic5\", \"Topic5\", \"Topic5\", \"Topic5\", \"Topic5\", \"Topic5\", \"Topic5\", \"Topic5\", \"Topic5\", \"Topic5\", \"Topic5\", \"Topic5\", \"Topic5\", \"Topic5\", \"Topic5\", \"Topic5\", \"Topic5\", \"Topic5\", \"Topic5\", \"Topic5\", \"Topic5\", \"Topic5\", \"Topic5\", \"Topic5\", \"Topic5\", \"Topic5\", \"Topic5\", \"Topic5\", \"Topic5\", \"Topic5\", \"Topic5\", \"Topic5\", \"Topic5\", \"Topic5\", \"Topic5\", \"Topic5\", \"Topic5\", \"Topic5\", \"Topic5\", \"Topic5\", \"Topic5\", \"Topic5\", \"Topic5\", \"Topic5\", \"Topic5\", \"Topic5\", \"Topic6\", \"Topic6\", \"Topic6\", \"Topic6\", \"Topic6\", \"Topic6\", \"Topic6\", \"Topic6\", \"Topic6\", \"Topic6\", \"Topic6\", \"Topic6\", \"Topic6\", \"Topic6\", \"Topic6\", \"Topic6\", \"Topic6\", \"Topic6\", \"Topic6\", \"Topic6\", \"Topic6\", \"Topic6\", \"Topic6\", \"Topic6\", \"Topic6\", \"Topic6\", \"Topic6\", \"Topic6\", \"Topic6\", \"Topic6\", \"Topic7\", \"Topic7\", \"Topic7\", \"Topic7\", \"Topic7\", \"Topic7\", \"Topic7\", \"Topic7\", \"Topic7\", \"Topic7\", \"Topic7\", \"Topic7\", \"Topic7\", \"Topic7\", \"Topic7\", \"Topic7\", \"Topic7\", \"Topic7\", \"Topic7\", \"Topic7\", \"Topic7\", \"Topic7\", \"Topic7\", \"Topic7\", \"Topic7\", \"Topic7\", \"Topic7\", \"Topic7\", \"Topic7\", \"Topic7\", \"Topic7\", \"Topic7\", \"Topic7\", \"Topic7\", \"Topic7\", \"Topic7\", \"Topic7\", \"Topic7\", \"Topic7\", \"Topic7\", \"Topic7\", \"Topic7\", \"Topic7\", \"Topic7\", \"Topic7\", \"Topic7\", \"Topic8\", \"Topic8\", \"Topic8\", \"Topic8\", \"Topic8\", \"Topic8\", \"Topic8\", \"Topic8\", \"Topic8\", \"Topic8\", \"Topic8\", \"Topic8\", \"Topic8\", \"Topic8\", \"Topic8\", \"Topic8\", \"Topic8\", \"Topic8\", \"Topic8\", \"Topic8\", \"Topic8\", \"Topic8\", \"Topic8\", \"Topic8\", \"Topic8\", \"Topic8\", \"Topic8\", \"Topic8\", \"Topic8\", \"Topic8\", \"Topic8\", \"Topic8\", \"Topic8\", \"Topic8\", \"Topic8\", \"Topic8\", \"Topic8\", \"Topic8\", \"Topic8\", \"Topic8\", \"Topic8\", \"Topic8\", \"Topic8\", \"Topic8\", \"Topic8\", \"Topic8\", \"Topic8\", \"Topic8\", \"Topic8\", \"Topic9\", \"Topic9\", \"Topic9\", \"Topic9\", \"Topic9\", \"Topic9\", \"Topic9\", \"Topic9\", \"Topic9\", \"Topic9\", \"Topic9\", \"Topic9\", \"Topic9\", \"Topic9\", \"Topic9\", \"Topic9\", \"Topic9\", \"Topic9\", \"Topic9\", \"Topic9\", \"Topic9\", \"Topic9\", \"Topic9\", \"Topic9\", \"Topic9\", \"Topic9\", \"Topic9\", \"Topic9\", \"Topic9\", \"Topic9\", \"Topic9\", \"Topic9\", \"Topic9\", \"Topic9\", \"Topic9\", \"Topic9\", \"Topic9\", \"Topic9\", \"Topic9\", \"Topic9\", \"Topic9\", \"Topic9\", \"Topic9\", \"Topic9\", \"Topic9\", \"Topic9\", \"Topic10\", \"Topic10\", \"Topic10\", \"Topic10\", \"Topic10\", \"Topic10\", \"Topic10\", \"Topic10\", \"Topic10\", \"Topic10\", \"Topic10\", \"Topic10\", \"Topic10\", \"Topic10\", \"Topic10\", \"Topic10\", \"Topic10\", \"Topic10\", \"Topic10\", \"Topic10\", \"Topic10\", \"Topic10\", \"Topic10\", \"Topic10\", \"Topic10\", \"Topic10\", \"Topic10\", \"Topic10\", \"Topic10\", \"Topic10\", \"Topic10\", \"Topic10\", \"Topic10\", \"Topic10\", \"Topic10\", \"Topic10\", \"Topic10\", \"Topic10\", \"Topic10\", \"Topic10\", \"Topic10\", \"Topic10\", \"Topic10\", \"Topic10\", \"Topic10\", \"Topic10\", \"Topic10\", \"Topic11\", \"Topic11\", \"Topic11\", \"Topic11\", \"Topic11\", \"Topic11\", \"Topic11\", \"Topic11\", \"Topic11\", \"Topic11\", \"Topic11\", \"Topic11\", \"Topic11\", \"Topic11\", \"Topic11\", \"Topic11\", \"Topic11\", \"Topic11\", \"Topic11\", \"Topic11\", \"Topic11\", \"Topic11\", \"Topic11\", \"Topic11\", \"Topic11\", \"Topic11\", \"Topic11\", \"Topic11\", \"Topic11\", \"Topic11\", \"Topic11\", \"Topic11\", \"Topic11\", \"Topic11\", \"Topic11\", \"Topic11\", \"Topic11\", \"Topic11\", \"Topic11\", \"Topic11\", \"Topic11\", \"Topic11\", \"Topic11\", \"Topic11\", \"Topic11\", \"Topic11\", \"Topic11\", \"Topic11\", \"Topic11\", \"Topic11\", \"Topic11\", \"Topic11\", \"Topic12\", \"Topic12\", \"Topic12\", \"Topic12\", \"Topic12\", \"Topic12\", \"Topic12\", \"Topic12\", \"Topic12\", \"Topic12\", \"Topic12\", \"Topic12\", \"Topic12\", \"Topic12\", \"Topic12\", \"Topic12\", \"Topic12\", \"Topic12\", \"Topic12\", \"Topic12\", \"Topic12\", \"Topic12\", \"Topic12\", \"Topic12\", \"Topic12\", \"Topic12\", \"Topic12\", \"Topic12\", \"Topic12\", \"Topic12\", \"Topic12\", \"Topic12\", \"Topic12\", \"Topic12\", \"Topic12\", \"Topic12\", \"Topic12\", \"Topic12\", \"Topic12\", \"Topic12\", \"Topic12\", \"Topic12\", \"Topic12\", \"Topic12\", \"Topic12\", \"Topic12\", \"Topic12\", \"Topic13\", \"Topic13\", \"Topic13\", \"Topic13\", \"Topic13\", \"Topic13\", \"Topic13\", \"Topic13\", \"Topic13\", \"Topic13\", \"Topic13\", \"Topic13\", \"Topic13\", \"Topic13\", \"Topic13\", \"Topic13\", \"Topic13\", \"Topic13\", \"Topic13\", \"Topic13\", \"Topic13\", \"Topic13\", \"Topic13\", \"Topic13\", \"Topic13\", \"Topic13\", \"Topic13\", \"Topic13\", \"Topic13\", \"Topic13\", \"Topic13\", \"Topic13\", \"Topic13\", \"Topic13\", \"Topic13\", \"Topic13\", \"Topic13\", \"Topic13\", \"Topic13\", \"Topic13\", \"Topic13\", \"Topic13\", \"Topic13\", \"Topic13\", \"Topic13\", \"Topic13\", \"Topic13\", \"Topic13\", \"Topic13\", \"Topic14\", \"Topic14\", \"Topic14\", \"Topic14\", \"Topic14\", \"Topic14\", \"Topic14\", \"Topic14\", \"Topic14\", \"Topic14\", \"Topic14\", \"Topic14\", \"Topic14\", \"Topic14\", \"Topic14\", \"Topic14\", \"Topic14\", \"Topic14\", \"Topic14\", \"Topic14\", \"Topic14\", \"Topic14\", \"Topic14\", \"Topic14\", \"Topic14\", \"Topic14\", \"Topic14\", \"Topic14\", \"Topic14\", \"Topic14\", \"Topic14\", \"Topic14\", \"Topic14\", \"Topic14\", \"Topic14\", \"Topic14\", \"Topic14\", \"Topic14\", \"Topic14\", \"Topic14\", \"Topic14\", \"Topic14\", \"Topic15\", \"Topic15\", \"Topic15\", \"Topic15\", \"Topic15\", \"Topic15\", \"Topic15\", \"Topic15\", \"Topic15\", \"Topic15\", \"Topic15\", \"Topic15\", \"Topic15\", \"Topic15\", \"Topic15\", \"Topic15\", \"Topic15\", \"Topic15\", \"Topic15\", \"Topic15\", \"Topic15\", \"Topic15\", \"Topic15\", \"Topic15\", \"Topic15\", \"Topic15\", \"Topic15\", \"Topic15\", \"Topic15\", \"Topic15\", \"Topic15\", \"Topic15\", \"Topic15\", \"Topic15\", \"Topic15\", \"Topic15\", \"Topic15\", \"Topic15\", \"Topic15\", \"Topic15\", \"Topic15\", \"Topic15\", \"Topic16\", \"Topic16\", \"Topic16\", \"Topic16\", \"Topic16\", \"Topic16\", \"Topic16\", \"Topic16\", \"Topic16\", \"Topic16\", \"Topic16\", \"Topic16\", \"Topic16\", \"Topic16\", \"Topic16\", \"Topic16\", \"Topic16\", \"Topic16\", \"Topic16\", \"Topic16\", \"Topic16\", \"Topic16\", \"Topic16\", \"Topic16\", \"Topic16\", \"Topic16\", \"Topic16\", \"Topic16\", \"Topic16\", \"Topic16\", \"Topic16\", \"Topic16\", \"Topic16\", \"Topic16\", \"Topic16\", \"Topic16\", \"Topic16\", \"Topic16\", \"Topic16\", \"Topic16\", \"Topic16\", \"Topic16\", \"Topic16\", \"Topic16\", \"Topic16\", \"Topic17\", \"Topic17\", \"Topic17\", \"Topic17\", \"Topic17\", \"Topic17\", \"Topic17\", \"Topic17\", \"Topic17\", \"Topic17\", \"Topic17\", \"Topic17\", \"Topic17\", \"Topic17\", \"Topic17\", \"Topic17\", \"Topic17\", \"Topic17\", \"Topic17\", \"Topic17\", \"Topic17\", \"Topic17\", \"Topic17\", \"Topic17\", \"Topic17\", \"Topic17\", \"Topic17\", \"Topic17\", \"Topic17\", \"Topic17\", \"Topic17\", \"Topic17\", \"Topic17\", \"Topic17\", \"Topic17\", \"Topic17\", \"Topic17\", \"Topic17\", \"Topic18\", \"Topic18\", \"Topic18\", \"Topic18\", \"Topic18\", \"Topic18\", \"Topic18\", \"Topic18\", \"Topic18\", \"Topic18\", \"Topic18\", \"Topic18\", \"Topic18\", \"Topic18\", \"Topic18\", \"Topic18\", \"Topic18\", \"Topic18\", \"Topic18\", \"Topic18\", \"Topic18\", \"Topic18\", \"Topic18\", \"Topic18\", \"Topic18\", \"Topic18\", \"Topic18\", \"Topic18\", \"Topic18\", \"Topic18\", \"Topic18\", \"Topic18\", \"Topic18\", \"Topic18\", \"Topic18\", \"Topic18\", \"Topic18\", \"Topic18\", \"Topic18\", \"Topic18\", \"Topic18\", \"Topic18\", \"Topic18\", \"Topic19\", \"Topic19\", \"Topic19\", \"Topic19\", \"Topic19\", \"Topic19\", \"Topic19\", \"Topic19\", \"Topic19\", \"Topic19\", \"Topic19\", \"Topic19\", \"Topic19\", \"Topic19\", \"Topic19\", \"Topic19\", \"Topic19\", \"Topic19\", \"Topic19\", \"Topic19\", \"Topic19\", \"Topic19\", \"Topic19\", \"Topic19\", \"Topic19\", \"Topic19\", \"Topic19\", \"Topic19\", \"Topic19\", \"Topic19\", \"Topic19\", \"Topic19\", \"Topic19\", \"Topic20\", \"Topic20\", \"Topic20\", \"Topic20\", \"Topic20\", \"Topic20\", \"Topic20\", \"Topic20\", \"Topic20\", \"Topic20\", \"Topic20\", \"Topic20\", \"Topic20\", \"Topic20\", \"Topic20\", \"Topic20\", \"Topic20\", \"Topic20\", \"Topic20\", \"Topic20\", \"Topic20\", \"Topic20\", \"Topic20\", \"Topic20\", \"Topic20\", \"Topic20\", \"Topic20\", \"Topic20\", \"Topic20\", \"Topic20\", \"Topic20\", \"Topic20\", \"Topic20\", \"Topic20\", \"Topic20\", \"Topic20\", \"Topic20\", \"Topic20\", \"Topic20\", \"Topic20\", \"Topic20\", \"Topic20\"], \"Total\": [57084.0, 12491.0, 16294.0, 11141.0, 3845.0, 10454.0, 9655.0, 7586.0, 8048.0, 11783.0, 6906.0, 5804.0, 4407.0, 4083.0, 6852.0, 5027.0, 1863.0, 2294.0, 3735.0, 7292.0, 3461.0, 4598.0, 1540.0, 1948.0, 3006.0, 1684.0, 1746.0, 1464.0, 3380.0, 2012.0, 4407.544187682542, 2750.823325049996, 1503.6249040598657, 1199.5160371233576, 708.7303789383748, 633.7456695032638, 607.7336834778628, 590.2431547444129, 515.5748644018853, 415.4794104848699, 405.4174939124186, 401.391744357991, 11141.974225694554, 393.7903013889371, 381.1190423102525, 619.8872523837742, 336.00305307785044, 331.5034463103628, 317.11742362909274, 317.1055190292741, 316.2471645452081, 308.7253299982878, 306.98349927248364, 294.7389142883971, 269.7718801807635, 266.7229819651233, 264.7090541249599, 254.13323897416737, 253.86213388074526, 252.0388327443361, 12491.52581662558, 4083.5461420546017, 5027.255754821851, 2618.1330650642144, 7586.417633530121, 609.2474565328558, 9655.119801848406, 694.2268000138863, 601.815460670384, 688.5478939821063, 893.9189826236901, 5446.233508798775, 962.065524751885, 6852.932958425825, 2391.6015626966846, 3433.100319769465, 11783.649621820749, 8048.170484580233, 3265.8100033602136, 7292.286363073578, 2826.674314034471, 2928.206381263009, 16294.561688572448, 2186.4214126267434, 3644.244220895617, 3089.399113032597, 3139.130920016108, 1592.6361566406597, 10454.855126497261, 3595.3825494850444, 5376.575784318422, 3018.259044068166, 4473.384561264031, 5704.184894098744, 3676.2615087909207, 1074.4898651882759, 684.2489256524157, 568.0108367688679, 520.2610953858955, 484.38214606981313, 440.32983357431743, 409.71698867007615, 400.6515892461221, 398.946196416239, 389.42401473307274, 378.6579684039175, 381.0472834337157, 355.8951053200583, 340.2692183365337, 316.8981890539314, 304.68214422113334, 302.78291126287337, 298.44944088529775, 295.4557545707947, 291.04480531715694, 280.566917493096, 276.94159254841384, 276.3776836125288, 268.7109922167255, 256.49626254999123, 256.16104493807916, 251.96763690863304, 247.96326589870043, 246.99560917282653, 245.92531431227482, 470.88921561811895, 759.6368390075905, 621.7285264733449, 419.17651980605046, 1527.5311950161592, 411.2109090858211, 1255.8093785310605, 660.3514175232051, 671.2443261884879, 575.2777393330457, 1154.2824529817212, 1014.7362115418719, 859.7879191460263, 955.3167137802017, 1388.188508328392, 1940.9358559284422, 1563.0334514481874, 1817.1881079099346, 1227.7646068731408, 2297.4703068305143, 1170.5293973266803, 1373.7549743841669, 4473.384561264031, 2576.5607928348627, 1392.487865667504, 2791.816073403198, 2778.719073060871, 915.8489457268696, 1595.8879089868344, 1691.1357721244296, 894.9633706281157, 5704.184894098744, 1524.7559030082798, 4560.732320592313, 5049.044202613333, 1666.2044493843325, 3511.299585003903, 11783.649621820749, 3136.0163431239957, 1937.0136905930146, 2068.8351578026923, 6906.102148498189, 9655.119801848406, 4433.1412927283, 5376.575784318422, 986.6614135025658, 760.1513734643555, 680.9536459850979, 622.3260085706196, 563.2184675024993, 492.76712234259463, 457.7117496441285, 326.9158708286963, 316.58054288532855, 313.1853517131751, 313.1140035946736, 312.8522205575596, 312.57558245992936, 279.43375102539255, 265.8516184814603, 265.2524365297053, 263.6632720292403, 261.6482621240438, 243.01422849093115, 227.9880625566064, 225.08950406311638, 217.58941591186888, 211.18930062572485, 209.87730777535486, 194.8651897870951, 194.02192501982015, 189.8903955741792, 176.88680381840544, 174.03555997670094, 172.19255991964758, 1264.6799577854122, 819.4194023101362, 309.64659436754835, 3735.8387801881045, 5804.10841660603, 346.1839429120832, 332.66350467321405, 1125.4548012979578, 868.351110723989, 16294.561688572448, 767.2327988825105, 6906.102148498189, 10454.855126497261, 2542.895346677868, 480.4962728928441, 1272.1415605252123, 1876.3965515537493, 3423.2915363708967, 1690.5360761291975, 5249.980987718586, 2351.5700975187683, 3407.3133650206937, 1961.1633664819196, 528.8607803841361, 5049.044202613333, 8048.170484580233, 3147.5821007896884, 726.2603223782357, 4433.1412927283, 7292.286363073578, 11783.649621820749, 3676.2615087909207, 5376.575784318422, 6852.932958425825, 3644.244220895617, 2987.654495432788, 5704.184894098744, 3311.8191599648508, 2928.206381263009, 3461.1986367924624, 3006.47865488275, 5446.233508798775, 2294.387696958519, 863.0357704581027, 824.8956570870018, 683.2429505839812, 672.1820622393552, 658.4934735858096, 596.4797370452543, 594.6972993046097, 577.5699489219575, 529.5379401172977, 498.86482190722666, 497.4218035560509, 458.599704349728, 427.610723394944, 394.30648013161937, 383.26900959593905, 378.98547118946965, 369.75510576426143, 360.6035787531615, 356.73561410742167, 340.75508824305126, 335.4679624518948, 330.02063761415667, 321.4248207629665, 314.02571874933795, 311.1089982409003, 310.56231273068306, 299.0252468440783, 287.21292914185307, 272.41317472101355, 2012.5762895355583, 1797.568799188307, 794.3509876720295, 574.0392201620894, 485.7714257254586, 618.8603929228217, 934.6718695029515, 2059.0357670727285, 3380.618799102192, 2460.336776339445, 3018.259044068166, 4598.24861742913, 1643.2471653711968, 1142.2521560615987, 1145.8285559831083, 3595.3825494850444, 1435.2768980765675, 10454.855126497261, 1650.0952538330746, 1044.4496878063926, 2186.4214126267434, 1948.9822913581393, 924.3030307753141, 875.0744787973705, 762.4468897847604, 720.0047022132926, 636.0279989871434, 594.1210291827298, 539.4103757267754, 469.68015617051617, 406.9641609320493, 397.28551212258395, 385.4280378515351, 360.04848577443704, 356.48821074770325, 350.63962171036826, 349.4871537794124, 315.38348440956133, 313.4628914845943, 302.2176651114478, 283.72082090653333, 256.3058041953056, 251.24783855648138, 231.32856222347363, 227.2844826379786, 222.0678812674507, 218.8660630666366, 208.93629256269182, 205.64113653191566, 205.19196633277957, 196.54344351040885, 463.1386855914082, 1609.3352632094588, 1111.2836794883667, 1229.1851834000975, 1442.6570182876906, 1819.095032652587, 2148.7687768203737, 720.4087169754514, 679.3468468277229, 1060.5672910766982, 1613.3607247869593, 1024.3629994645792, 910.5978285657653, 1367.2015685264714, 1252.5138906126315, 918.3916313828951, 793.1571552193266, 915.1927537564327, 722.6052724269748, 1238.7824227197696, 4560.732320592313, 2889.2562747281772, 2610.280096101467, 1937.0136905930146, 3139.130920016108, 57084.58831845719, 239.0945798303443, 228.21878725124995, 210.4474847678425, 173.6323966179425, 165.577725838844, 154.5474535341678, 149.88413671023005, 135.3972447256669, 134.51493787467453, 129.16261658904415, 125.5750398969693, 117.8094817041544, 109.85298660626641, 99.83407806506435, 98.87515167358553, 92.4071988247625, 87.67200204784345, 85.82483876764039, 85.39646621554097, 80.06297899660113, 78.17801071675336, 70.78972679523034, 65.69472596147463, 61.75243242996948, 61.73097627128126, 61.566403885117666, 61.536185138081414, 60.60896606095561, 59.10954353498766, 1684.9899660877204, 1577.8014923290543, 714.1256906757407, 641.7273424225713, 543.4636716531105, 507.3793302054854, 490.3580141001507, 483.2104863854115, 451.69353066930665, 393.82116231023747, 377.44577642303847, 344.40845105868175, 322.35350960730426, 292.3523735522767, 291.0596971803063, 257.25939473500085, 252.52339868640328, 245.3267210540389, 238.11214361899957, 237.940707121513, 232.048942374676, 231.37279731667985, 221.02390325075356, 210.39896919102617, 204.68310906870332, 199.1043163271856, 195.21152497018528, 192.0993752715649, 191.40087503452733, 188.352715911345, 641.0072627003977, 1530.4538130670674, 976.9674921968568, 1018.8922860869051, 1789.7525996165452, 300.6050011616317, 1737.3844515453875, 2293.653278743294, 1093.3434032613084, 1524.7559030082798, 1521.8966295983396, 800.6884933597095, 6906.102148498189, 635.9209056371885, 3407.3133650206937, 578.0106336207286, 356.7868166012796, 350.09618525029947, 321.07320481445277, 315.0915578785395, 311.33460033938894, 310.8730131525712, 303.8481558784348, 297.04920410541104, 290.5591083058196, 258.99894669202723, 256.44541784808075, 255.18357368312164, 248.9649792109865, 232.72615245968728, 229.23870325172456, 220.9437876749617, 218.0819414369698, 215.5126842835466, 198.9842848986947, 192.9782515082157, 192.71478896720959, 188.0967217023998, 183.16058775800434, 173.89121918921495, 170.53319161647116, 147.99855642591857, 146.60517648782158, 146.4818280241251, 144.8428418867914, 143.73898076756066, 442.7097179320478, 310.08105533199125, 299.1473357202042, 573.6663518480927, 305.63309503415115, 919.6929611909218, 690.0732131682586, 419.7867106470576, 1140.7883955836062, 852.4635539237374, 264.2043895606397, 443.80492307988214, 3461.1986367924624, 579.6315911466003, 960.819451453423, 1242.40596570914, 2351.5700975187683, 426.5707573014967, 5376.575784318422, 1315.5406735112422, 634.8498605233367, 567.6353135157101, 550.0237174962642, 427.4167505516709, 415.00333511360526, 400.7362471110673, 368.60838263681586, 366.85620738459414, 366.7047576824627, 301.68697714113557, 261.68355118161276, 246.58989804548628, 244.88529886420267, 233.81865075565196, 228.64496603179435, 221.17005979264798, 204.72098118503675, 193.3888221512605, 179.5878887631493, 174.35170035383933, 173.50558162389265, 158.94110511835478, 157.90756389817875, 155.9209841352827, 141.64161029397474, 136.97165821908297, 135.84489870441817, 135.31204398778303, 127.94700262515391, 1746.2199145121272, 304.94207575156395, 279.3814711796012, 214.8662912131596, 922.1590445548248, 1737.3844515453875, 358.79529260678765, 1056.626205915941, 2415.236811776243, 3006.47865488275, 645.820476502575, 919.6929611909218, 601.4879270964009, 1635.122931924923, 752.9159368582599, 861.1786265225794, 1506.2830454345337, 1182.4088737235263, 547.7427234312538, 496.6168755783315, 448.65168424772605, 431.5143192866418, 389.57687212464987, 354.0933452450742, 320.89371372459385, 290.8596000319547, 280.07185342102747, 273.5616420217797, 271.649734278443, 271.28879296884855, 240.24192011984127, 229.5535614223299, 226.94168796982325, 219.44140651016124, 215.69127817598996, 215.32955047825698, 201.66517057695216, 196.69859133926303, 191.95479327640967, 189.97672928001174, 187.67778631058002, 185.52473092536107, 177.22747960076904, 174.04967258489805, 171.3099094512045, 170.12008083489758, 320.5664792742255, 408.82346365587796, 815.2352252518239, 683.2098245502553, 428.3230534822497, 350.40880094008764, 1148.9687233158124, 1643.2471653711968, 3380.618799102192, 4598.24861742913, 1238.7824227197696, 350.86387713210416, 1097.4607459370884, 2148.7687768203737, 573.8418722517755, 3139.130920016108, 3265.8100033602136, 3845.234077529061, 534.2009834782102, 353.3273819796506, 309.87892324445085, 290.220818644296, 289.1437405886053, 272.1080805277973, 267.7994532211368, 232.5911554449054, 223.04134786827888, 216.92608401689597, 214.94144552293326, 192.96301247132286, 192.622122773162, 189.44917623109382, 189.10785021467194, 179.8278211653352, 177.26333695795876, 175.01284693418228, 172.2356232835342, 169.24966003350767, 167.12185392039348, 160.014246620109, 158.37372186804836, 157.81814138851632, 155.27315906441302, 153.70410903269305, 151.90496303167487, 149.81435483115413, 149.32818857831367, 295.8821101469733, 159.27294204410504, 975.611364129785, 197.0028346377049, 303.5778597419553, 1022.5393420209068, 782.0496291101164, 239.76476980792054, 279.31689252598875, 1145.0662737943414, 510.3698189375676, 556.6669179970568, 404.0780907852754, 429.16320400111005, 505.8273633374639, 982.5114770329977, 3461.1986367924624, 390.33269490270857, 372.8137346496555, 562.1889565972818, 514.467130098329, 631.1989046374658, 1863.3140096333923, 430.9358146292431, 392.68443003858414, 323.6995259986202, 314.03278513022616, 286.1507858457202, 280.54240809350074, 275.89651205335633, 271.8068176694239, 255.65997746332383, 239.53438894156014, 234.71680674256504, 209.54570519639552, 208.47738857678473, 203.6123524089369, 201.71468389755736, 200.9837856169976, 200.1036793483214, 172.78485044871908, 171.3800410674401, 169.54865868433524, 164.0536757925263, 153.2307566769478, 152.8052207043222, 145.81380934679376, 141.0070536062181, 135.86795286907088, 131.79361191108487, 129.0393189191234, 127.14181756712361, 270.35063893274, 612.601051303666, 523.8571749897454, 203.5327367127909, 309.0761356497631, 1510.4810825762481, 474.85325550275263, 1050.7385569206635, 1381.6480120975698, 370.17743829387507, 766.827359892275, 912.0330794840008, 576.7014460375833, 654.065011232432, 3380.618799102192, 873.1930307459319, 527.2254152848687, 670.5271908785845, 517.6543941132753, 345.11972083669485, 310.4087814528194, 294.55623345420224, 224.45352925956328, 261.68499134790625, 219.75881886313147, 219.29827862651436, 213.00545041770454, 180.73133911507296, 174.68864812461769, 173.6944821394388, 167.97808063688288, 164.45617286559337, 162.918365849354, 160.7146387133726, 159.5728612652872, 149.21762361417302, 146.76242125830993, 146.33927804647962, 143.17928668194776, 141.80571555012023, 138.56019367819027, 136.44182197397973, 136.1533203130679, 127.82828885144795, 115.92511515363775, 114.28751070780417, 113.85573107939967, 213.83273267398312, 145.55686957816033, 385.7390165184204, 496.6406844450087, 467.2769047682556, 441.52309948597514, 250.61978484533074, 551.8114094323696, 321.22910341931043, 1096.1064611815445, 483.07817838590654, 858.8327831410833, 1140.7883955836062, 879.5032312922406, 223.26881326494077, 323.5294830326224, 1142.2521560615987, 617.1959331910168, 940.7779254905676, 1540.3871195598429, 1464.4904413912286, 838.0450729573056, 686.0969006386525, 568.9742817519502, 500.1566290161264, 455.89464549598586, 388.8283869657781, 376.612614108291, 365.68112043024007, 281.188729097037, 260.6083796371728, 225.0849027919334, 219.34698698522047, 218.5278325632735, 213.77716078220166, 211.7361379021886, 207.8350049628667, 202.347080000877, 187.00901388331033, 174.53268403357103, 174.22114405833534, 173.68872561694056, 171.79224010263465, 169.58333244997982, 164.64024854022412, 161.34661339302735, 156.6066716177116, 155.91247192131385, 155.87945093422553, 312.997531214447, 1044.7275981453693, 1092.0269870706122, 241.64897743285695, 421.9801041011305, 406.934044787518, 3461.1986367924624, 406.8005906293715, 2891.6697966046086, 377.6352259469195, 5446.233508798775, 1214.8019398126974, 529.6683426484531, 424.95903897775923, 388.81816082531674, 382.32739360227737, 373.9719609472913, 361.45161216309265, 356.7639524581398, 309.5454661794919, 268.0763850962396, 232.60214957116813, 228.4987741728738, 225.14813302654588, 218.54481353020782, 217.45569561926592, 212.41019807231672, 209.71308974212036, 207.09990509304663, 193.53413795911865, 181.23849804660642, 174.6009414232256, 173.0195836154962, 168.13832093690846, 160.942906218625, 160.42618422276556, 158.91391993967747, 157.27595929520405, 156.39114539557053, 153.8005848121473, 153.71046733466346, 153.07238429352142, 382.85193196556565, 799.7716041415767, 499.1854791081879, 479.179285394275, 216.1396396086393, 204.47806435989187, 441.68757551057814, 525.7590419642343, 951.0309187490458, 852.064730389922, 852.4635539237374, 377.6352259469195, 514.9622970083924, 509.5930723798012, 375.15517399155306, 306.1081022610448, 298.86047377049624, 283.5581628685289, 280.9687373905818, 260.01904326193, 231.98586883534998, 228.74937412264293, 225.35823869562074, 211.49001494150554, 198.3899376616652, 177.20582593692203, 176.76860797057344, 156.45360419121536, 145.94611098714518, 145.09633706325556, 127.00637065288105, 121.62964847489596, 121.25572080635524, 114.69922152248436, 113.18025269093779, 112.86945591805096, 112.68960279385024, 109.5820257761912, 107.78342279719229, 107.10246310162988, 104.19097853822771, 104.0527925830139, 263.3585079879193, 670.4385666813332, 207.32592787512328, 395.56572785445104, 214.41632863946626, 274.4700534317877, 290.99644719358935, 185.8028305325931, 752.9159368582599, 267.07221479872476, 452.83509400343354, 325.267103384383, 268.10190524378044, 219.64184550783156, 478.97647210552054, 1341.5434030913755, 432.90595525321913, 381.48257176871755, 378.02466471447013, 356.09298537392465, 331.60719500814963, 218.2734392721649, 216.42418301236637, 211.6173824797708, 210.54242647315567, 208.45458100838505, 202.66629974824005, 199.81597313458047, 195.30204276899713, 191.2662283770345, 172.56465449408947, 171.81500872059652, 149.62430686023166, 148.98180056689367, 143.69502340369337, 138.95529541263696, 130.71738163077674, 130.0748139981281, 128.14640161482544, 123.9326422042776, 120.96181721189576, 119.31149440718058, 119.02550340445283, 112.3643421327049, 110.04278549130387, 157.11789369681856, 455.15307652830484, 189.73182580748025, 562.1889565972818, 314.22435576159376, 796.281643900698, 3461.1986367924624, 2891.6697966046086, 720.910259066354, 465.297173070225, 406.0439080094429, 364.6319097417129, 361.08598869528237, 300.9529661947745, 292.43667013691265, 281.59575884063713, 214.514866114117, 191.49982176334714, 191.157726419282, 184.96782650020094, 155.41932519848623, 146.39865562579797, 145.42363501638542, 145.1405363769125, 141.70952063277034, 129.85830027536556, 129.68630486794007, 124.58592525130744, 122.40598148434364, 121.26673633164697, 114.37553641137124, 107.84256181372841, 103.6844039752634, 103.10270315224395, 101.70716313679682, 95.87040004655397, 91.05606242472228, 88.15668548064696, 473.5479820995823, 162.43972999283275, 252.70499175541295, 725.9290753841441, 127.90414367309103, 196.97224404085773, 250.74553160869692, 163.42977497937542, 535.1048849251257, 774.6697113682056, 645.820476502575, 1145.8285559831083, 597.7513408237079, 917.011651853169, 792.1604455952573, 569.906314738134, 325.79038383268335, 324.9986816157613, 300.3686478145126, 193.5680872341417, 181.5840896593834, 151.94650804387615, 145.8829119658268, 138.73812194269925, 131.7055286746525, 130.87463201150197, 124.24326244895128, 122.79581456580686, 121.15293790876152, 116.35474096614222, 105.42847541442377, 104.19745299223268, 97.66722603144805, 96.30186936651349, 93.22504472401063, 89.5630626912079, 83.68451633451284, 81.6581535428385, 78.70311688791548, 77.27254207154397, 76.23572498688347, 74.26009512659026, 73.874465073356, 392.7872545328839, 79.11967766673406, 291.2399580846566, 480.40315027496507, 465.1998599430986, 356.8929013213856, 316.34115581776933, 189.40498842022376, 172.74350899934387, 168.13551974873565, 161.79820596639942, 161.51655651858496, 160.0269511699629, 145.81243402861065, 124.19736329893348, 120.32318271637797, 118.57568724455031, 113.97834915025125, 113.16898821054754, 108.50916038218344, 102.26458692190911, 98.94010581696988, 93.91471061619912, 93.51199685441122, 92.05562964465969, 89.52705822615442, 88.84989374159015, 86.01454210353252, 84.08370309996124, 81.94516107826581, 76.62313405921257, 72.37196939167175, 72.14465558775154, 330.1556774542328, 519.9847349535945, 163.49200028316488, 864.2714034074536, 911.0619888137238, 663.4840262358782, 725.4774889022176, 1435.2768980765675, 240.64378445396557, 416.525491954293, 595.1065486141216, 1050.7385569206635]}, \"lambda.step\": 0.01, \"R\": 30, \"plot.opts\": {\"xlab\": \"PC1\", \"ylab\": \"PC2\"}, \"token.table\": {\"Freq\": [0.998896794984966, 0.8100890201698091, 0.1765435381887308, 0.012291005823266069, 0.9986045893725358, 0.9987721287462901, 0.9976505653154801, 0.9964569565103137, 0.8561152456127326, 0.14187052641582426, 0.18945600567284923, 0.8051880241096093, 0.994147537332521, 0.9970637984828332, 0.9920077947467528, 0.996912268305078, 0.26070374589438344, 0.37296641864284796, 0.058323966701350705, 0.0651211207154179, 0.2032568313238801, 0.015129149257117289, 0.024557459663726612, 0.9903035683364484, 0.3094755725053579, 0.14858613114171618, 0.5413456497647239, 0.995457643151695, 0.9867232145253269, 0.2690734436117114, 0.7259906120089573, 0.996057854176498, 0.9944535791711774, 0.9941071201641426, 0.9921418481329664, 0.07017346559393872, 0.8914629147674437, 0.037252580500485986, 0.9978938260707976, 0.9997006986808281, 0.995916376845254, 0.9988081060960108, 0.25215683762531943, 0.7463842393709454, 0.8820458065387616, 0.11679262655750401, 0.9969799148889761, 0.4377471125766365, 0.12052258164447655, 0.0875494225153273, 0.03411016461636129, 0.027288131693089027, 0.06480931277108644, 0.22740109744240858, 0.9981747495602936, 0.9952564753995277, 0.99959494184823, 0.032735867481394655, 0.9633698144524713, 0.998162763871811, 0.0797621392161483, 0.03589296264726674, 0.26321505941328943, 0.6181565789251494, 0.8882980512719546, 0.10241988215437138, 0.009095201890156532, 0.9974981252973101, 0.9950534540996752, 0.996269958408996, 0.9882049932636815, 0.07651406980977535, 0.07651406980977535, 0.8456818242133064, 0.9983736761225678, 0.9977101182049347, 0.9951434290478205, 0.9972893900638159, 0.9967950573531029, 0.9109351130953232, 0.08823518830800538, 0.016898622216518444, 0.9801200885580698, 0.016122510614775952, 0.9120734576358966, 0.07139968986543635, 0.9999896939178416, 0.9967123308163827, 0.9947946569050753, 0.9944282253154677, 0.992247277479393, 0.6214806553000105, 0.37426183109227157, 0.9969306180721956, 0.9967962471116056, 0.9944188458525334, 0.9904836157615114, 0.4617198414372077, 0.5381347236987477, 0.9973067718608343, 0.3588162202313885, 0.3753836763295571, 0.2655152832574916, 0.9988665865165952, 0.9989694544497036, 0.18134825136465949, 0.06754918087744029, 0.42963713242768325, 0.32070647137307234, 0.9883568047602252, 0.13127524159378923, 0.10559095519500437, 0.7619671631639504, 0.41504350915089105, 0.5810609128112475, 0.9985350876811511, 0.017624450925691176, 0.9630503541538392, 0.017624450925691176, 0.9923505804568604, 0.9920197176219177, 0.38767416165164476, 0.31276762872234387, 0.22800497303918768, 0.07162115867801572, 0.997382381983858, 0.9969479410889678, 0.9966574450986249, 0.9897064636078093, 0.990523817743724, 0.9676936405022013, 0.028886377328423918, 0.9914163597073902, 0.9956199907344867, 0.9950666574970233, 0.994348568705306, 0.9885137844793681, 0.9965108480871014, 0.992353568714146, 0.9961430472795897, 0.9931218718558728, 0.24934842095052426, 0.07423349936694996, 0.16559780628011916, 0.04663386498693011, 0.36926407377405884, 0.09421944150420573, 0.8797526567520204, 0.11881716915903724, 0.5728391090618336, 0.4264468923015872, 0.9970792234102505, 0.9939729796279814, 0.9995697955613873, 0.8926613593899941, 0.10708336871714648, 0.6017511876107349, 0.39805280422697675, 0.9941658532691325, 0.22012585230426998, 0.2540446157096449, 0.2460840896043018, 0.0034610983066709114, 0.24158466180562962, 0.03426487323604202, 0.9904344990657843, 0.06287422310981493, 0.6772452032114351, 0.25688611156295815, 0.9976655407703321, 0.9922351987632009, 0.9911055736297429, 0.9943181729523769, 0.9995844016295697, 0.9694042457641353, 0.02981253446737474, 0.3940228711556763, 0.41563594003763327, 0.18952998865716075, 0.20059653839841088, 0.5840539456417146, 0.03241346504608469, 0.18224929403270257, 0.0006115748121902771, 0.9972086192987325, 0.9918202749505463, 0.9909210763058117, 0.20775106138659064, 0.03944640406074505, 0.483875889811806, 0.011395627839770793, 0.022791255679541586, 0.23492525085065943, 0.9954207468503207, 0.9936117910755063, 0.22087483665968644, 0.5257781437877318, 0.2520854114050769, 0.9974236714079818, 0.9965036192722241, 0.9981116221928852, 0.6173723625958307, 0.38139892622586874, 0.9988084716253104, 0.9913260744784864, 0.9963591758303458, 0.999412479535401, 0.9979273259859247, 0.9974949087002097, 0.9967833654342787, 0.9972121621507697, 0.9923350438891914, 0.9977228810217612, 0.9893048085207264, 0.9935241416592635, 0.9341871410913505, 0.06546511149904348, 0.9964484171721488, 0.041713574189880746, 0.9564326653536942, 0.9982500391980244, 0.9976210946225695, 0.9955671725674937, 0.9985192341590923, 0.9980781332456206, 0.9946044639113496, 0.4719766660004054, 0.25464787560952107, 0.27220979806535006, 0.9940425710021985, 0.9987998522268053, 0.19575540273089884, 0.004108809052822464, 0.6984975389798189, 0.016435236211289856, 0.08540453102652408, 0.9941809904044124, 0.11147433409279354, 0.8866098199938462, 0.07174798828646357, 0.9233654144692703, 0.9942489623311515, 0.9967016090331853, 0.5693062063117932, 0.42386301491826933, 0.9947329405183679, 0.998738186531762, 0.993943606460653, 0.9966000320148761, 0.9800323656196888, 0.01702289468818318, 0.9919457191201172, 0.9978843472533466, 0.9925820938933954, 0.021476012616967296, 0.9019925299126264, 0.07516604415938553, 0.9974290760460847, 0.17019896965952483, 0.7490190943244068, 0.0524241552115836, 0.02728928627452297, 0.9971791811427649, 0.9933904858330539, 0.9976874663874762, 0.32587374508975003, 0.08713201740367649, 0.45482913084719123, 0.13069802610551473, 0.9974849181495392, 0.13924646449552927, 0.34545878596219093, 0.0457068547580745, 0.08184715852027294, 0.008503600885223162, 0.1998346208027443, 0.1785756185896864, 0.9964353385881769, 0.9931953369447839, 0.9964782252367915, 0.43496347434656885, 0.25261340240896885, 0.0752821397907523, 0.23421110157122937, 0.9967642612595767, 0.05022491721763253, 0.9491484355821984, 0.34001933676669, 0.1207748684195283, 0.5217256703348091, 0.01740899004245453, 0.9960443875206256, 0.99514498074666, 0.19856507666765288, 0.5329904689500157, 0.26707583411438696, 0.996384842747569, 0.26311110338007526, 0.2672437385116995, 0.4683653149174115, 0.9958199017099366, 0.9972349954763051, 0.9975823444567485, 0.9981387757223921, 0.9951632047705592, 0.9948305436485783, 0.9858483034846232, 0.002545907456160293, 0.002545907456160293, 0.002545907456160293, 0.002545907456160293, 0.005091814912320586, 0.002545907456160293, 0.9750825557093923, 0.005091814912320586, 0.28399199913398, 0.19234003577710465, 0.14328687229032627, 0.09939719969689301, 0.27882850824063493, 0.9919679527554472, 0.9934099295138211, 0.9936615230110296, 0.9917369553329243, 0.9920762191084765, 0.14214631418711596, 0.3836128094408706, 0.09020823784951588, 0.27609187947882136, 0.10752092996204925, 0.09271596063346972, 0.3309607708688413, 0.23120309170624728, 0.04811840994901593, 0.29575217822321986, 0.997291155411219, 0.051454983258917834, 0.741632155401262, 0.008079708115036685, 0.06166093035159575, 0.1369297901600954, 0.9957934835619346, 0.98364725992272, 0.4465964202190112, 0.42772614894215155, 0.12580180851239753, 0.9975760336548708, 0.9948586898842114, 0.9929908389424509, 0.9959691219768612, 0.9946890120854838, 0.41477914262401694, 0.2721988123470111, 0.28029996747638647, 0.03240462051750132, 0.7597792139612033, 0.237431004362876, 0.9021945273577928, 0.0925327720366967, 0.39751400171993767, 0.2492107010782686, 0.3516470015214833, 0.996126144490239, 0.9932464017690457, 0.9884659317788992, 0.995982366093643, 0.18565158846773164, 0.2943256890342087, 0.5184660214525676, 0.9965281232145814, 0.30005423317053115, 0.698174971816309, 0.997584598002542, 0.45242037583676115, 0.5465893228435078, 0.997630845601143, 0.9888440479857376, 0.9973878710429974, 0.9972515656737444, 0.9585805121373212, 0.03937297522207007, 0.9949005438725512, 0.935590654405003, 0.06301905962313491, 0.9988850030488741, 0.909157210063353, 0.08893929228880627, 0.9255328857446393, 0.07311211305702717, 0.8624942696004534, 0.02349206181791118, 0.04698412363582236, 0.06712017662260338, 0.9949931336327853, 0.18921985266729358, 0.2015068560872477, 0.6069779689457339, 0.20468958910547563, 0.0028694802211047987, 0.7110571987897691, 0.08101499157585881, 0.0001912986814069866, 0.9973957700737218, 0.9962151751137431, 0.9960563613368625, 0.9974583924149023, 0.9957308775424912, 0.9965327030823291, 0.9961112270790353, 0.9918675467029183, 0.9935192044727194, 0.3224810421549838, 0.6770159228374208, 0.1883013769244975, 0.8099098996127534, 0.9978365988105782, 0.3017159072437292, 0.2947799093760573, 0.4022878763249723, 0.996801835491549, 0.9940497219255675, 0.996920810182991, 0.9911100283929637, 0.996882255453708, 0.9915292531212903, 0.9919401368475319, 0.9975739497790418, 0.684025958903821, 0.313511897830918, 0.3482196336585994, 0.5035657358922604, 0.14661879311941028, 0.9917635664398344, 0.997946926997408, 0.9986440286662301, 0.9958720660325944, 0.9979930907740754, 0.9984813240526874, 0.8498929968017183, 0.14763399474959427, 0.9945248003290065, 0.9354654881653658, 0.06050274301567043, 0.9956958787994361, 0.9837907360742476, 0.14332498808074626, 0.7434983756688712, 0.1074937410605597, 0.23964405126985405, 0.46723054021166516, 0.013564757619048344, 0.2788311288359937, 0.9896804050296747, 0.9961152879027898, 0.9957283810289785, 0.10071222603549204, 0.2713193723479817, 0.6242887197468198, 0.001270816732309048, 0.002541633464618096, 0.8928975989802032, 0.08688218137790957, 0.019888692122653998, 0.9965602017512429, 0.9380404543386391, 0.06131503818682106, 0.9967640045719458, 0.33048730399628345, 0.6660984421630519, 0.2583570891191391, 0.7376282109633392, 0.9836232797608847, 0.014644515331427563, 0.7984864052785866, 0.2008597780335521, 0.9972814615744658, 0.9952970189038164, 0.9983733574358855, 0.12036795035484595, 0.8784748657476475, 0.9959105212013459, 0.13464578886169332, 0.8467415588209579, 0.01665721099319917, 0.993947804071572, 0.9911455262504286, 0.9964987790622936, 0.47290898673544557, 0.522363521296015, 0.9479470275460066, 0.05118023857642759, 0.31518073650250966, 0.06635383926368624, 0.6161427931628007, 0.9878153394067063, 0.9975885304549406, 0.9941011989017934, 0.3081353291153341, 0.13281695220488537, 0.5578311992605186, 0.9952783222424235, 0.9933991617926774, 0.2144089898258793, 0.3212676637874869, 0.21890466219319613, 0.0387319465491911, 0.02351582469058031, 0.05048985889448126, 0.0812679235630349, 0.045302544624500306, 0.005533135221313015, 0.9970316503598333, 0.10029891157668795, 0.7279759711211222, 0.1682433355479927, 0.604967775936776, 0.06541814243760771, 0.22926358175381786, 0.06061681088255394, 0.03901081888481194, 0.9985717771759902, 0.6179844256207849, 0.03340456354706945, 0.3465723468008456, 0.20275161627918242, 0.7938241247540871, 0.9882233667869124, 0.006458976253509231, 0.9992506021614422, 0.99530767374487, 0.9953778857940975, 0.9885078477655116, 0.9907090399180655, 0.9927315093837167, 0.9948748465082345, 0.9928581331184293, 0.9950259472029188, 0.9950334356560012, 0.9910193389635885, 0.10769546918525918, 0.16346633715619696, 0.7269444170004995, 0.9990994993776374, 0.9969271210246261, 0.9951045724246605, 0.9938591042268968, 0.9895541319081712, 0.9949052882379886, 0.9963432796150262, 0.9712910798718933, 0.02710579757782028, 0.9950728508472971, 0.5479405712532397, 0.38275582380752265, 0.0691674649198497, 0.9908677688783322, 0.9948123848178018, 0.9965521523868504, 0.22982943507484938, 0.4058326455782656, 0.36396780424492875, 0.14541423753995478, 0.8416452018752122, 0.012921881297981762, 0.9978695306373013, 0.9994920195392443, 0.9890078117477535, 0.6053725009538177, 0.06830408563992119, 0.2756033132944132, 0.009915109205795011, 0.04076211562382394, 0.995983937782417, 0.9953618735483681, 0.9242822090085556, 0.03550526453440548, 0.0400865889904578, 0.9931664736799577, 0.9868592744831892, 0.9864813697275312, 0.9989142177203785, 0.20212979927925137, 0.7975338819387854, 0.19915081722496858, 0.13548785106288846, 0.6643801853324771, 0.5301975948789422, 0.13732479088393246, 0.3267917016147716, 0.005162586123456108, 0.9954701849785308, 0.21415926200973442, 0.7832110153498859, 0.9995890104182039, 0.9937804163978468, 0.9890030941128201, 0.9959277926416297, 0.9967278670377495, 0.9940789066638615, 0.9985474606011593, 0.00869785271149719, 0.9907644952278164, 0.9976081910031356, 0.9931288917288748, 0.9961240363442091, 0.9981585815008338, 0.5016722896991924, 0.4982572298646165, 0.06709318095423593, 0.9297197932229835, 0.9982664203422476, 0.9981662079417849, 0.8349827814908518, 0.15967798211777245, 0.9896440283559023, 0.9948050648676066, 0.9985995434627297, 0.9947079618881968, 0.5570746759823888, 0.0622020984676559, 0.07683788634239846, 0.2396610264489095, 0.06357420358091301, 0.9899933209701242, 0.99706518134131, 0.9954434398381092, 0.4306451388416155, 0.061520734120230784, 0.0702060142313222, 0.06296828080541268, 0.03256980041659277, 0.03329357375918372, 0.06948224088873124, 0.23884520305501364, 0.9913841708279264, 0.33586877043420077, 0.37864451006497163, 0.28358731088548084, 0.9878578728197102, 0.9984012453085979, 0.9960347131657843, 0.9955407683829877, 0.9965996889226265, 0.9977432201934893, 0.9940667298290866, 0.9942770492095003, 0.9932529313120807, 0.9844384905070207, 0.015182882191899325, 0.3388838954822641, 0.6596456575162788, 0.3143288380996241, 0.41497600300837073, 0.027871522590114453, 0.2415531957809919, 0.17397571215866936, 0.7599608514378695, 0.06551386650326461, 0.9934194830145899, 0.621964726769557, 0.37717539655503257, 0.9967264565155358, 0.9975223908663438, 0.9978586613000667, 0.9957724866823279, 0.9957768992312529, 0.9947096827041375, 0.9986304995986284, 0.2401492440947017, 0.75852017342107, 0.0009762164394093565, 0.9972759644919867, 0.9928184983195449, 0.9979793858158278, 0.8138738784990079, 0.1819002921294079, 0.003118290722218421, 0.1786602646735218, 0.7800582017591614, 0.004397791130425152, 0.02198895565212576, 0.014292821173881745, 0.0980104200322277, 0.24868315530565235, 0.6524275721548292, 0.06375744169306334, 0.7436816921570454, 0.16102244398394097, 0.031180646667410536, 0.9948588701296299, 0.9634160743421282, 0.03499588304234226, 0.9929942667420331, 0.9950152139835564, 0.9965137187373518, 0.9876341658439908, 0.9910662129313529, 0.9971387670937153, 0.9967555582335885, 0.9985902558663893, 0.9910539695194001, 0.9992137665917862, 0.9987358474675053, 0.7953666111472888, 0.01964922884681809, 0.17171717383523635, 0.011960400167628402, 0.996770242357392, 0.9953965901384408, 0.9971465792432119, 0.4761134124677118, 0.521654695399406, 0.997869270201859, 0.9895719203405499, 0.999148204291071, 0.9971716389359855, 0.9984853365993299, 0.6395364180632228, 0.36036645525673755, 0.9972305661147545, 0.994930768101741, 0.4305919767358864, 0.07789052318024951, 0.45980092292847996, 0.006719428936324342, 0.02482074770356543, 0.993047066548836, 0.9943636433038666, 0.9924440748440286, 0.18798563449257646, 0.808564717034335, 0.9896704191755018, 0.9977840734618387, 0.26683676094042796, 0.21530176419227665, 0.11795788144576859, 0.01946877654930161, 0.07672988404724752, 0.011452221499589183, 0.04924455244823349, 0.24278709579129068, 0.9955600598134516, 0.9881628236158776, 0.9943685564457995, 0.9978284129620365, 0.3177189708984681, 0.681484169463381, 0.996685318135421, 0.9894249355438055, 0.9979072700612557, 0.9940798503542956, 0.9673968384747805, 0.029513801851772964, 0.9921871124020243, 0.9961718907742849, 0.9835317690161434, 0.16681099207636693, 0.0354917004417802, 0.7902818631703058, 0.007098340088356039, 0.1773541309468998, 0.3794856772466753, 0.0652037246128308, 0.32732269755641064, 0.04955483070575142, 0.9985518737345394, 0.9941128611104029, 0.17823692507464203, 0.4112300214888293, 0.41011254860434876, 0.1059008289923558, 0.8919534610905461, 0.8960887185808956, 0.08278291241347009, 0.020332645154185636, 0.9974929870045118, 0.9800243925130848, 0.0198534593484108, 0.8818850199621712, 0.036609617987359504, 0.0805411595721909, 0.9973899622529946, 0.9932298542618634, 0.9945119645006121, 0.6093617445296441, 0.30730240940667997, 0.08301534282550121, 0.9961695784842535, 0.614704115511857, 0.3848964482214181, 0.18156973266575568, 0.2934559463084375, 0.5240985796946677, 0.45064154935315576, 0.03289354374840553, 0.2302548062388387, 0.2850773791528479, 0.9885692738955251, 0.9959570374194818, 0.9988274718828805, 0.9981808073059242, 0.9008829786504544, 0.09592735420815024, 0.9939691206004077, 0.9994959978022916, 0.9942568171837329, 0.2505178262153406, 0.3662223505695217, 0.3802471414003315, 0.0029802680515470885, 0.33127428980294377, 0.5488568115078358, 0.013721420287695896, 0.06926050240456023, 0.03659045410052239, 0.1072436587379598, 0.6107130499272408, 0.22672317115743176, 0.0014395121978249637, 0.0536218293689799, 0.9968733851081009, 0.997794715038031, 0.9953293284328283, 0.9899525416694428, 0.39440545234983787, 0.03781970091025843, 0.5672955136538764, 0.9959534460450863, 0.020304276369201183, 0.9746052657216568, 0.9981758430286678, 0.9984449827982745, 0.999679063093643, 0.30357327464291917, 0.5854627439542013, 0.07309901384995181, 0.025931148644019603, 0.011847852397698613, 0.07878230219640983, 0.7081701970914851, 0.20587861292210968, 0.0030468293667119824, 0.003482090704813694, 0.9982378479445226, 0.9968797986302246, 0.16899316816839471, 0.19152559059084734, 0.033798633633678944, 0.6061221631639757, 0.9969073521536858, 0.9967106634957769, 0.9987927549553216, 0.1945458666348204, 0.48999726575658087, 0.31482526135925293, 0.9947304110382439, 0.9946797467605616, 0.9937132264765307, 0.9960808898873478, 0.9918005206303243, 0.3004891888765645, 0.6965885742138541, 0.09786486727760417, 0.6990347662686013, 0.20272008221789437, 0.9962431952705917, 0.19260528196794832, 0.8046620668883174, 0.9940932637105239, 0.9956518978149028, 0.9955533688835456, 0.9974185342974987, 0.9950388306806114, 0.9926164694613847, 0.9968689026145322, 0.9962949300224879, 0.9982414552458939, 0.6107444570478796, 0.3869312709247436, 0.9981893722849408, 0.996711218767181, 0.9071562125781609, 0.0925403607658756, 0.9703169756288115, 0.027872659982156163, 0.9902104288878145, 0.9939783734615281, 0.9956133263853325, 0.995801163731851, 0.9911489220620905, 0.9980757502007779, 0.993663550809644, 0.9980315753816346, 0.9986060895968729, 0.9973213831793408, 0.995760413107481, 0.9951051493334276, 0.9966889845926314, 0.9960017029275502, 0.836473611840868, 0.1589678357344636, 0.9993296449080563, 0.9810428069982902, 0.9974142818707703, 0.5568381161512211, 0.15601372885812484, 0.2869096011427194, 0.1292787177184213, 0.8680142475379716, 0.08552575268933567, 0.8104337890381025, 0.06852364522699786, 0.02215426123880382, 0.012365169063518412, 0.9931251600754031, 0.9937937835874684, 0.9967505495206008, 0.6926224586683156, 0.30662407118440344, 0.0010873194013631328, 0.9830313289466949, 0.9970446221068163, 0.5839286419105444, 0.09522905486847368, 0.06338396899605804, 0.13993465618936488, 0.0168411511825275, 0.10074070434639178, 0.9958264645768715, 0.8552332327926991, 0.1442562079409372, 0.9950872435517747, 0.17795559817439488, 0.040792114194703695, 0.7347679569321003, 0.04640102989647545, 0.43483372779909274, 0.1764819671799981, 0.003822714090541475, 0.012423820794259794, 0.20228528729115305, 0.03376730779978303, 0.10639887552007105, 0.029944593709241553, 0.9908001141958109, 0.33627026855327935, 0.49760224710774287, 0.16327573733222814, 0.40003027489997806, 0.34529776243881405, 0.25434520496658564, 0.9973853381576593, 0.9930742656929888, 0.9980376047298987, 0.9988233931383732, 0.9885326986656385, 0.9998765326768447, 0.9979148852605575, 0.24498971351893636, 0.024302586811998695, 0.73018226739687, 0.0004909613497373474, 0.9938255085040396, 0.9755637120496715, 0.020610500958795876, 0.9954219797407329, 0.9933427257716239, 0.9974009790872309, 0.9977518134272413, 0.2646612944153254, 0.7346821824226252, 0.9953110025839544, 0.998846126973391, 0.9959358663516711, 0.9959783935510818, 0.9903892768167788, 0.9975790443283966, 0.0023335182323471265, 0.9964763095754723, 0.9919474808218944, 0.9868792086006808, 0.9968335045611156, 0.9981131299387401, 0.34309712212119114, 0.6555995964099194, 0.9954796502671306, 0.9918871307419013, 0.9944844624950637, 0.13284140998009714, 0.6754860375403052, 0.12970835785792503, 0.05764815904796668, 0.004386272971040943, 0.9964101564499033, 0.9966626016586742, 0.9975070855198652, 0.9988361843754439, 0.5414695018184839, 0.45699211713627674, 0.9986923141379292, 0.9971984510070597, 0.9920485882730177, 0.9812290288736386, 0.3507594564300603, 0.5961524358297468, 0.03505613991424092, 0.018023213176248158, 0.1747012984472182, 0.8232798689325158, 0.3908548897483336, 0.07374620561289313, 0.5334308872665937, 0.9976077769196471, 0.9990131949852632, 0.9943581342572433, 0.2011689324996241, 0.6979580645871104, 0.09935782641749727, 0.9954675195115642, 0.3518987166402994, 0.6464656198953815, 0.9970879317206908, 0.8991108239145668, 0.09382025988673741, 0.9963646220234282, 0.9941693736473781, 0.49783491338391545, 0.5004829714338299, 0.9943630305609426, 0.9924746040454755, 0.14740684583558936, 0.11869122651696806, 0.7332054799354639, 0.9987529633058784, 0.9965233242209761, 0.996410033255374, 0.0834445671136081, 0.6520319662830772, 0.2119103890420001, 0.052395425862032996, 0.9988807716845959, 0.9983495149175289, 0.996357842025679, 0.993903868629594, 0.15565214816396455, 0.15253910520068525, 0.6910955378480026, 0.9979578219408204, 0.9884020635573239, 0.36088081175920766, 0.3792696429316514, 0.2593591396613414, 0.9961596778042415, 0.9879735085444855, 0.3356546505933529, 0.17610283443359342, 0.08606529502393664, 0.3495575059433734, 0.051639177014361985, 0.9881586795571007, 0.997191737089952, 0.9795271956627992, 0.0016084190404972074, 0.016084190404972075, 0.9995440951058295, 0.04823323403150622, 0.9453713870175219, 0.19656945384883817, 0.04694195912808076, 0.7549831759766322, 0.997354063520587, 0.9961729341669469, 0.996547037943428, 0.8556411032305505, 0.14214233310996116, 0.9976830350991225, 0.4061944260249888, 0.16201392685662278, 0.07686550313034045, 0.35484031833014923, 0.9933057829774454, 0.26900369727130224, 0.7134176395374859, 0.0037189451235663906, 0.013016307932482367, 0.9929061367021722, 0.3111535124114521, 0.6872102114608758, 0.9980652250248889, 0.20596344283501342, 0.7935650297466693, 0.9986613204535697, 0.10016316998909248, 0.8974620031022686, 0.995970900274811, 0.08133087284982005, 0.7558349116843276, 0.16157733406164249, 0.7424307499993068, 0.2549012241664287, 0.9971656857471706, 0.9974594007439066, 0.9849316872359235, 0.9909988151390333, 0.35890616489594573, 0.632204971099146, 0.0046564672092288375, 0.003940087638578247, 0.9951911944160687, 0.9978389650202233, 0.9971416541336016, 0.9933797597841557, 0.99183994769062, 0.19710618684172962, 0.8014565613729833, 0.9945642403088013, 0.9527077996996225, 0.043456847003842426, 0.39345812397375757, 0.5060818867328307, 0.06138720116052483, 0.007733820618648798, 0.013050822293969845, 0.017401096391959796, 0.9974112467478127, 0.0639781572859798, 0.8272375737077188, 0.10812308581330586, 0.9894326977379803, 0.5068184330263485, 0.1408997303434247, 0.04942005467269374, 0.2765420080620948, 0.024184282073871403, 0.9942525622220101, 0.08394883036294491, 0.8628074231747116, 0.046638239090524954, 0.9984236799061584, 0.9353993624995275, 0.010694643589214688, 0.005729273351365011, 0.025208802746006048, 0.022917093405460044, 0.377256209078334, 0.26547659157364245, 0.04890358265830256, 0.3062295771222279, 0.2569024786948159, 0.4739205543045919, 0.26746011480556175, 0.9967240385880087, 0.9964679114068971, 0.9933609681403498, 0.9982623674692734, 0.9925984774498521, 0.0909745664195181, 0.2067603782261775, 0.22192280596276384, 0.01516242773658635, 0.1212994218926908, 0.07029852859690035, 0.04824408825277475, 0.0220544403441256, 0.20262517066165395, 0.9978957751778361, 0.13246603048384328, 0.8628192796380062, 0.9954190617471177, 0.9971636559361686, 0.1749555078815331, 0.11641526189835852, 0.43838661480581864, 0.26975079257019646, 0.9981313253145274, 0.994141701608821, 0.5229558434933894, 0.07470797764191277, 0.40200007016838774, 0.9969554908952929, 0.001613196587209212, 0.8655426187404587, 0.12946150280306007, 0.5054934970338677, 0.491691626807687, 0.992873106308168, 0.9820482126361775, 0.01711344070277521, 0.34670050385098755, 0.07681875173251658, 0.4194547713648525, 0.09063799807593227, 0.004470932640516838, 0.04227063587397738, 0.018696627405797688, 0.9976282605906793, 0.11001545414101237, 0.8897600232718372, 0.9871116154497512, 0.43927588429727943, 0.5597929261124376, 0.9962909490701765, 0.9194030508005074, 0.07852552747050598, 0.9928181767658625, 0.9965357438139923, 0.0007239974000510993, 0.18375054013296901, 0.7503509054129593, 0.06501496652458871, 0.13265679239649905, 0.8598125433106419, 0.9957132925863875, 0.10252927157624396, 0.8952555908364717, 0.11248150295240873, 0.8851805232341731, 0.9904982331562391, 0.9981373924105278, 0.9989841330024841, 0.9950093416401966, 0.9945920238596975, 0.9973997124840256, 0.993517395011447, 0.9959847821140486, 0.9982876523892252, 0.9948159230534706, 0.43216921441609357, 0.33832675642859894, 0.0559762030100845, 0.013994050752521124, 0.1588736350139163, 0.9887344583863068, 0.995249368929897, 0.11439963271094543, 0.7260874647572251, 0.15642398758435394, 0.19218877625162525, 0.2330176125210433, 0.5625807605299923, 0.01218097877651146, 0.9922968006625085, 0.16878724199409315, 0.0767214736336787, 0.0473115754074352, 0.705837557429844, 0.997086078619715, 0.006931654491147963, 0.14903057155968122, 0.8435823515727071, 0.9852651102478062, 0.011928149034477071, 0.9981689329505209, 0.9981023074470553, 0.005444300480472697, 0.14481839278057376, 0.7110256427497342, 0.10235284903288672, 0.034843523075025265, 0.20483852307104858, 0.18742028131330635, 0.40270974943900023, 0.08430429010747237, 0.012541134065574402, 0.1079930988980018, 0.9983261986604557, 0.9960464641259027, 0.9934314743371165, 0.12378713464198488, 0.8718919918261543, 0.12233014438235754, 0.8685440251147385, 0.9932872099364822, 0.9931683732756655, 0.9964421789447793, 0.9969925576631664, 0.9953674546703126, 0.9912866691869464, 0.9673128458874543, 0.030228526433982945, 0.5326777208858254, 0.005041114077783838, 0.042009283981531975, 0.09074005340010907, 0.1461923082557313, 0.18148010680021814, 0.9935772497175934, 0.994823231976816, 0.967945072052045, 0.027054365367914304, 0.35847905828843496, 0.6403122600163137, 0.9954615283555257, 0.9948690842815825, 0.46218891279958346, 0.0836885274205007, 0.45267885286543563, 0.992680937146841, 0.9146866701016129, 0.05473715506119888, 0.02880902897957836, 0.7778855777858772, 0.06977397909836959, 0.0009428916094374269, 0.12351880083630293, 0.02734385667368538, 0.9908481300143203, 0.9992947996813211, 0.9945964480074538, 0.9984645990650364, 0.9972149229281541, 0.9960429540582867, 0.9974207646080432, 0.998443235541065, 0.33617796032358016, 0.5103951845537688, 0.15233063827162224, 0.12257536916146462, 0.7882129173469834, 0.0714134759462446, 0.01758690079273188, 0.9970147316899985, 0.28403011938837314, 0.278647624414541, 0.39002386656537535, 0.0472003405397588, 0.9982203917541116, 0.9977690512668287, 0.994986602735409, 0.9967966398462241, 0.9841338824279331, 0.9970147501081842, 0.9946595665241698, 0.06609200381871012, 0.8523114659121159, 0.07986117128094139, 0.9935826361593793, 0.18342648313309515, 0.7884956612604479, 0.026203783304727876, 0.2796804691402235, 0.7187643144743567, 0.9951596851765648, 0.9972400840247033, 0.9933331840745917, 0.9970825530845518, 0.9953311443002314, 0.998383720545667, 0.9964576994208011, 0.26109475028292023, 0.1491970001616687, 0.5893281506385915, 0.3066489639459247, 0.04363384467214739, 0.34119242431137475, 0.21453306963805802, 0.0939339711692062, 0.9982570481887533, 0.014494387836041489, 0.20114660670424925, 0.38069953357113057, 0.12601243302354437, 0.19730115687019742, 0.08016283884831109, 0.03797105351332988, 0.956870548535913, 0.15102423924667618, 0.12210470407178074, 0.7264937775754037, 0.002358228119488078, 0.13992153508962593, 0.8371709824182676, 0.02043797703556334, 0.9916539097740644, 0.9984097127638417, 0.9958505289255253, 0.998605045774045, 0.9344505365187961, 0.06451662947011733, 0.9971208177527116, 0.9996651112377608, 0.3899148783677204, 0.4508390781126767, 0.1584029193368864, 0.9941413620470841, 0.13999789667517834, 0.05269583751256713, 0.803808148326024, 0.0007865050375010019, 0.002359515112503006, 0.9917406993213601, 0.006370925263306381, 0.9955187653077989, 0.9924840754937236, 0.9952796962907153, 0.9966039288035361, 0.23581987670235394, 0.7617190707642406, 0.6685896283647785, 0.14383666801593736, 0.1873221722998254, 0.10218091376692648, 0.8965264520941636, 0.9977611283297315, 0.30013716087401027, 0.19656870395269688, 0.4879493480607652, 0.015097442699899913, 0.1838101894573426, 0.10628609918880536, 0.6773357862283008, 0.032381069645334964, 0.9911047048600365, 0.005214872390991665, 0.9508450659574803, 0.04171897912793332, 0.9963885640175957, 0.9916453571643066, 0.297401183233336, 0.18469004061957636, 0.45103056243954953, 0.018785190435626598, 0.047985932003877844, 0.9930739882802931, 0.9947675954326041, 0.9942127280829665, 0.2888425242020054, 0.3855419779565898, 0.10297863906332366, 0.05651266777865323, 0.1645146550889683, 0.9941773317496275, 0.9898821304370666, 0.9953883824894457, 0.9933170241011634, 0.10972435657848012, 0.11364308359914012, 0.7073302272291307, 0.06857772286155008, 0.6786230669257716, 0.08315144298299967, 0.2360428058872249, 0.9935203008747889, 0.9965582005553513, 0.9934159399090303, 0.9974843973370445, 0.05979015061862578, 0.8521897371305337, 0.02521271411628798, 0.061951240400021895, 0.20436585920747746, 0.7940627659282903, 0.46772849577909276, 0.18223608520666382, 0.25895003226524166, 0.09095619883316614, 0.9987350096585537, 0.9930220722358386, 0.9972894236537606, 0.016847310000075645, 0.4085472675018344, 0.5707026262525625, 0.03656766188464522, 0.9612071123963887, 0.9215763482007646, 0.04575060653705501, 0.027450363922233007, 0.002386988167150696, 0.0017902411253630222, 0.0009945784029794567, 0.9985232973434207, 0.9941909697826744, 0.6109368405396564, 0.019774787002135388, 0.33513060077303125, 0.015611673949054251, 0.0187340087388651, 0.2709727341138496, 0.16875990503398658, 0.2864133955280416, 0.0419725021540714, 0.03392596029033751, 0.15897357033485077, 0.038710390587692795, 0.9978171691525293, 0.9975998581196553, 0.1342364963297478, 0.7043956353798105, 0.16053024303351282, 0.4211639984441267, 0.001157043951769579, 0.5762078879812503, 0.9980665736164923, 0.9951800286093099, 0.006364647440664162, 0.006364647440664162, 0.006364647440664162, 0.9610617635402884, 0.9953741659907035, 0.49499751499359457, 0.504571935012813, 0.9967336473158216, 0.990359189059018, 0.9965713702943186, 0.9991957194595902, 0.8948138340508335, 0.0689834453563418, 0.03646267825978066, 0.9966866379391399, 0.996992437454562, 0.9969460783294005, 0.9904462536228953, 0.433691238401613, 0.5649707484042634, 0.990260198746315, 0.1788730623412898, 0.20537277528074016, 0.028708022351071203, 0.5829936846679076, 0.9958782829890747, 0.44151815917665604, 0.05433225327344804, 0.48432538902846356, 0.01948277768896369, 0.951364151170588, 0.045149485140299095, 0.9963800296272465, 0.9957503065152228, 0.2563762149272098, 0.3903040883966477, 0.35299560935873286, 0.9976660954146087, 0.9956661653881064, 0.21254130990404724, 0.2697768437522237, 0.5174627797033968, 0.9929939104873575, 0.30951616031641566, 0.0009157282849598096, 0.6886276702897769, 0.993880510918902, 0.9993951776500726, 0.9946886747888753, 0.17794405942374703, 0.8193703201372537, 0.9847717619118499, 0.9987373476033856, 0.9987578441074659, 0.9982669927539789, 0.5518929608643103, 0.44635857022881525, 0.9700491871780645, 0.029544645294763385, 0.6341998729712404, 0.04918820110945505, 0.03344797675442943, 0.28332403839046105, 0.37937548542514943, 0.12015411268597108, 0.25560562397779496, 0.2163886566427905, 0.004728286841809047, 0.02086008900798109, 0.002781345201064145, 0.6463112057685099, 0.24303193556345612, 0.01241769013827878, 0.07568877798569923, 0.02247010596450446, 0.9962374173847762, 0.42889937856274124, 0.1984105158448138, 0.37025880266506533, 0.0022913104909366867, 0.8316831033482062, 0.13681860268032134, 0.012842927125177778, 0.018642958730096776, 0.9979379291600525, 0.9946431354723511, 0.993770781204114, 0.9958275037436609, 0.005270597042663227, 0.026352985213316138, 0.005270597042663227, 0.010541194085326454, 0.005270597042663227, 0.005270597042663227, 0.005270597042663227, 0.005270597042663227, 0.010541194085326454, 0.005270597042663227, 0.9012720942954119, 0.005270597042663227, 0.005270597042663227, 0.03467007028270575, 0.4270196989819925, 0.14705888144914356, 0.21148742872450507, 0.13983595014024652, 0.03958166357275573, 0.992825971422299, 0.904874309902771, 0.09420927905157385, 0.9151746885984784, 0.08319769896349803, 0.9933508743108147], \"Topic\": [19, 2, 7, 20, 5, 5, 1, 12, 10, 13, 8, 16, 14, 1, 11, 10, 1, 2, 3, 4, 5, 7, 12, 9, 3, 8, 9, 12, 6, 9, 18, 13, 7, 15, 18, 1, 2, 4, 1, 1, 17, 10, 4, 5, 8, 14, 2, 1, 2, 5, 8, 9, 12, 13, 2, 17, 17, 9, 13, 9, 2, 10, 11, 18, 1, 2, 3, 20, 8, 2, 20, 2, 10, 13, 2, 12, 2, 1, 10, 5, 10, 3, 11, 1, 3, 17, 6, 17, 15, 20, 9, 3, 19, 17, 1, 12, 19, 1, 3, 7, 2, 3, 7, 7, 1, 1, 2, 4, 10, 19, 8, 9, 10, 13, 16, 19, 3, 4, 14, 11, 13, 2, 5, 7, 18, 13, 14, 8, 16, 17, 3, 16, 20, 11, 20, 5, 18, 6, 10, 8, 6, 1, 2, 4, 10, 12, 20, 16, 17, 8, 17, 20, 16, 1, 5, 11, 4, 18, 17, 1, 2, 3, 4, 5, 10, 20, 8, 11, 14, 14, 6, 11, 13, 1, 4, 9, 3, 9, 12, 1, 2, 4, 9, 20, 8, 19, 18, 1, 5, 8, 10, 12, 13, 6, 12, 2, 5, 20, 17, 1, 13, 3, 7, 10, 11, 7, 7, 7, 7, 19, 18, 6, 9, 18, 13, 2, 7, 10, 1, 2, 2, 8, 4, 10, 9, 14, 5, 10, 20, 11, 4, 1, 2, 3, 4, 7, 8, 2, 13, 8, 10, 15, 10, 5, 20, 3, 15, 18, 2, 2, 10, 12, 18, 20, 3, 9, 13, 18, 1, 2, 3, 9, 9, 18, 14, 2, 8, 10, 20, 2, 1, 2, 4, 5, 10, 12, 13, 4, 16, 9, 4, 8, 10, 18, 5, 4, 11, 1, 2, 3, 10, 11, 20, 2, 3, 9, 9, 8, 11, 18, 3, 5, 9, 9, 17, 10, 19, 1, 3, 5, 10, 14, 17, 19, 20, 1, 2, 4, 12, 18, 12, 17, 11, 17, 16, 4, 5, 8, 10, 12, 2, 3, 4, 14, 15, 3, 1, 3, 5, 7, 8, 11, 6, 3, 7, 13, 2, 10, 14, 2, 15, 1, 13, 15, 18, 18, 20, 15, 16, 1, 10, 12, 14, 20, 20, 14, 2, 5, 15, 15, 4, 10, 14, 3, 7, 5, 6, 9, 2, 2, 5, 15, 4, 10, 1, 11, 15, 1, 11, 1, 4, 8, 17, 18, 1, 8, 14, 1, 2, 3, 4, 7, 12, 3, 1, 11, 11, 1, 14, 20, 19, 1, 4, 1, 4, 3, 7, 8, 12, 20, 3, 16, 15, 5, 13, 19, 19, 10, 12, 1, 4, 18, 13, 10, 10, 8, 1, 1, 13, 14, 20, 9, 15, 20, 19, 12, 13, 16, 2, 4, 15, 20, 6, 2, 8, 1, 2, 3, 7, 10, 2, 5, 20, 14, 2, 4, 12, 4, 11, 2, 16, 3, 16, 2, 3, 7, 18, 14, 4, 18, 7, 4, 5, 18, 19, 13, 9, 3, 13, 4, 10, 2, 5, 14, 6, 10, 6, 9, 13, 16, 3, 18, 1, 2, 3, 8, 10, 12, 14, 17, 20, 12, 2, 12, 13, 2, 4, 5, 7, 20, 4, 2, 3, 16, 12, 16, 3, 13, 4, 20, 15, 19, 16, 16, 8, 12, 10, 5, 12, 4, 10, 20, 14, 19, 7, 14, 18, 5, 2, 8, 11, 2, 1, 3, 4, 18, 4, 16, 1, 2, 3, 1, 3, 14, 14, 7, 17, 1, 2, 3, 7, 14, 15, 8, 9, 10, 13, 15, 19, 19, 4, 2, 17, 3, 9, 12, 2, 3, 5, 8, 9, 7, 18, 9, 9, 20, 11, 17, 9, 10, 1, 3, 10, 6, 8, 3, 1, 3, 1, 14, 4, 3, 7, 16, 16, 13, 3, 18, 1, 2, 3, 4, 5, 19, 19, 19, 1, 3, 4, 8, 9, 10, 11, 12, 17, 1, 11, 14, 17, 14, 14, 1, 15, 15, 7, 7, 8, 1, 5, 5, 13, 3, 9, 16, 18, 1, 2, 4, 17, 2, 7, 9, 3, 15, 14, 4, 9, 5, 4, 5, 12, 3, 9, 2, 1, 4, 12, 2, 5, 9, 13, 20, 1, 4, 5, 2, 5, 10, 15, 8, 4, 10, 15, 2, 1, 20, 19, 1, 13, 5, 17, 13, 13, 2, 8, 9, 10, 11, 11, 2, 2, 13, 3, 16, 10, 10, 3, 3, 13, 7, 8, 1, 2, 3, 4, 7, 18, 8, 16, 3, 13, 20, 4, 1, 2, 3, 4, 5, 10, 11, 12, 3, 19, 3, 12, 7, 9, 9, 6, 17, 13, 9, 10, 18, 6, 19, 1, 2, 3, 10, 1, 2, 3, 12, 15, 5, 20, 2, 3, 7, 12, 16, 1, 2, 3, 1, 1, 5, 5, 8, 16, 18, 15, 17, 1, 3, 5, 7, 1, 3, 1, 3, 7, 1, 4, 11, 12, 16, 13, 4, 4, 11, 15, 10, 5, 5, 1, 2, 3, 4, 3, 7, 8, 13, 17, 1, 2, 3, 4, 5, 8, 8, 7, 6, 9, 10, 12, 13, 10, 11, 5, 3, 11, 1, 2, 5, 8, 10, 1, 2, 3, 7, 9, 15, 8, 2, 3, 4, 8, 4, 8, 1, 2, 5, 10, 12, 19, 19, 16, 11, 11, 16, 5, 11, 14, 11, 9, 13, 9, 16, 13, 12, 8, 11, 8, 5, 4, 1, 12, 4, 12, 3, 11, 4, 12, 18, 12, 5, 7, 6, 8, 8, 16, 5, 1, 20, 12, 4, 13, 8, 9, 3, 20, 2, 1, 2, 3, 11, 18, 1, 2, 4, 7, 20, 17, 7, 12, 8, 9, 18, 19, 10, 1, 2, 3, 4, 5, 10, 3, 5, 10, 18, 1, 2, 3, 7, 1, 2, 3, 4, 5, 8, 10, 11, 6, 3, 11, 17, 3, 5, 8, 5, 3, 14, 1, 20, 1, 7, 1, 2, 3, 7, 10, 13, 19, 6, 14, 15, 11, 3, 5, 3, 1, 19, 12, 6, 1, 5, 1, 12, 18, 18, 5, 2, 5, 7, 15, 12, 1, 2, 5, 11, 19, 2, 7, 15, 16, 3, 11, 4, 3, 17, 6, 2, 3, 7, 9, 1, 2, 2, 8, 14, 9, 4, 14, 4, 10, 18, 2, 3, 11, 5, 18, 20, 14, 8, 14, 15, 13, 17, 1, 2, 14, 14, 14, 13, 1, 2, 3, 14, 9, 9, 6, 16, 3, 9, 13, 4, 18, 1, 2, 5, 2, 18, 1, 2, 9, 12, 16, 6, 8, 2, 16, 18, 2, 15, 16, 4, 5, 11, 2, 10, 13, 9, 11, 16, 1, 2, 3, 4, 15, 4, 5, 10, 12, 9, 8, 12, 2, 9, 20, 9, 11, 15, 5, 2, 9, 10, 11, 13, 2, 5, 6, 6, 1, 2, 4, 5, 5, 12, 4, 17, 13, 1, 2, 11, 8, 19, 1, 2, 4, 5, 7, 20, 15, 1, 2, 3, 13, 5, 7, 12, 15, 20, 9, 13, 16, 17, 7, 1, 5, 11, 15, 17, 2, 5, 11, 13, 1, 8, 15, 16, 8, 15, 2, 9, 1, 2, 3, 4, 8, 13, 17, 18, 20, 15, 4, 11, 11, 11, 1, 2, 3, 9, 16, 11, 11, 16, 17, 1, 4, 12, 13, 1, 8, 11, 2, 20, 1, 3, 4, 5, 11, 14, 17, 2, 1, 3, 20, 5, 11, 8, 8, 11, 7, 8, 1, 2, 3, 7, 11, 12, 8, 8, 15, 8, 15, 20, 14, 4, 11, 7, 4, 16, 15, 14, 11, 1, 2, 4, 8, 14, 13, 10, 9, 10, 13, 1, 2, 3, 4, 16, 1, 5, 10, 11, 9, 2, 3, 5, 2, 7, 17, 5, 2, 3, 5, 9, 18, 2, 3, 4, 5, 16, 20, 4, 7, 10, 4, 16, 17, 20, 11, 19, 3, 12, 7, 6, 5, 12, 4, 5, 10, 11, 12, 20, 12, 16, 3, 4, 4, 5, 13, 3, 3, 4, 15, 7, 1, 2, 4, 5, 7, 12, 13, 20, 13, 12, 8, 7, 10, 5, 20, 3, 1, 4, 13, 1, 3, 4, 14, 11, 1, 2, 9, 13, 2, 12, 3, 3, 20, 1, 6, 1, 3, 13, 20, 5, 8, 18, 7, 8, 3, 15, 17, 17, 11, 5, 6, 4, 15, 16, 2, 3, 4, 5, 9, 12, 1, 2, 4, 5, 10, 12, 10, 16, 1, 2, 3, 1, 2, 3, 7, 14, 19, 10, 4, 3, 11, 16, 14, 5, 10, 12, 15, 1, 2, 3, 4, 7, 2, 4, 5, 13, 13, 1, 4, 15, 1, 4, 5, 1, 3, 2, 1, 2, 3, 7, 1, 2, 3, 7, 15, 1, 2, 10, 10, 6, 1, 2, 3, 4, 8, 10, 18, 11, 2, 3, 9, 13, 17, 13, 16, 14, 19, 2, 3, 11, 12, 11, 13, 14, 13, 15, 10, 3, 1, 2, 4, 7, 2, 7, 1, 2, 3, 4, 17, 17, 17, 4, 10, 12, 9, 15, 1, 5, 8, 11, 14, 17, 5, 5, 1, 5, 8, 10, 11, 1, 2, 4, 5, 9, 10, 12, 15, 18, 4, 5, 10, 2, 11, 20, 12, 14, 2, 5, 13, 17, 7, 4, 5, 4, 20, 4, 4, 2, 5, 7, 4, 18, 12, 18, 2, 8, 20, 4, 8, 10, 16, 1, 1, 2, 3, 4, 8, 9, 16, 16, 1, 2, 3, 9, 3, 1, 2, 3, 16, 1, 5, 14, 16, 4, 16, 2, 14, 6, 18, 10, 18, 3, 7, 1, 3, 2, 4, 5, 7, 1, 2, 3, 4, 10, 15, 17, 2, 3, 4, 7, 17, 2, 1, 2, 3, 19, 1, 2, 3, 7, 4, 19, 19, 17, 1, 2, 3, 5, 7, 8, 9, 11, 13, 15, 17, 18, 20, 2, 3, 8, 11, 14, 17, 11, 2, 4, 3, 14, 7], \"Term\": [\"_\", \"accept\", \"accept\", \"accept\", \"access\", \"advance\", \"advice\", \"aerospace\", \"agency\", \"agency\", \"ago\", \"ago\", \"ahl\", \"air\", \"alan\", \"algorithm\", \"also\", \"also\", \"also\", \"also\", \"also\", \"also\", \"also\", \"amendment\", \"american\", \"american\", \"american\", \"amp\", \"anaheim\", \"analysis\", \"analysis\", \"anger\", \"animal\", \"announcement\", \"annual\", \"answer\", \"answer\", \"answer\", \"anybody\", \"anyone\", \"apartment\", \"apple\", \"application\", \"application\", \"april\", \"april\", \"arab\", \"area\", \"area\", \"area\", \"area\", \"area\", \"area\", \"area\", \"argument\", \"armenia\", \"armenian\", \"army\", \"army\", \"arrest\", \"art\", \"art\", \"art\", \"art\", \"article\", \"article\", \"article\", \"associate\", \"astronomy\", \"atheist\", \"ati\", \"attack\", \"attack\", \"attack\", \"attempt\", \"audio\", \"authority\", \"auto\", \"automatically\", \"available\", \"available\", \"average\", \"average\", \"away\", \"away\", \"away\", \"ax\", \"azerbaijani\", \"background\", \"bag\", \"ban\", \"band\", \"band\", \"baseball\", \"battery\", \"battery_charger\", \"bay\", \"be\", \"be\", \"belief\", \"believe\", \"believe\", \"believe\", \"bible\", \"bike\", \"bit\", \"bit\", \"bit\", \"bit\", \"bitmap\", \"block\", \"block\", \"block\", \"blood\", \"blood\", \"blue\", \"board\", \"board\", \"board\", \"bolt\", \"bomb\", \"book\", \"book\", \"book\", \"book\", \"border\", \"bos\", \"boston\", \"bottle\", \"bounce\", \"boy\", \"boy\", \"bradley\", \"brake\", \"brand\", \"brave\", \"breaker\", \"brian_kendig\", \"broadcast\", \"brother\", \"buffalo\", \"build\", \"build\", \"build\", \"build\", \"build\", \"build\", \"building\", \"building\", \"burn\", \"burn\", \"bus\", \"button\", \"buy\", \"ca\", \"ca\", \"cable\", \"cable\", \"cal\", \"call\", \"call\", \"call\", \"call\", \"call\", \"call\", \"callback\", \"canada\", \"canada\", \"canada\", \"canadian\", \"canuck\", \"capital\", \"captain\", \"car\", \"card\", \"card\", \"carry\", \"carry\", \"carry\", \"case\", \"case\", \"case\", \"case\", \"case\", \"case_western\", \"cc\", \"cell\", \"center\", \"center\", \"center\", \"center\", \"center\", \"center\", \"chain\", \"channel\", \"character\", \"character\", \"character\", \"chi\", \"chicago\", \"chief\", \"child\", \"child\", \"chip\", \"chris\", \"christ\", \"christian\", \"christianity\", \"church\", \"cigarette\", \"circuit\", \"cirrus_logic\", \"citizen\", \"civil\", \"civilian\", \"claim\", \"claim\", \"clean\", \"clear\", \"clear\", \"clearly\", \"cleveland_ohio\", \"client\", \"clipper\", \"clipper_chip\", \"coach\", \"code\", \"code\", \"code\", \"cold\", \"color\", \"come\", \"come\", \"come\", \"come\", \"come\", \"comet\", \"committee\", \"committee\", \"communication\", \"communication\", \"comparison\", \"compatible\", \"compile\", \"compile\", \"complain\", \"computer_science\", \"computing\", \"concept\", \"concern\", \"concern\", \"conductor\", \"conference\", \"confuse\", \"congress\", \"congress\", \"congress\", \"connect\", \"consider\", \"consider\", \"consider\", \"consider\", \"constitution\", \"construction\", \"contact\", \"contain\", \"contain\", \"contain\", \"contain\", \"context\", \"control\", \"control\", \"control\", \"control\", \"control\", \"control\", \"control\", \"controller\", \"cool\", \"cop\", \"copy\", \"copy\", \"copy\", \"copy\", \"corporation\", \"cost\", \"cost\", \"could\", \"could\", \"could\", \"could\", \"count\", \"countersteer\", \"country\", \"country\", \"country\", \"court\", \"cover\", \"cover\", \"cover\", \"coverage\", \"cpu\", \"crime\", \"criminal\", \"crowd\", \"crypto\", \"csa\", \"cubs_suck\", \"cubs_suck\", \"cubs_suck\", \"cubs_suck\", \"cubs_suck\", \"cubs_suck\", \"cubs_suck\", \"cubs_suck\", \"current\", \"current\", \"current\", \"current\", \"current\", \"cylinder\", \"czar\", \"damn\", \"darin\", \"darren\", \"datum\", \"datum\", \"datum\", \"datum\", \"datum\", \"david\", \"david\", \"david\", \"david\", \"david\", \"davidian\", \"day\", \"day\", \"day\", \"day\", \"day\", \"dealer\", \"dear\", \"death\", \"death\", \"death\", \"decision\", \"default\", \"defenseman\", \"deity\", \"demonstrate\", \"department\", \"department\", \"department\", \"department\", \"depend\", \"depend\", \"description\", \"description\", \"design\", \"design\", \"design\", \"det\", \"detect\", \"detector\", \"detroit\", \"develop\", \"develop\", \"develop\", \"development\", \"device\", \"device\", \"devil\", \"die\", \"die\", \"directory\", \"discharge\", \"discipline\", \"discuss\", \"discussion\", \"discussion\", \"disease\", \"disk\", \"disk\", \"display\", \"distribution_na\", \"distribution_na\", \"distribution_usa\", \"distribution_usa\", \"distribution_world\", \"distribution_world\", \"distribution_world\", \"distribution_world\", \"div\", \"division\", \"division\", \"division\", \"do\", \"do\", \"do\", \"do\", \"do\", \"doc\", \"doctor\", \"dod\", \"dog\", \"dollar\", \"door\", \"draft\", \"drawing\", \"dress\", \"drive\", \"drive\", \"driver\", \"driver\", \"drug\", \"earth\", \"earth\", \"earth\", \"ease\", \"economic\", \"edge\", \"edition\", \"editor\", \"edward\", \"eeg\", \"eg\", \"electronic\", \"electronic\", \"email\", \"email\", \"email\", \"emergency\", \"encrypt\", \"encryption\", \"energy\", \"engine\", \"engineering\", \"enjoy\", \"enjoy\", \"enjoyment\", \"ensure\", \"ensure\", \"entry\", \"ep\", \"equal\", \"equal\", \"equal\", \"error\", \"error\", \"error\", \"error\", \"espn\", \"establish\", \"estimate\", \"even\", \"even\", \"even\", \"even\", \"even\", \"example\", \"example\", \"example\", \"excellent\", \"exist\", \"exist\", \"expand\", \"extra\", \"extra\", \"eye\", \"eye\", \"face\", \"face\", \"fact\", \"fact\", \"faith\", \"familiar\", \"fan\", \"faq\", \"faq\", \"father\", \"fax\", \"fax\", \"fax\", \"fd\", \"february\", \"federal\", \"fight\", \"fight\", \"file\", \"file\", \"final\", \"final\", \"final\", \"final_standing\", \"finger\", \"finland\", \"fire\", \"fire\", \"fire\", \"firearm\", \"firm\", \"first\", \"first\", \"first\", \"first\", \"first\", \"first\", \"first\", \"first\", \"first\", \"flight\", \"fly\", \"fly\", \"fly\", \"follow\", \"follow\", \"follow\", \"follow\", \"follow\", \"font\", \"food\", \"food\", \"food\", \"foot\", \"foot\", \"forget\", \"forget\", \"format\", \"forum\", \"fox\", \"fp\", \"frame\", \"france\", \"frank\", \"frequency\", \"friday\", \"ftp\", \"fuel\", \"function\", \"function\", \"function\", \"game\", \"gas\", \"gay\", \"gd\", \"gene\", \"genoa\", \"genocide\", \"george\", \"george\", \"german\", \"get\", \"get\", \"get\", \"gfci\", \"gif\", \"girl\", \"give\", \"give\", \"give\", \"go\", \"go\", \"go\", \"goal\", \"god\", \"gold\", \"good\", \"good\", \"good\", \"good\", \"good\", \"gordon_bank\", \"gov\", \"government\", \"government\", \"government\", \"gps\", \"gq\", \"gr\", \"graphic\", \"greek\", \"greek\", \"ground\", \"ground\", \"ground\", \"group\", \"group\", \"group\", \"group\", \"guard\", \"guide\", \"guide\", \"gun\", \"gun_control\", \"guru\", \"hall\", \"ham\", \"handgun\", \"hang\", \"happen\", \"happen\", \"hard_drive\", \"harry\", \"hat\", \"hate\", \"have\", \"have\", \"hawk\", \"hawk\", \"hd\", \"health\", \"heart\", \"heart\", \"heat\", \"heavy\", \"hell\", \"helmet\", \"help\", \"help\", \"help\", \"help\", \"help\", \"henry\", \"henry_spencer\", \"hi\", \"high\", \"high\", \"high\", \"high\", \"high\", \"high\", \"high\", \"high\", \"hill\", \"hit\", \"hit\", \"hit\", \"hitter\", \"hockey\", \"hockey_league\", \"hole\", \"homeopathic\", \"homeopathy\", \"homosexual\", \"honor\", \"hospital\", \"host\", \"host\", \"hour\", \"hour\", \"house\", \"house\", \"house\", \"house\", \"however\", \"however\", \"however\", \"hug\", \"human\", \"human\", \"hunt\", \"hurt\", \"ibm\", \"ice\", \"ide\", \"illegal\", \"illinois\", \"image\", \"image\", \"image\", \"imagine\", \"implement\", \"imply\", \"inc\", \"inc\", \"inc\", \"include\", \"include\", \"include\", \"include\", \"include\", \"info\", \"info\", \"info\", \"information\", \"information\", \"information\", \"information\", \"ins_cwru\", \"instal\", \"instal\", \"installation\", \"instance\", \"insurance\", \"int\", \"interactive\", \"internal\", \"international\", \"internet\", \"interview\", \"israel\", \"israeli\", \"issue\", \"issue\", \"issue\", \"issue\", \"jack\", \"jeff\", \"jew\", \"jewish\", \"jewish\", \"job\", \"ken\", \"key\", \"key_escrow\", \"kid\", \"kill\", \"kill\", \"king\", \"km\", \"know\", \"know\", \"know\", \"know\", \"know\", \"kurt\", \"la\", \"lamp\", \"land\", \"land\", \"lane\", \"laptop\", \"large\", \"large\", \"large\", \"large\", \"large\", \"large\", \"large\", \"large\", \"last_night\", \"lately\", \"laugh\", \"launch\", \"law\", \"law\", \"law_enforcement\", \"lawrence\", \"league\", \"lebanon\", \"legal\", \"legal\", \"legend\", \"lemieux\", \"lens\", \"let\", \"let\", \"let\", \"let\", \"level\", \"level\", \"level\", \"level\", \"level\", \"library\", \"libxmu\", \"life\", \"life\", \"life\", \"light\", \"light\", \"like\", \"like\", \"like\", \"limit\", \"line\", \"line\", \"list\", \"list\", \"list\", \"lock\", \"logical\", \"logo\", \"look\", \"look\", \"look\", \"lord\", \"lot\", \"lot\", \"love\", \"love\", \"love\", \"low\", \"low\", \"low\", \"low\", \"ltd\", \"lunar\", \"mac\", \"machine\", \"magazine\", \"magazine\", \"magic\", \"mail\", \"mailing_list\", \"make\", \"make\", \"make\", \"make\", \"man\", \"man\", \"man\", \"man\", \"man\", \"many\", \"many\", \"many\", \"many\", \"many\", \"mar\", \"march\", \"marriage\", \"married\", \"mass\", \"mass\", \"mass\", \"massacre\", \"master\", \"master\", \"material\", \"matthew\", \"max\", \"may\", \"may\", \"may\", \"may\", \"may\", \"mean\", \"mean\", \"mean\", \"mean\", \"mean\", \"medical\", \"medicine\", \"medium\", \"medium\", \"medium\", \"medium\", \"meg\", \"membership\", \"memory\", \"message\", \"message\", \"message\", \"metal\", \"mf\", \"mg\", \"mhz\", \"mid\", \"middle\", \"middle\", \"mike\", \"mike\", \"mike\", \"mile\", \"military\", \"military\", \"militia\", \"miller\", \"million\", \"min\", \"minnesota\", \"misc\", \"mission\", \"mit\", \"mode\", \"model\", \"model\", \"modem\", \"mon\", \"money\", \"money\", \"monitor\", \"monitor\", \"mont_pierce\", \"monthly\", \"moon\", \"moral\", \"mormon\", \"morning\", \"morris\", \"mother\", \"motif\", \"motor\", \"motorcycle\", \"mount\", \"mouse\", \"movement\", \"mr\", \"mr\", \"mr_stephanopoulo\", \"ms_window\", \"msg\", \"much\", \"much\", \"much\", \"multi\", \"multi\", \"must\", \"must\", \"must\", \"must\", \"must\", \"mutlu\", \"mystery\", \"nasa\", \"national\", \"national\", \"national\", \"nc\", \"nec\", \"need\", \"need\", \"need\", \"need\", \"need\", \"need\", \"neighbor\", \"network\", \"network\", \"neutral\", \"never\", \"never\", \"never\", \"never\", \"new\", \"new\", \"new\", \"new\", \"new\", \"new\", \"new\", \"new\", \"new_brunswick\", \"new_york\", \"new_york\", \"new_york\", \"news\", \"news\", \"news\", \"newsgroup\", \"newsletter\", \"nhl\", \"nice\", \"nick\", \"nntp_post\", \"normal\", \"not\", \"not\", \"not\", \"not\", \"nsa\", \"nt\", \"nt\", \"nyi\", \"nyr\", \"object\", \"obvious\", \"offer\", \"offer\", \"ohio\", \"oil\", \"ontario\", \"orbit\", \"org\", \"organization\", \"organization\", \"originator\", \"ott\", \"ought\", \"outlet\", \"package\", \"page\", \"page\", \"pain\", \"painful\", \"panel\", \"part\", \"part\", \"part\", \"part\", \"part\", \"party\", \"passage\", \"patient\", \"paul\", \"pay\", \"pay\", \"pc\", \"peace\", \"penguin\", \"penn_state\", \"people\", \"people\", \"people\", \"people\", \"perhaps\", \"perhaps\", \"period\", \"period\", \"period\", \"permit\", \"peter\", \"phi\", \"phone\", \"phone\", \"phone\", \"physical\", \"pick\", \"pick\", \"pin\", \"pipe\", \"pipe\", \"pit\", \"pitch\", \"pittsburgh\", \"pittsburgh\", \"plane\", \"plate\", \"play\", \"play\", \"play\", \"player\", \"playoff\", \"pm\", \"point\", \"point\", \"point\", \"point\", \"police\", \"policy\", \"pool\", \"pop\", \"population\", \"population\", \"population\", \"port\", \"portion\", \"post\", \"post\", \"post\", \"posting\", \"postscript\", \"power\", \"power\", \"power\", \"power\", \"power\", \"praise\", \"pray\", \"present\", \"present\", \"present\", \"president\", \"pressure\", \"pressure\", \"price\", \"price\", \"price\", \"principle\", \"printer\", \"privacy\", \"private\", \"private\", \"probe\", \"problem\", \"problem\", \"problem\", \"problem\", \"professional\", \"program\", \"program\", \"program\", \"program\", \"prohibit\", \"project\", \"project\", \"promise\", \"properly\", \"properly\", \"protect\", \"prove\", \"prove\", \"pub\", \"public\", \"public\", \"public\", \"pull\", \"pull\", \"punishment\", \"purchase\", \"pure\", \"qax\", \"question\", \"question\", \"question\", \"question\", \"quick\", \"radio\", \"ram\", \"ranger\", \"rat\", \"rather\", \"rather\", \"rating\", \"rd\", \"rd\", \"read\", \"read\", \"read\", \"read\", \"read\", \"read\", \"reader\", \"reason\", \"reason\", \"reason\", \"ref\", \"reference\", \"reference\", \"reference\", \"reference\", \"reference\", \"regulation\", \"relative\", \"relative\", \"relative\", \"religion\", \"reply\", \"reply\", \"reply\", \"reply\", \"reply\", \"report\", \"report\", \"report\", \"report\", \"research\", \"research\", \"research\", \"reserve\", \"reserve_university\", \"resource\", \"respect\", \"restriction\", \"return\", \"return\", \"return\", \"return\", \"return\", \"return\", \"return\", \"return\", \"return\", \"review\", \"richard\", \"richard\", \"rid\", \"ride\", \"right\", \"right\", \"right\", \"right\", \"rise\", \"risk\", \"road\", \"road\", \"road\", \"robert\", \"robert\", \"rocket\", \"rocket\", \"room\", \"room\", \"rough\", \"rule\", \"rule\", \"run\", \"run\", \"run\", \"run\", \"run\", \"run\", \"run\", \"russian\", \"s\", \"s\", \"safely\", \"sale\", \"sale\", \"san_francisco\", \"san_jose\", \"san_jose\", \"satan\", \"satellite\", \"say\", \"say\", \"say\", \"say\", \"scale\", \"scale\", \"schedule\", \"science\", \"science\", \"scientific\", \"scientific\", \"scoop\", \"score\", \"screen\", \"screw\", \"scripture\", \"scsi\", \"seal\", \"search\", \"season\", \"seat\", \"second\", \"second\", \"second\", \"second\", \"second\", \"secretary\", \"secure\", \"security\", \"security\", \"security\", \"see\", \"see\", \"see\", \"see\", \"seize\", \"sell\", \"sell\", \"sell\", \"sell\", \"senate\", \"send\", \"send\", \"send\", \"sense\", \"sense\", \"serdar_argic\", \"server\", \"service\", \"service\", \"service\", \"service\", \"service\", \"set\", \"set\", \"set\", \"set\", \"set\", \"set\", \"setup\", \"sex\", \"shape\", \"shell\", \"shell\", \"shift\", \"shift\", \"shipping\", \"shk\", \"should\", \"signal\", \"sin\", \"sinner\", \"site\", \"site\", \"size\", \"size\", \"size\", \"size\", \"size\", \"size\", \"slap\", \"slave\", \"smith\", \"smith\", \"software\", \"software\", \"soldier\", \"somewhere\", \"soon\", \"soon\", \"soon\", \"soul\", \"sound\", \"sound\", \"sound\", \"source\", \"source\", \"source\", \"source\", \"source\", \"soviet\", \"space\", \"spacecraft\", \"spank\", \"spanking\", \"speaker\", \"specifically\", \"stand\", \"standard\", \"standard\", \"standard\", \"start\", \"start\", \"start\", \"start\", \"stat\", \"state\", \"state\", \"state\", \"state\", \"statement\", \"station\", \"statistic\", \"stay\", \"steer\", \"stick\", \"stl\", \"stop\", \"stop\", \"stop\", \"string\", \"student\", \"student\", \"student\", \"study\", \"study\", \"stupid\", \"success\", \"suck\", \"sumgait\", \"summer\", \"sun\", \"sunday\", \"supply\", \"supply\", \"supply\", \"support\", \"support\", \"support\", \"support\", \"support\", \"switch\", \"system\", \"system\", \"system\", \"system\", \"system\", \"system\", \"table\", \"table\", \"take\", \"take\", \"take\", \"talk\", \"talk\", \"talk\", \"talk\", \"tampa_bay\", \"tank\", \"tap\", \"tape\", \"tax\", \"tax\", \"teach\", \"team\", \"technology\", \"technology\", \"technology\", \"tel\", \"tell\", \"tell\", \"tell\", \"tell\", \"tell\", \"term\", \"term\", \"terminal\", \"territory\", \"terrorist\", \"texas\", \"text\", \"text\", \"thank\", \"thank\", \"thank\", \"that\", \"that\", \"theory\", \"thing\", \"thing\", \"thing\", \"thing\", \"think\", \"think\", \"think\", \"think\", \"thinking\", \"thus\", \"thus\", \"thus\", \"ticket\", \"tiger\", \"time\", \"time\", \"time\", \"time\", \"time\", \"timeout\", \"timer\", \"tm\", \"today\", \"today\", \"today\", \"today\", \"today\", \"tomorrow\", \"tonight\", \"tor\", \"toronto_zoology\", \"total\", \"total\", \"total\", \"total\", \"trade\", \"trade\", \"trade\", \"train\", \"treatment\", \"tree\", \"trial\", \"true\", \"true\", \"true\", \"true\", \"truth\", \"truth\", \"try\", \"try\", \"try\", \"try\", \"turk\", \"turkey\", \"turkish\", \"unit\", \"unit\", \"unit\", \"univ\", \"univ\", \"university\", \"university\", \"university\", \"university\", \"university\", \"university\", \"upgrade\", \"urbana\", \"usa\", \"usa\", \"usa\", \"usa\", \"usa\", \"use\", \"use\", \"use\", \"use\", \"use\", \"use\", \"use\", \"useful\", \"usenet\", \"user\", \"user\", \"user\", \"value\", \"value\", \"value\", \"van\", \"vancouver\", \"vay\", \"vay\", \"vay\", \"vay\", \"verse\", \"version\", \"version\", \"vesa\", \"vesa_local\", \"vga\", \"video\", \"view\", \"view\", \"view\", \"vlb\", \"voice\", \"volt\", \"voltage\", \"vote\", \"vote\", \"vram\", \"wait\", \"wait\", \"wait\", \"wait\", \"wall\", \"want\", \"want\", \"want\", \"want\", \"washington\", \"washington\", \"water\", \"wave\", \"way\", \"way\", \"way\", \"weapon\", \"weekend\", \"well\", \"well\", \"well\", \"widget\", \"win\", \"win\", \"win\", \"wind\", \"window\", \"window_manager\", \"wing\", \"wing\", \"winnipeg_jet\", \"wire\", \"wiretap\", \"wiring\", \"woman\", \"woman\", \"wonder\", \"wonder\", \"word\", \"word\", \"word\", \"word\", \"work\", \"work\", \"work\", \"work\", \"work\", \"work\", \"work\", \"world\", \"world\", \"world\", \"world\", \"world\", \"worship\", \"would\", \"would\", \"would\", \"would\", \"write\", \"write\", \"write\", \"write\", \"xfree\", \"xga\", \"xlib\", \"xterm\", \"yalanci\", \"yalanci\", \"yalanci\", \"yalanci\", \"yalanci\", \"yalanci\", \"yalanci\", \"yalanci\", \"yalanci\", \"yalanci\", \"yalanci\", \"yalanci\", \"yalanci\", \"year\", \"year\", \"year\", \"year\", \"year\", \"year\", \"yesterday\", \"yet\", \"yet\", \"young\", \"young\", \"zoroastrian\"]}, \"mdsDat\": {\"Freq\": [16.257960889013244, 15.227503651170467, 14.571010787082123, 6.1624084004989275, 5.973719588875816, 4.344136488357251, 4.177796963256573, 3.5861053279337125, 3.3660754582250125, 3.27167014777782, 3.2277957687819785, 2.9693113010376138, 2.74129844305511, 2.7318303435633084, 2.2908597234818178, 2.124102261216741, 2.081719436441824, 1.6938021868826825, 1.6791723054682153, 1.521720527879744], \"y\": [-0.0012599930496112696, -0.0031110435786174686, -0.12817162352585965, 0.2264630930411258, 0.222604912852776, -0.1128773798779813, -0.18297664387674312, -0.03646203327430335, -0.021238072787208958, 0.21972994017294248, -0.017237059053396925, 0.13950005356616024, -0.06262919785340863, -0.11746938589800816, 0.003685920661733308, -0.023369725498745813, -0.1108221869030135, 0.0016337791010570596, -0.027992282893743062, 0.03199892867484613], \"cluster\": [1, 1, 1, 1, 1, 1, 1, 1, 1, 1, 1, 1, 1, 1, 1, 1, 1, 1, 1, 1], \"topics\": [1, 2, 3, 4, 5, 6, 7, 8, 9, 10, 11, 12, 13, 14, 15, 16, 17, 18, 19, 20], \"x\": [0.3369744626118805, 0.2910740406007074, 0.32880606929275474, 0.09174702166688152, 0.05966343097832702, -0.08498604933998054, 0.0609818625815624, -0.022531623017745438, -0.022890365744063064, -0.02929423520878978, -0.0626996029793636, -0.06287838429501734, -0.08885455274589008, -0.04774569073355753, -0.11148963998338215, -0.11366491399853396, -0.09218348649185501, -0.1342117414221345, -0.16419736198881457, -0.13161923978298587]}, \"topic.order\": [8, 14, 19, 3, 16, 11, 18, 13, 6, 17, 7, 10, 15, 4, 9, 20, 12, 5, 1, 2]};\n",
       "\n",
       "function LDAvis_load_lib(url, callback){\n",
       "  var s = document.createElement('script');\n",
       "  s.src = url;\n",
       "  s.async = true;\n",
       "  s.onreadystatechange = s.onload = callback;\n",
       "  s.onerror = function(){console.warn(\"failed to load library \" + url);};\n",
       "  document.getElementsByTagName(\"head\")[0].appendChild(s);\n",
       "}\n",
       "\n",
       "if(typeof(LDAvis) !== \"undefined\"){\n",
       "   // already loaded: just create the visualization\n",
       "   !function(LDAvis){\n",
       "       new LDAvis(\"#\" + \"ldavis_el71191404569309059281653921242\", ldavis_el71191404569309059281653921242_data);\n",
       "   }(LDAvis);\n",
       "}else if(typeof define === \"function\" && define.amd){\n",
       "   // require.js is available: use it to load d3/LDAvis\n",
       "   require.config({paths: {d3: \"https://cdnjs.cloudflare.com/ajax/libs/d3/3.5.5/d3.min\"}});\n",
       "   require([\"d3\"], function(d3){\n",
       "      window.d3 = d3;\n",
       "      LDAvis_load_lib(\"https://cdn.rawgit.com/bmabey/pyLDAvis/files/ldavis.v1.0.0.js\", function(){\n",
       "        new LDAvis(\"#\" + \"ldavis_el71191404569309059281653921242\", ldavis_el71191404569309059281653921242_data);\n",
       "      });\n",
       "    });\n",
       "}else{\n",
       "    // require.js not available: dynamically load d3 & LDAvis\n",
       "    LDAvis_load_lib(\"https://cdnjs.cloudflare.com/ajax/libs/d3/3.5.5/d3.min.js\", function(){\n",
       "         LDAvis_load_lib(\"https://cdn.rawgit.com/bmabey/pyLDAvis/files/ldavis.v1.0.0.js\", function(){\n",
       "                 new LDAvis(\"#\" + \"ldavis_el71191404569309059281653921242\", ldavis_el71191404569309059281653921242_data);\n",
       "            })\n",
       "         });\n",
       "}\n",
       "</script>"
      ],
      "text/plain": [
       "PreparedData(topic_coordinates=            Freq  cluster  topics         x         y\n",
       "topic                                                \n",
       "7      16.257961        1       1  0.336974 -0.001260\n",
       "13     15.227504        1       2  0.291074 -0.003111\n",
       "18     14.571011        1       3  0.328806 -0.128172\n",
       "2       6.162408        1       4  0.091747  0.226463\n",
       "15      5.973720        1       5  0.059663  0.222605\n",
       "10      4.344136        1       6 -0.084986 -0.112877\n",
       "17      4.177797        1       7  0.060982 -0.182977\n",
       "12      3.586105        1       8 -0.022532 -0.036462\n",
       "5       3.366075        1       9 -0.022890 -0.021238\n",
       "16      3.271670        1      10 -0.029294  0.219730\n",
       "6       3.227796        1      11 -0.062700 -0.017237\n",
       "9       2.969311        1      12 -0.062878  0.139500\n",
       "14      2.741298        1      13 -0.088855 -0.062629\n",
       "3       2.731830        1      14 -0.047746 -0.117469\n",
       "8       2.290860        1      15 -0.111490  0.003686\n",
       "19      2.124102        1      16 -0.113665 -0.023370\n",
       "11      2.081719        1      17 -0.092183 -0.110822\n",
       "4       1.693802        1      18 -0.134212  0.001634\n",
       "0       1.679172        1      19 -0.164197 -0.027992\n",
       "1       1.521721        1      20 -0.131619  0.031999, topic_info=      Category          Freq          Term         Total  loglift  logprob\n",
       "term                                                                      \n",
       "11711  Default  57084.000000            ax  57084.000000  30.0000  30.0000\n",
       "67468  Default  12491.000000          line  12491.000000  29.0000  29.0000\n",
       "65392  Default  16294.000000           not  16294.000000  28.0000  28.0000\n",
       "67775  Default  11141.000000  organization  11141.000000  27.0000  27.0000\n",
       "21686  Default   3845.000000           max   3845.000000  26.0000  26.0000\n",
       "17994  Default  10454.000000            do  10454.000000  25.0000  25.0000\n",
       "59123  Default   9655.000000         write   9655.000000  24.0000  24.0000\n",
       "67240  Default   7586.000000       article   7586.000000  23.0000  23.0000\n",
       "32195  Default   8048.000000            be   8048.000000  22.0000  22.0000\n",
       "30626  Default  11783.000000         would  11783.000000  21.0000  21.0000\n",
       "68462  Default   6906.000000           say   6906.000000  20.0000  20.0000\n",
       "10075  Default   5804.000000            go   5804.000000  19.0000  19.0000\n",
       "1516   Default   4407.000000     nntp_post   4407.000000  18.0000  18.0000\n",
       "31556  Default   4083.000000          host   4083.000000  17.0000  17.0000\n",
       "53994  Default   6852.000000           get   6852.000000  16.0000  16.0000\n",
       "57684  Default   5027.000000    university   5027.000000  15.0000  15.0000\n",
       "72028  Default   1863.000000         space   1863.000000  14.0000  14.0000\n",
       "4841   Default   2294.000000        window   2294.000000  13.0000  13.0000\n",
       "21438  Default   3735.000000             s   3735.000000  12.0000  12.0000\n",
       "37433  Default   7292.000000          know   7292.000000  11.0000  11.0000\n",
       "64617  Default   3461.000000          year   3461.000000  10.0000  10.0000\n",
       "54436  Default   4598.000000           use   4598.000000   9.0000   9.0000\n",
       "8248   Default   1540.000000          game   1540.000000   8.0000   8.0000\n",
       "10224  Default   1948.000000          mail   1948.000000   7.0000   7.0000\n",
       "6491   Default   3006.000000         right   3006.000000   6.0000   6.0000\n",
       "38760  Default   1684.000000     christian   1684.000000   5.0000   5.0000\n",
       "40840  Default   1746.000000    government   1746.000000   4.0000   4.0000\n",
       "39074  Default   1464.000000          team   1464.000000   3.0000   3.0000\n",
       "60683  Default   3380.000000        system   3380.000000   2.0000   2.0000\n",
       "42603  Default   2012.000000          card   2012.000000   1.0000   1.0000\n",
       "...        ...           ...           ...           ...      ...      ...\n",
       "2799   Topic20    119.371298          guru    120.323183   4.1774  -5.3259\n",
       "9992   Topic20    117.623803  countersteer    118.575687   4.1773  -5.3406\n",
       "58046  Topic20    113.026465       bradley    113.978349   4.1769  -5.3805\n",
       "8958   Topic20    112.217104          lane    113.168988   4.1769  -5.3877\n",
       "41245  Topic20    107.557276         forum    108.509160   4.1765  -5.4301\n",
       "48903  Topic20    101.312703           int    102.264587   4.1760  -5.4899\n",
       "63444  Topic20     97.988221         scoop     98.940106   4.1757  -5.5233\n",
       "59688  Topic20     92.962826          vram     93.914711   4.1751  -5.5759\n",
       "45878  Topic20     92.560112     enjoyment     93.511997   4.1751  -5.5803\n",
       "26862  Topic20     91.103745          nick     92.055630   4.1749  -5.5961\n",
       "64417  Topic20     88.575174        libxmu     89.527058   4.1746  -5.6243\n",
       "67286  Topic20     87.898009      callback     88.849894   4.1746  -5.6320\n",
       "41592  Topic20     85.062658           ati     86.014542   4.1742  -5.6648\n",
       "4944   Topic20     83.131819        safely     84.083703   4.1739  -5.6877\n",
       "47981  Topic20     80.993277      detector     81.945161   4.1736  -5.7138\n",
       "47977  Topic20     75.671250       drawing     76.623134   4.1728  -5.7817\n",
       "46147  Topic20     71.420085     ms_window     72.371969   4.1721  -5.8396\n",
       "20191  Topic20     71.192771         steer     72.144656   4.1720  -5.8428\n",
       "10950  Topic20    261.747481      properly    330.155677   3.9531  -4.5408\n",
       "70645  Topic20    378.282079      function    519.984735   3.8672  -4.1725\n",
       "18356  Topic20    142.360789         shift    163.492000   4.0469  -5.1498\n",
       "2670   Topic20    497.710016         value    864.271403   3.6335  -3.8981\n",
       "50242  Topic20    247.962872          code    911.061989   2.8840  -4.5949\n",
       "30933  Topic20    184.930583         error    663.484026   2.9078  -4.8882\n",
       "55952  Topic20    147.245034        return    725.477489   2.5906  -5.1160\n",
       "53943  Topic20    154.702111           set   1435.276898   1.9577  -5.0666\n",
       "30643  Topic20    102.345269       compile    240.643784   3.3304  -5.4798\n",
       "65459  Topic20    104.813956     character    416.525492   2.8056  -5.4560\n",
       "61581  Topic20    107.733488          size    595.106549   2.4762  -5.4285\n",
       "47418  Topic20     99.075758         build   1050.738557   1.8240  -5.5123\n",
       "\n",
       "[999 rows x 6 columns], token_table=       Topic      Freq         Term\n",
       "term                               \n",
       "4145      19  0.998897            _\n",
       "42588      2  0.810089       accept\n",
       "42588      7  0.176544       accept\n",
       "42588     20  0.012291       accept\n",
       "8607       5  0.998605       access\n",
       "47054      5  0.998772      advance\n",
       "13613      1  0.997651       advice\n",
       "19359     12  0.996457    aerospace\n",
       "11015     10  0.856115       agency\n",
       "11015     13  0.141871       agency\n",
       "13367      8  0.189456          ago\n",
       "13367     16  0.805188          ago\n",
       "61469     14  0.994148          ahl\n",
       "2743       1  0.997064          air\n",
       "48453     11  0.992008         alan\n",
       "15941     10  0.996912    algorithm\n",
       "64240      1  0.260704         also\n",
       "64240      2  0.372966         also\n",
       "64240      3  0.058324         also\n",
       "64240      4  0.065121         also\n",
       "64240      5  0.203257         also\n",
       "64240      7  0.015129         also\n",
       "64240     12  0.024557         also\n",
       "71078      9  0.990304    amendment\n",
       "4333       3  0.309476     american\n",
       "4333       8  0.148586     american\n",
       "4333       9  0.541346     american\n",
       "2869      12  0.995458          amp\n",
       "29501      6  0.986723      anaheim\n",
       "26078      9  0.269073     analysis\n",
       "...      ...       ...          ...\n",
       "59123      7  0.018643        write\n",
       "44631      4  0.997938        xfree\n",
       "70671     19  0.994643          xga\n",
       "21078     19  0.993771         xlib\n",
       "61938     17  0.995828        xterm\n",
       "55356      1  0.005271      yalanci\n",
       "55356      2  0.026353      yalanci\n",
       "55356      3  0.005271      yalanci\n",
       "55356      5  0.010541      yalanci\n",
       "55356      7  0.005271      yalanci\n",
       "55356      8  0.005271      yalanci\n",
       "55356      9  0.005271      yalanci\n",
       "55356     11  0.005271      yalanci\n",
       "55356     13  0.010541      yalanci\n",
       "55356     15  0.005271      yalanci\n",
       "55356     17  0.901272      yalanci\n",
       "55356     18  0.005271      yalanci\n",
       "55356     20  0.005271      yalanci\n",
       "64617      2  0.034670         year\n",
       "64617      3  0.427020         year\n",
       "64617      8  0.147059         year\n",
       "64617     11  0.211487         year\n",
       "64617     14  0.139836         year\n",
       "64617     17  0.039582         year\n",
       "34015     11  0.992826    yesterday\n",
       "27874      2  0.904874          yet\n",
       "27874      4  0.094209          yet\n",
       "45080      3  0.915175        young\n",
       "45080     14  0.083198        young\n",
       "38688      7  0.993351  zoroastrian\n",
       "\n",
       "[1607 rows x 3 columns], R=30, lambda_step=0.01, plot_opts={'xlab': 'PC1', 'ylab': 'PC2'}, topic_order=[8, 14, 19, 3, 16, 11, 18, 13, 6, 17, 7, 10, 15, 4, 9, 20, 12, 5, 1, 2])"
      ]
     },
     "execution_count": 21,
     "metadata": {},
     "output_type": "execute_result"
    }
   ],
   "source": [
    "# Visualize the topics\n",
    "pyLDAvis.enable_notebook()\n",
    "vis = pyLDAvis.gensim.prepare(lda_model, corpus, id2word)\n",
    "vis"
   ]
  },
  {
   "cell_type": "markdown",
   "metadata": {},
   "source": [
    "## LDA Mallet Model (improvement over GenSim model)"
   ]
  },
  {
   "cell_type": "code",
   "execution_count": 25,
   "metadata": {},
   "outputs": [],
   "source": [
    "# http://mallet.cs.umass.edu/dist/mallet-2.0.8.zip\n",
    "mallet_path = '~/nltk_data/mallet-2.0.8/bin/mallet'\n",
    "ldamallet = gensim.models.wrappers.LdaMallet(mallet_path, corpus=corpus, num_topics=20, id2word=id2word)"
   ]
  },
  {
   "cell_type": "code",
   "execution_count": 26,
   "metadata": {
    "scrolled": true
   },
   "outputs": [
    {
     "name": "stdout",
     "output_type": "stream",
     "text": [
      "[(18,\n",
      "  [('gun', 0.0205374668052188),\n",
      "   ('state', 0.01384078051033368),\n",
      "   ('law', 0.013407805103336798),\n",
      "   ('people', 0.012801639533541161),\n",
      "   ('fire', 0.0076347996767116965),\n",
      "   ('crime', 0.007375014432513567),\n",
      "   ('kill', 0.007158526729015125),\n",
      "   ('weapon', 0.007014201593349497),\n",
      "   ('article', 0.006855443944117308),\n",
      "   ('case', 0.006826578916984182)]),\n",
      " (14,\n",
      "  [('key', 0.028493776473479535),\n",
      "   ('system', 0.01069781562170211),\n",
      "   ('line', 0.01036531594697353),\n",
      "   ('encryption', 0.010278576901392162),\n",
      "   ('file', 0.008702817573330635),\n",
      "   ('security', 0.008153470284648634),\n",
      "   ('bit', 0.008037818223873477),\n",
      "   ('chip', 0.007806514102323161),\n",
      "   ('entry', 0.00728607982883495),\n",
      "   ('program', 0.006794558570540529)]),\n",
      " (0,\n",
      "  [('space', 0.02426224147796943),\n",
      "   ('launch', 0.007487942450747977),\n",
      "   ('earth', 0.006850322897081664),\n",
      "   ('year', 0.006539687729910897),\n",
      "   ('nasa', 0.006310798659364015),\n",
      "   ('system', 0.0060982588081419115),\n",
      "   ('project', 0.005836671298945475),\n",
      "   ('satellite', 0.005754925202321589),\n",
      "   ('research', 0.005656829886372926),\n",
      "   ('center', 0.005460639254475599)]),\n",
      " (19,\n",
      "  [('make', 0.014083213020081375),\n",
      "   ('work', 0.011497571859824123),\n",
      "   ('people', 0.010460690379314871),\n",
      "   ('president', 0.009568184801155007),\n",
      "   ('government', 0.009108806930043312),\n",
      "   ('year', 0.008557553484709279),\n",
      "   ('money', 0.008085050531565822),\n",
      "   ('american', 0.0075206720042000266),\n",
      "   ('state', 0.007205670035437721),\n",
      "   ('job', 0.007113794461215382)]),\n",
      " (8,\n",
      "  [('post', 0.02319651832422373),\n",
      "   ('mail', 0.019665020588192195),\n",
      "   ('information', 0.01734976481104289),\n",
      "   ('send', 0.015532728631507994),\n",
      "   ('group', 0.015327579385431472),\n",
      "   ('list', 0.014199258532010609),\n",
      "   ('address', 0.012250340694283662),\n",
      "   ('book', 0.01186934923728441),\n",
      "   ('internet', 0.011019445217824539),\n",
      "   ('email', 0.010301422856556717)]),\n",
      " (16,\n",
      "  [('good', 0.031879064224461774),\n",
      "   ('time', 0.027707971709111635),\n",
      "   ('thing', 0.024327055105054535),\n",
      "   ('make', 0.023161221793310708),\n",
      "   ('people', 0.01904194409181585),\n",
      "   ('write', 0.01650301821290707),\n",
      "   ('bad', 0.01649006450944325),\n",
      "   ('hear', 0.013717971968185704),\n",
      "   ('happen', 0.011995129407497604),\n",
      "   ('give', 0.011710147931293557)]),\n",
      " (7,\n",
      "  [('game', 0.024977776664872105),\n",
      "   ('team', 0.018166793955252846),\n",
      "   ('year', 0.014961625621314369),\n",
      "   ('play', 0.01433561618109201),\n",
      "   ('player', 0.012144583140313756),\n",
      "   ('win', 0.01124312954639356),\n",
      "   ('good', 0.009890949155513265),\n",
      "   ('season', 0.007787557436366141),\n",
      "   ('hockey', 0.006986265352881521),\n",
      "   ('fan', 0.00628513477983248)]),\n",
      " (6,\n",
      "  [('write', 0.013284421967376593),\n",
      "   ('question', 0.011705487095472138),\n",
      "   ('people', 0.010933827195669207),\n",
      "   ('make', 0.010826981978773418),\n",
      "   ('exist', 0.010387729420424057),\n",
      "   ('claim', 0.009984091934373293),\n",
      "   ('argument', 0.008761307785454805),\n",
      "   ('reason', 0.008725692713156208),\n",
      "   ('true', 0.007977776194885676),\n",
      "   ('article', 0.007764085761094095)]),\n",
      " (17,\n",
      "  [('line', 0.10584509966777408),\n",
      "   ('organization', 0.10411475636766335),\n",
      "   ('write', 0.07745016611295681),\n",
      "   ('nntp_post', 0.07520071982281284),\n",
      "   ('university', 0.06886766334440753),\n",
      "   ('article', 0.06564922480620156),\n",
      "   ('host', 0.06502630121816168),\n",
      "   ('reply', 0.0277547065337763),\n",
      "   ('distribution_world', 0.01247577519379845),\n",
      "   ('usa', 0.010105204872646734)]),\n",
      " (1,\n",
      "  [('file', 0.028639270470668783),\n",
      "   ('image', 0.01595117048086588),\n",
      "   ('software', 0.014071991492709077),\n",
      "   ('graphic', 0.011639255903389805),\n",
      "   ('version', 0.01143531399769837),\n",
      "   ('program', 0.011231372092006933),\n",
      "   ('system', 0.009643538683409326),\n",
      "   ('format', 0.00901714568735706),\n",
      "   ('package', 0.008638396433930107),\n",
      "   ('ftp', 0.006730082887817385)])]\n",
      "\n",
      "Coherence Score:  0.636297980323576\n"
     ]
    }
   ],
   "source": [
    "# Show Topics\n",
    "pprint(ldamallet.show_topics(formatted=False))\n",
    "\n",
    "# Compute Coherence Score\n",
    "coherence_model_ldamallet = CoherenceModel(model=ldamallet, texts=data_lemmatized, dictionary=id2word, coherence='c_v')\n",
    "coherence_ldamallet = coherence_model_ldamallet.get_coherence()\n",
    "print('\\nCoherence Score: ', coherence_ldamallet)"
   ]
  },
  {
   "cell_type": "markdown",
   "metadata": {},
   "source": [
    "### Finding the optimal number of topics for LDA"
   ]
  },
  {
   "cell_type": "code",
   "execution_count": 27,
   "metadata": {
    "collapsed": true
   },
   "outputs": [],
   "source": [
    "def compute_coherence_values(dictionary, corpus, texts, limit, start=2, step=3):\n",
    "    coherence_values = []\n",
    "    model_list = []\n",
    "    for num_topics in range(start, limit, step):\n",
    "        model = gensim.models.wrappers.LdaMallet(mallet_path, corpus=corpus, num_topics=num_topics, id2word=id2word)\n",
    "        model_list.append(model)\n",
    "        coherencemodel = CoherenceModel(model=model, texts=texts, dictionary=dictionary, coherence='c_v')\n",
    "        coherence_values.append(coherencemodel.get_coherence())\n",
    "\n",
    "    return model_list, coherence_values"
   ]
  },
  {
   "cell_type": "code",
   "execution_count": 30,
   "metadata": {},
   "outputs": [
    {
     "name": "stdout",
     "output_type": "stream",
     "text": [
      "CPU times: user 0 ns, sys: 0 ns, total: 0 ns\n",
      "Wall time: 15.7 µs\n"
     ]
    }
   ],
   "source": [
    "# Can take a long time to run.\n",
    "#%%time\n",
    "import timeit\n",
    "start_time = timeit.default_timer()\n",
    "\n",
    "model_list, coherence_values = compute_coherence_values(dictionary=id2word, corpus=corpus, texts=data_lemmatized, start=2, limit=40, step=6)\n",
    "\n",
    "elapsed = timeit.default_timer() - start_time\n",
    "print(elapsed)"
   ]
  },
  {
   "cell_type": "code",
   "execution_count": 31,
   "metadata": {},
   "outputs": [
    {
     "data": {
      "image/png": "[encoded data removed]",
      "text/plain": [
       "<matplotlib.figure.Figure at 0x7fbe972d6b38>"
      ]
     },
     "metadata": {},
     "output_type": "display_data"
    }
   ],
   "source": [
    "limit=40; start=2; step=6;\n",
    "x = range(start, limit, step)\n",
    "plt.plot(x, coherence_values)\n",
    "plt.xlabel(\"Num Topics\")\n",
    "plt.ylabel(\"Coherence score\")\n",
    "plt.legend((\"coherence_values\"), loc='best')\n",
    "plt.show()"
   ]
  },
  {
   "cell_type": "code",
   "execution_count": 32,
   "metadata": {},
   "outputs": [
    {
     "name": "stdout",
     "output_type": "stream",
     "text": [
      "Num Topics = 2  has Coherence Value of 0.4364\n",
      "Num Topics = 8  has Coherence Value of 0.6056\n",
      "Num Topics = 14  has Coherence Value of 0.6151\n",
      "Num Topics = 20  has Coherence Value of 0.6301\n",
      "Num Topics = 26  has Coherence Value of 0.6419\n",
      "Num Topics = 32  has Coherence Value of 0.6223\n",
      "Num Topics = 38  has Coherence Value of 0.6425\n"
     ]
    }
   ],
   "source": [
    "for m, cv in zip(x, coherence_values):\n",
    "    print(\"Num Topics =\", m, \" has Coherence Value of\", round(cv, 4))"
   ]
  },
  {
   "cell_type": "code",
   "execution_count": 50,
   "metadata": {
    "scrolled": true
   },
   "outputs": [
    {
     "name": "stdout",
     "output_type": "stream",
     "text": [
      "[(0,\n",
      "  '0.054*\"_\" + 0.022*\"organization\" + 0.020*\"line\" + 0.017*\"ca\" + '\n",
      "  '0.007*\"newsreader_tin\" + 0.006*\"air\" + 0.006*\"cx\" + 0.005*\"cd\" + 0.004*\"ad\" '\n",
      "  '+ 0.004*\"md\"'),\n",
      " (1,\n",
      "  '0.023*\"drive\" + 0.017*\"card\" + 0.016*\"problem\" + 0.015*\"system\" + '\n",
      "  '0.012*\"scsi\" + 0.012*\"driver\" + 0.011*\"mac\" + 0.011*\"window\" + 0.010*\"work\" '\n",
      "  '+ 0.009*\"bit\"'),\n",
      " (2,\n",
      "  '0.009*\"drug\" + 0.008*\"study\" + 0.007*\"line\" + 0.007*\"food\" + '\n",
      "  '0.007*\"organization\" + 0.006*\"article\" + 0.006*\"problem\" + 0.006*\"research\" '\n",
      "  '+ 0.006*\"year\" + 0.006*\"doctor\"'),\n",
      " (3,\n",
      "  '0.015*\"question\" + 0.013*\"point\" + 0.012*\"exist\" + 0.011*\"claim\" + '\n",
      "  '0.010*\"reason\" + 0.010*\"true\" + 0.009*\"thing\" + 0.009*\"make\" + '\n",
      "  '0.009*\"argument\" + 0.009*\"write\"'),\n",
      " (4,\n",
      "  '0.026*\"game\" + 0.019*\"team\" + 0.016*\"year\" + 0.015*\"play\" + 0.013*\"player\" '\n",
      "  '+ 0.012*\"win\" + 0.008*\"season\" + 0.008*\"good\" + 0.007*\"hockey\" + '\n",
      "  '0.007*\"fan\"'),\n",
      " (5,\n",
      "  '0.011*\"make\" + 0.011*\"work\" + 0.010*\"year\" + 0.010*\"money\" + '\n",
      "  '0.010*\"president\" + 0.010*\"people\" + 0.009*\"pay\" + 0.008*\"job\" + '\n",
      "  '0.007*\"american\" + 0.006*\"bill\"'),\n",
      " (6,\n",
      "  '0.032*\"key\" + 0.013*\"system\" + 0.011*\"encryption\" + 0.010*\"chip\" + '\n",
      "  '0.010*\"bit\" + 0.009*\"technology\" + 0.009*\"security\" + 0.008*\"government\" + '\n",
      "  '0.008*\"message\" + 0.007*\"phone\"'),\n",
      " (7,\n",
      "  '0.012*\"write\" + 0.011*\"israel\" + 0.010*\"war\" + 0.009*\"world\" + '\n",
      "  '0.009*\"israeli\" + 0.009*\"state\" + 0.009*\"jew\" + 0.008*\"arab\" + '\n",
      "  '0.008*\"people\" + 0.007*\"article\"'),\n",
      " (8,\n",
      "  '0.029*\"car\" + 0.023*\"gun\" + 0.009*\"buy\" + 0.008*\"good\" + 0.007*\"firearm\" + '\n",
      "  '0.007*\"drive\" + 0.007*\"weapon\" + 0.007*\"article\" + 0.006*\"engine\" + '\n",
      "  '0.006*\"high\"'),\n",
      " (9,\n",
      "  '0.025*\"people\" + 0.020*\"law\" + 0.018*\"state\" + 0.011*\"write\" + 0.010*\"case\" '\n",
      "  '+ 0.010*\"article\" + 0.008*\"make\" + 0.008*\"person\" + 0.007*\"government\" + '\n",
      "  '0.006*\"issue\"'),\n",
      " (10,\n",
      "  '0.018*\"post\" + 0.018*\"information\" + 0.016*\"mail\" + 0.016*\"send\" + '\n",
      "  '0.014*\"list\" + 0.013*\"file\" + 0.013*\"include\" + 0.011*\"address\" + '\n",
      "  '0.010*\"internet\" + 0.010*\"group\"'),\n",
      " (11,\n",
      "  '0.023*\"space\" + 0.010*\"line\" + 0.008*\"program\" + 0.007*\"year\" + '\n",
      "  '0.007*\"entry\" + 0.007*\"launch\" + 0.006*\"build\" + 0.006*\"earth\" + '\n",
      "  '0.006*\"nasa\" + 0.005*\"project\"'),\n",
      " (12,\n",
      "  '0.020*\"window\" + 0.016*\"file\" + 0.012*\"program\" + 0.011*\"image\" + '\n",
      "  '0.010*\"display\" + 0.009*\"version\" + 0.008*\"run\" + 0.008*\"set\" + '\n",
      "  '0.008*\"server\" + 0.008*\"graphic\"'),\n",
      " (13,\n",
      "  '0.108*\"write\" + 0.098*\"article\" + 0.097*\"line\" + 0.097*\"organization\" + '\n",
      "  '0.078*\"nntp_post\" + 0.069*\"host\" + 0.030*\"reply\" + 0.020*\"university\" + '\n",
      "  '0.014*\"distribution_world\" + 0.012*\"usa\"'),\n",
      " (14,\n",
      "  '0.011*\"bike\" + 0.011*\"line\" + 0.008*\"power\" + 0.007*\"work\" + '\n",
      "  '0.006*\"organization\" + 0.006*\"ground\" + 0.006*\"light\" + 0.006*\"box\" + '\n",
      "  '0.006*\"dod\" + 0.006*\"wire\"'),\n",
      " (15,\n",
      "  '0.044*\"good\" + 0.029*\"time\" + 0.024*\"make\" + 0.023*\"thing\" + 0.015*\"bad\" + '\n",
      "  '0.014*\"back\" + 0.014*\"put\" + 0.013*\"lot\" + 0.010*\"write\" + 0.010*\"leave\"'),\n",
      " (16,\n",
      "  '0.066*\"university\" + 0.063*\"organization\" + 0.061*\"line\" + 0.012*\"mail\" + '\n",
      "  '0.011*\"david\" + 0.010*\"sale\" + 0.008*\"keyword\" + 0.008*\"computer_science\" + '\n",
      "  '0.008*\"host\" + 0.008*\"advance\"'),\n",
      " (17,\n",
      "  '0.018*\"armenian\" + 0.016*\"people\" + 0.009*\"kill\" + 0.007*\"turkish\" + '\n",
      "  '0.006*\"woman\" + 0.006*\"happen\" + 0.006*\"live\" + 0.006*\"turk\" + 0.006*\"time\" '\n",
      "  '+ 0.006*\"fire\"'),\n",
      " (18,\n",
      "  '0.853*\"ax\" + 0.062*\"max\" + 0.002*\"tm\" + 0.002*\"qax\" + 0.001*\"giz\" + '\n",
      "  '0.001*\"mf\" + 0.001*\"_\" + 0.001*\"ml\" + 0.001*\"wm_wm\" + 0.001*\"gq\"'),\n",
      " (19,\n",
      "  '0.019*\"god\" + 0.018*\"christian\" + 0.010*\"people\" + 0.009*\"bible\" + '\n",
      "  '0.008*\"church\" + 0.008*\"man\" + 0.008*\"word\" + 0.007*\"love\" + 0.006*\"book\" + '\n",
      "  '0.006*\"life\"')]\n"
     ]
    }
   ],
   "source": [
    "optimal_model = model_list[3]\n",
    "model_topics = optimal_model.show_topics(formatted=False)\n",
    "pprint(optimal_model.print_topics(num_words=10))"
   ]
  },
  {
   "cell_type": "markdown",
   "metadata": {},
   "source": [
    "### Finding the dominant topic in each sentence"
   ]
  },
  {
   "cell_type": "code",
   "execution_count": 51,
   "metadata": {},
   "outputs": [
    {
     "data": {
      "text/html": [
       "<div>\n",
       "<style>\n",
       "    .dataframe thead tr:only-child th {\n",
       "        text-align: right;\n",
       "    }\n",
       "\n",
       "    .dataframe thead th {\n",
       "        text-align: left;\n",
       "    }\n",
       "\n",
       "    .dataframe tbody tr th {\n",
       "        vertical-align: top;\n",
       "    }\n",
       "</style>\n",
       "<table border=\"1\" class=\"dataframe\">\n",
       "  <thead>\n",
       "    <tr style=\"text-align: right;\">\n",
       "      <th></th>\n",
       "      <th>Document_No</th>\n",
       "      <th>Dominant_Topic</th>\n",
       "      <th>Topic_Perc_Contrib</th>\n",
       "      <th>Keywords</th>\n",
       "      <th>Text</th>\n",
       "    </tr>\n",
       "  </thead>\n",
       "  <tbody>\n",
       "    <tr>\n",
       "      <th>0</th>\n",
       "      <td>0</td>\n",
       "      <td>8.0</td>\n",
       "      <td>0.2170</td>\n",
       "      <td>car, gun, buy, good, firearm, drive, weapon, a...</td>\n",
       "      <td>From: (wheres my thing) Subject: WHAT car is t...</td>\n",
       "    </tr>\n",
       "    <tr>\n",
       "      <th>1</th>\n",
       "      <td>1</td>\n",
       "      <td>1.0</td>\n",
       "      <td>0.2010</td>\n",
       "      <td>drive, card, problem, system, scsi, driver, ma...</td>\n",
       "      <td>From: (Guy Kuo) Subject: SI Clock Poll - Final...</td>\n",
       "    </tr>\n",
       "    <tr>\n",
       "      <th>2</th>\n",
       "      <td>2</td>\n",
       "      <td>14.0</td>\n",
       "      <td>0.2007</td>\n",
       "      <td>bike, line, power, work, organization, ground,...</td>\n",
       "      <td>From: (Irwin Arnstein) Subject: Re: Recommenda...</td>\n",
       "    </tr>\n",
       "    <tr>\n",
       "      <th>3</th>\n",
       "      <td>3</td>\n",
       "      <td>12.0</td>\n",
       "      <td>0.3602</td>\n",
       "      <td>window, file, program, image, display, version...</td>\n",
       "      <td>From: (Tsung-Kun Chen) Subject: ** Software fo...</td>\n",
       "    </tr>\n",
       "    <tr>\n",
       "      <th>4</th>\n",
       "      <td>4</td>\n",
       "      <td>1.0</td>\n",
       "      <td>0.2332</td>\n",
       "      <td>drive, card, problem, system, scsi, driver, ma...</td>\n",
       "      <td>From: (Don A.B. Lindbergh) Subject: Diamond SS...</td>\n",
       "    </tr>\n",
       "    <tr>\n",
       "      <th>5</th>\n",
       "      <td>5</td>\n",
       "      <td>8.0</td>\n",
       "      <td>0.4152</td>\n",
       "      <td>car, gun, buy, good, firearm, drive, weapon, a...</td>\n",
       "      <td>From: (Robert Loper) Subject: Re: SHO and SC N...</td>\n",
       "    </tr>\n",
       "    <tr>\n",
       "      <th>6</th>\n",
       "      <td>6</td>\n",
       "      <td>13.0</td>\n",
       "      <td>0.1548</td>\n",
       "      <td>write, article, line, organization, nntp_post,...</td>\n",
       "      <td>From: (Kim Richard Man) Subject: SyQuest 44M c...</td>\n",
       "    </tr>\n",
       "    <tr>\n",
       "      <th>7</th>\n",
       "      <td>7</td>\n",
       "      <td>10.0</td>\n",
       "      <td>0.1733</td>\n",
       "      <td>post, information, mail, send, list, file, inc...</td>\n",
       "      <td>From: (Kirtley Wilson) Subject: Mirosoft Offic...</td>\n",
       "    </tr>\n",
       "    <tr>\n",
       "      <th>8</th>\n",
       "      <td>8</td>\n",
       "      <td>9.0</td>\n",
       "      <td>0.1875</td>\n",
       "      <td>people, law, state, write, case, article, make...</td>\n",
       "      <td>Subject: Re: Dont more innocents die without t...</td>\n",
       "    </tr>\n",
       "    <tr>\n",
       "      <th>9</th>\n",
       "      <td>9</td>\n",
       "      <td>3.0</td>\n",
       "      <td>0.3928</td>\n",
       "      <td>question, point, exist, claim, reason, true, t...</td>\n",
       "      <td>From: (Jon Livesey) Subject: Re: Genocide is C...</td>\n",
       "    </tr>\n",
       "  </tbody>\n",
       "</table>\n",
       "</div>"
      ],
      "text/plain": [
       "   Document_No  Dominant_Topic  Topic_Perc_Contrib  \\\n",
       "0            0             8.0              0.2170   \n",
       "1            1             1.0              0.2010   \n",
       "2            2            14.0              0.2007   \n",
       "3            3            12.0              0.3602   \n",
       "4            4             1.0              0.2332   \n",
       "5            5             8.0              0.4152   \n",
       "6            6            13.0              0.1548   \n",
       "7            7            10.0              0.1733   \n",
       "8            8             9.0              0.1875   \n",
       "9            9             3.0              0.3928   \n",
       "\n",
       "                                            Keywords  \\\n",
       "0  car, gun, buy, good, firearm, drive, weapon, a...   \n",
       "1  drive, card, problem, system, scsi, driver, ma...   \n",
       "2  bike, line, power, work, organization, ground,...   \n",
       "3  window, file, program, image, display, version...   \n",
       "4  drive, card, problem, system, scsi, driver, ma...   \n",
       "5  car, gun, buy, good, firearm, drive, weapon, a...   \n",
       "6  write, article, line, organization, nntp_post,...   \n",
       "7  post, information, mail, send, list, file, inc...   \n",
       "8  people, law, state, write, case, article, make...   \n",
       "9  question, point, exist, claim, reason, true, t...   \n",
       "\n",
       "                                                Text  \n",
       "0  From: (wheres my thing) Subject: WHAT car is t...  \n",
       "1  From: (Guy Kuo) Subject: SI Clock Poll - Final...  \n",
       "2  From: (Irwin Arnstein) Subject: Re: Recommenda...  \n",
       "3  From: (Tsung-Kun Chen) Subject: ** Software fo...  \n",
       "4  From: (Don A.B. Lindbergh) Subject: Diamond SS...  \n",
       "5  From: (Robert Loper) Subject: Re: SHO and SC N...  \n",
       "6  From: (Kim Richard Man) Subject: SyQuest 44M c...  \n",
       "7  From: (Kirtley Wilson) Subject: Mirosoft Offic...  \n",
       "8  Subject: Re: Dont more innocents die without t...  \n",
       "9  From: (Jon Livesey) Subject: Re: Genocide is C...  "
      ]
     },
     "execution_count": 51,
     "metadata": {},
     "output_type": "execute_result"
    }
   ],
   "source": [
    "def format_topics_sentences(ldamodel=lda_model, corpus=corpus, texts=data):\n",
    "    # Init output\n",
    "    sent_topics_df = pd.DataFrame()\n",
    "\n",
    "    # Get main topic in each document\n",
    "    for i, row in enumerate(ldamodel[corpus]):\n",
    "        row = sorted(row, key=lambda x: (x[1]), reverse=True)\n",
    "        # Get the Dominant topic, Perc Contribution and Keywords for each document\n",
    "        for j, (topic_num, prop_topic) in enumerate(row):\n",
    "            if j == 0:  # => dominant topic\n",
    "                wp = ldamodel.show_topic(topic_num)\n",
    "                topic_keywords = \", \".join([word for word, prop in wp])\n",
    "                sent_topics_df = sent_topics_df.append(pd.Series([int(topic_num), round(prop_topic,4), topic_keywords]), ignore_index=True)\n",
    "            else:\n",
    "                break\n",
    "    sent_topics_df.columns = ['Dominant_Topic', 'Perc_Contribution', 'Topic_Keywords']\n",
    "\n",
    "    # Add original text to the end of the output\n",
    "    contents = pd.Series(texts)\n",
    "    sent_topics_df = pd.concat([sent_topics_df, contents], axis=1)\n",
    "    return(sent_topics_df)\n",
    "\n",
    "\n",
    "df_topic_sents_keywords = format_topics_sentences(ldamodel=optimal_model, corpus=corpus, texts=data)\n",
    "\n",
    "# Format\n",
    "df_dominant_topic = df_topic_sents_keywords.reset_index()\n",
    "df_dominant_topic.columns = ['Document_No', 'Dominant_Topic', 'Topic_Perc_Contrib', 'Keywords', 'Text']\n",
    "\n",
    "# Show\n",
    "df_dominant_topic.head(10)"
   ]
  },
  {
   "cell_type": "markdown",
   "metadata": {},
   "source": [
    "### Topic distribution across documents"
   ]
  },
  {
   "cell_type": "code",
   "execution_count": 56,
   "metadata": {
    "scrolled": false
   },
   "outputs": [
    {
     "data": {
      "text/html": [
       "<div>\n",
       "<style>\n",
       "    .dataframe thead tr:only-child th {\n",
       "        text-align: right;\n",
       "    }\n",
       "\n",
       "    .dataframe thead th {\n",
       "        text-align: left;\n",
       "    }\n",
       "\n",
       "    .dataframe tbody tr th {\n",
       "        vertical-align: top;\n",
       "    }\n",
       "</style>\n",
       "<table border=\"1\" class=\"dataframe\">\n",
       "  <thead>\n",
       "    <tr style=\"text-align: right;\">\n",
       "      <th></th>\n",
       "      <th>Dominant_Topic</th>\n",
       "      <th>Topic_Keywords</th>\n",
       "      <th>Num_Documents</th>\n",
       "      <th>Perc_Documents</th>\n",
       "    </tr>\n",
       "  </thead>\n",
       "  <tbody>\n",
       "    <tr>\n",
       "      <th>0</th>\n",
       "      <td>8.0</td>\n",
       "      <td>car, gun, buy, good, firearm, drive, weapon, a...</td>\n",
       "      <td>135.0</td>\n",
       "      <td>0.0119</td>\n",
       "    </tr>\n",
       "    <tr>\n",
       "      <th>1</th>\n",
       "      <td>1.0</td>\n",
       "      <td>drive, card, problem, system, scsi, driver, ma...</td>\n",
       "      <td>1414.0</td>\n",
       "      <td>0.1250</td>\n",
       "    </tr>\n",
       "    <tr>\n",
       "      <th>2</th>\n",
       "      <td>14.0</td>\n",
       "      <td>bike, line, power, work, organization, ground,...</td>\n",
       "      <td>546.0</td>\n",
       "      <td>0.0483</td>\n",
       "    </tr>\n",
       "    <tr>\n",
       "      <th>3</th>\n",
       "      <td>12.0</td>\n",
       "      <td>window, file, program, image, display, version...</td>\n",
       "      <td>462.0</td>\n",
       "      <td>0.0408</td>\n",
       "    </tr>\n",
       "    <tr>\n",
       "      <th>4</th>\n",
       "      <td>1.0</td>\n",
       "      <td>drive, card, problem, system, scsi, driver, ma...</td>\n",
       "      <td>1057.0</td>\n",
       "      <td>0.0934</td>\n",
       "    </tr>\n",
       "  </tbody>\n",
       "</table>\n",
       "</div>"
      ],
      "text/plain": [
       "   Dominant_Topic                                     Topic_Keywords  \\\n",
       "0             8.0  car, gun, buy, good, firearm, drive, weapon, a...   \n",
       "1             1.0  drive, card, problem, system, scsi, driver, ma...   \n",
       "2            14.0  bike, line, power, work, organization, ground,...   \n",
       "3            12.0  window, file, program, image, display, version...   \n",
       "4             1.0  drive, card, problem, system, scsi, driver, ma...   \n",
       "\n",
       "   Num_Documents  Perc_Documents  \n",
       "0          135.0          0.0119  \n",
       "1         1414.0          0.1250  \n",
       "2          546.0          0.0483  \n",
       "3          462.0          0.0408  \n",
       "4         1057.0          0.0934  "
      ]
     },
     "execution_count": 56,
     "metadata": {},
     "output_type": "execute_result"
    }
   ],
   "source": [
    "# Number of Documents for Each Topic\n",
    "topic_counts = df_topic_sents_keywords['Dominant_Topic'].value_counts()\n",
    "\n",
    "# Percentage of Documents for Each Topic\n",
    "topic_contribution = round(topic_counts/topic_counts.sum(), 4)\n",
    "\n",
    "# Topic Number and Keywords\n",
    "topic_num_keywords = df_topic_sents_keywords[['Dominant_Topic', 'Topic_Keywords']]\n",
    "\n",
    "# Concatenate Column wise\n",
    "df_dominant_topics = pd.concat([topic_num_keywords, topic_counts, topic_contribution], axis=1)\n",
    "\n",
    "# Change Column names\n",
    "df_dominant_topics.columns = ['Dominant_Topic', 'Topic_Keywords', 'Num_Documents', 'Perc_Documents']\n",
    "\n",
    "# Show\n",
    "df_dominant_topics.head()"
   ]
  },
  {
   "cell_type": "code",
   "execution_count": null,
   "metadata": {
    "collapsed": true
   },
   "outputs": [],
   "source": []
  }
 ],
 "metadata": {
  "kernelspec": {
   "display_name": "Python 3",
   "language": "python",
   "name": "python3"
  },
  "language_info": {
   "codemirror_mode": {
    "name": "ipython",
    "version": 3
   },
   "file_extension": ".py",
   "mimetype": "text/x-python",
   "name": "python",
   "nbconvert_exporter": "python",
   "pygments_lexer": "ipython3",
   "version": "3.5.2"
  }
 },
 "nbformat": 4,
 "nbformat_minor": 2
}
